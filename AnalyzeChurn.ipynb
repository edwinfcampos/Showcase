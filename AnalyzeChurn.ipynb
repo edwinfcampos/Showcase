{
 "cells": [
  {
   "cell_type": "markdown",
   "metadata": {},
   "source": [
    "# Churn Analysis at a Telecom Provider\n",
    "This outputs a machine learning model that predicts the probability that an existing client will churn.\n",
    "\n",
    "Objective:\n",
    "Using a csv that contains information about customers, including whether they churned, craft a strategy to help her decrease churn.\n",
    "\n",
    "> Who: Consulting client from a telecom provider.\n",
    "\n",
    "> What: Tool to predict churn\n",
    "\n",
    "> Why: Get actionable insight on how to decrease revenue lost to churn\n",
    "\n",
    "Created by Edwin Campos on 2021 Nov.28.\n",
    "Last modification on 2021 Nov.27 by ecampos.phd@gmail.com"
   ]
  },
  {
   "cell_type": "code",
   "execution_count": 1,
   "metadata": {},
   "outputs": [],
   "source": [
    "# Dependencies\n",
    "import pandas as pd\n",
    "import seaborn as sns\n",
    "import matplotlib.pyplot as plt\n",
    "import numpy as np\n",
    "from sklearn.metrics import accuracy_score, precision_score, recall_score, f1_score\n",
    "#import pickle"
   ]
  },
  {
   "cell_type": "code",
   "execution_count": 2,
   "metadata": {},
   "outputs": [],
   "source": [
    "# Global Variables\n",
    "INPUT_PATH = './'\n",
    "INPUT_FILE = 'telecom_users.csv'\n",
    "TARGET = 'Churn'   # Column in dataframe with target values, Leave:Yes, Stay:No"
   ]
  },
  {
   "cell_type": "markdown",
   "metadata": {},
   "source": [
    "## Ingest Input dataset"
   ]
  },
  {
   "cell_type": "code",
   "execution_count": 3,
   "metadata": {},
   "outputs": [
    {
     "name": "stdout",
     "output_type": "stream",
     "text": [
      "(5986, 22)\n",
      "Index(['Unnamed: 0', 'customerID', 'gender', 'SeniorCitizen', 'Partner',\n",
      "       'Dependents', 'tenure', 'PhoneService', 'MultipleLines',\n",
      "       'InternetService', 'OnlineSecurity', 'OnlineBackup', 'DeviceProtection',\n",
      "       'TechSupport', 'StreamingTV', 'StreamingMovies', 'Contract',\n",
      "       'PaperlessBilling', 'PaymentMethod', 'MonthlyCharges', 'TotalCharges',\n",
      "       'Churn'],\n",
      "      dtype='object')\n"
     ]
    }
   ],
   "source": [
    "df_all=pd.read_csv(INPUT_PATH+INPUT_FILE, low_memory=False, na_values=' ')\n",
    "print(df_all.shape)\n",
    "print(df_all.columns)"
   ]
  },
  {
   "cell_type": "markdown",
   "metadata": {},
   "source": [
    "## Eliminate Columns based on ethical reasons"
   ]
  },
  {
   "cell_type": "code",
   "execution_count": 4,
   "metadata": {},
   "outputs": [
    {
     "data": {
      "text/html": [
       "<div>\n",
       "<style scoped>\n",
       "    .dataframe tbody tr th:only-of-type {\n",
       "        vertical-align: middle;\n",
       "    }\n",
       "\n",
       "    .dataframe tbody tr th {\n",
       "        vertical-align: top;\n",
       "    }\n",
       "\n",
       "    .dataframe thead th {\n",
       "        text-align: right;\n",
       "    }\n",
       "</style>\n",
       "<table border=\"1\" class=\"dataframe\">\n",
       "  <thead>\n",
       "    <tr style=\"text-align: right;\">\n",
       "      <th></th>\n",
       "      <th>Unnamed: 0</th>\n",
       "      <th>customerID</th>\n",
       "      <th>Partner</th>\n",
       "      <th>Dependents</th>\n",
       "      <th>tenure</th>\n",
       "      <th>PhoneService</th>\n",
       "      <th>MultipleLines</th>\n",
       "      <th>InternetService</th>\n",
       "      <th>OnlineSecurity</th>\n",
       "      <th>OnlineBackup</th>\n",
       "      <th>DeviceProtection</th>\n",
       "      <th>TechSupport</th>\n",
       "      <th>StreamingTV</th>\n",
       "      <th>StreamingMovies</th>\n",
       "      <th>Contract</th>\n",
       "      <th>PaperlessBilling</th>\n",
       "      <th>PaymentMethod</th>\n",
       "      <th>MonthlyCharges</th>\n",
       "      <th>TotalCharges</th>\n",
       "      <th>Churn</th>\n",
       "    </tr>\n",
       "  </thead>\n",
       "  <tbody>\n",
       "    <tr>\n",
       "      <th>0</th>\n",
       "      <td>1869</td>\n",
       "      <td>7010-BRBUU</td>\n",
       "      <td>Yes</td>\n",
       "      <td>Yes</td>\n",
       "      <td>72</td>\n",
       "      <td>Yes</td>\n",
       "      <td>Yes</td>\n",
       "      <td>No</td>\n",
       "      <td>No internet service</td>\n",
       "      <td>No internet service</td>\n",
       "      <td>No internet service</td>\n",
       "      <td>No internet service</td>\n",
       "      <td>No internet service</td>\n",
       "      <td>No internet service</td>\n",
       "      <td>Two year</td>\n",
       "      <td>No</td>\n",
       "      <td>Credit card (automatic)</td>\n",
       "      <td>24.10</td>\n",
       "      <td>1734.65</td>\n",
       "      <td>No</td>\n",
       "    </tr>\n",
       "    <tr>\n",
       "      <th>1</th>\n",
       "      <td>4528</td>\n",
       "      <td>9688-YGXVR</td>\n",
       "      <td>No</td>\n",
       "      <td>No</td>\n",
       "      <td>44</td>\n",
       "      <td>Yes</td>\n",
       "      <td>No</td>\n",
       "      <td>Fiber optic</td>\n",
       "      <td>No</td>\n",
       "      <td>Yes</td>\n",
       "      <td>Yes</td>\n",
       "      <td>No</td>\n",
       "      <td>Yes</td>\n",
       "      <td>No</td>\n",
       "      <td>Month-to-month</td>\n",
       "      <td>Yes</td>\n",
       "      <td>Credit card (automatic)</td>\n",
       "      <td>88.15</td>\n",
       "      <td>3973.20</td>\n",
       "      <td>No</td>\n",
       "    </tr>\n",
       "    <tr>\n",
       "      <th>2</th>\n",
       "      <td>6344</td>\n",
       "      <td>9286-DOJGF</td>\n",
       "      <td>Yes</td>\n",
       "      <td>No</td>\n",
       "      <td>38</td>\n",
       "      <td>Yes</td>\n",
       "      <td>Yes</td>\n",
       "      <td>Fiber optic</td>\n",
       "      <td>No</td>\n",
       "      <td>No</td>\n",
       "      <td>No</td>\n",
       "      <td>No</td>\n",
       "      <td>No</td>\n",
       "      <td>No</td>\n",
       "      <td>Month-to-month</td>\n",
       "      <td>Yes</td>\n",
       "      <td>Bank transfer (automatic)</td>\n",
       "      <td>74.95</td>\n",
       "      <td>2869.85</td>\n",
       "      <td>Yes</td>\n",
       "    </tr>\n",
       "    <tr>\n",
       "      <th>3</th>\n",
       "      <td>6739</td>\n",
       "      <td>6994-KERXL</td>\n",
       "      <td>No</td>\n",
       "      <td>No</td>\n",
       "      <td>4</td>\n",
       "      <td>Yes</td>\n",
       "      <td>No</td>\n",
       "      <td>DSL</td>\n",
       "      <td>No</td>\n",
       "      <td>No</td>\n",
       "      <td>No</td>\n",
       "      <td>No</td>\n",
       "      <td>No</td>\n",
       "      <td>Yes</td>\n",
       "      <td>Month-to-month</td>\n",
       "      <td>Yes</td>\n",
       "      <td>Electronic check</td>\n",
       "      <td>55.90</td>\n",
       "      <td>238.50</td>\n",
       "      <td>No</td>\n",
       "    </tr>\n",
       "    <tr>\n",
       "      <th>4</th>\n",
       "      <td>432</td>\n",
       "      <td>2181-UAESM</td>\n",
       "      <td>No</td>\n",
       "      <td>No</td>\n",
       "      <td>2</td>\n",
       "      <td>Yes</td>\n",
       "      <td>No</td>\n",
       "      <td>DSL</td>\n",
       "      <td>Yes</td>\n",
       "      <td>No</td>\n",
       "      <td>Yes</td>\n",
       "      <td>No</td>\n",
       "      <td>No</td>\n",
       "      <td>No</td>\n",
       "      <td>Month-to-month</td>\n",
       "      <td>No</td>\n",
       "      <td>Electronic check</td>\n",
       "      <td>53.45</td>\n",
       "      <td>119.50</td>\n",
       "      <td>No</td>\n",
       "    </tr>\n",
       "  </tbody>\n",
       "</table>\n",
       "</div>"
      ],
      "text/plain": [
       "   Unnamed: 0  customerID Partner Dependents  tenure PhoneService  \\\n",
       "0        1869  7010-BRBUU     Yes        Yes      72          Yes   \n",
       "1        4528  9688-YGXVR      No         No      44          Yes   \n",
       "2        6344  9286-DOJGF     Yes         No      38          Yes   \n",
       "3        6739  6994-KERXL      No         No       4          Yes   \n",
       "4         432  2181-UAESM      No         No       2          Yes   \n",
       "\n",
       "  MultipleLines InternetService       OnlineSecurity         OnlineBackup  \\\n",
       "0           Yes              No  No internet service  No internet service   \n",
       "1            No     Fiber optic                   No                  Yes   \n",
       "2           Yes     Fiber optic                   No                   No   \n",
       "3            No             DSL                   No                   No   \n",
       "4            No             DSL                  Yes                   No   \n",
       "\n",
       "      DeviceProtection          TechSupport          StreamingTV  \\\n",
       "0  No internet service  No internet service  No internet service   \n",
       "1                  Yes                   No                  Yes   \n",
       "2                   No                   No                   No   \n",
       "3                   No                   No                   No   \n",
       "4                  Yes                   No                   No   \n",
       "\n",
       "       StreamingMovies        Contract PaperlessBilling  \\\n",
       "0  No internet service        Two year               No   \n",
       "1                   No  Month-to-month              Yes   \n",
       "2                   No  Month-to-month              Yes   \n",
       "3                  Yes  Month-to-month              Yes   \n",
       "4                   No  Month-to-month               No   \n",
       "\n",
       "               PaymentMethod  MonthlyCharges  TotalCharges Churn  \n",
       "0    Credit card (automatic)           24.10       1734.65    No  \n",
       "1    Credit card (automatic)           88.15       3973.20    No  \n",
       "2  Bank transfer (automatic)           74.95       2869.85   Yes  \n",
       "3           Electronic check           55.90        238.50    No  \n",
       "4           Electronic check           53.45        119.50    No  "
      ]
     },
     "execution_count": 4,
     "metadata": {},
     "output_type": "execute_result"
    }
   ],
   "source": [
    "df_all.drop(['gender', 'SeniorCitizen'], axis=1, inplace=True)\n",
    "df_all.head()"
   ]
  },
  {
   "cell_type": "markdown",
   "metadata": {},
   "source": [
    "## Eliminate Columns in which the client has no option to change outcome\n",
    "The goal here is to simplify the model"
   ]
  },
  {
   "cell_type": "code",
   "execution_count": 5,
   "metadata": {
    "scrolled": true
   },
   "outputs": [
    {
     "data": {
      "text/html": [
       "<div>\n",
       "<style scoped>\n",
       "    .dataframe tbody tr th:only-of-type {\n",
       "        vertical-align: middle;\n",
       "    }\n",
       "\n",
       "    .dataframe tbody tr th {\n",
       "        vertical-align: top;\n",
       "    }\n",
       "\n",
       "    .dataframe thead th {\n",
       "        text-align: right;\n",
       "    }\n",
       "</style>\n",
       "<table border=\"1\" class=\"dataframe\">\n",
       "  <thead>\n",
       "    <tr style=\"text-align: right;\">\n",
       "      <th></th>\n",
       "      <th>Unnamed: 0</th>\n",
       "      <th>customerID</th>\n",
       "      <th>tenure</th>\n",
       "      <th>PhoneService</th>\n",
       "      <th>MultipleLines</th>\n",
       "      <th>InternetService</th>\n",
       "      <th>OnlineSecurity</th>\n",
       "      <th>OnlineBackup</th>\n",
       "      <th>DeviceProtection</th>\n",
       "      <th>TechSupport</th>\n",
       "      <th>StreamingTV</th>\n",
       "      <th>StreamingMovies</th>\n",
       "      <th>Contract</th>\n",
       "      <th>PaperlessBilling</th>\n",
       "      <th>PaymentMethod</th>\n",
       "      <th>MonthlyCharges</th>\n",
       "      <th>TotalCharges</th>\n",
       "      <th>Churn</th>\n",
       "    </tr>\n",
       "  </thead>\n",
       "  <tbody>\n",
       "    <tr>\n",
       "      <th>0</th>\n",
       "      <td>1869</td>\n",
       "      <td>7010-BRBUU</td>\n",
       "      <td>72</td>\n",
       "      <td>Yes</td>\n",
       "      <td>Yes</td>\n",
       "      <td>No</td>\n",
       "      <td>No internet service</td>\n",
       "      <td>No internet service</td>\n",
       "      <td>No internet service</td>\n",
       "      <td>No internet service</td>\n",
       "      <td>No internet service</td>\n",
       "      <td>No internet service</td>\n",
       "      <td>Two year</td>\n",
       "      <td>No</td>\n",
       "      <td>Credit card (automatic)</td>\n",
       "      <td>24.10</td>\n",
       "      <td>1734.65</td>\n",
       "      <td>No</td>\n",
       "    </tr>\n",
       "    <tr>\n",
       "      <th>1</th>\n",
       "      <td>4528</td>\n",
       "      <td>9688-YGXVR</td>\n",
       "      <td>44</td>\n",
       "      <td>Yes</td>\n",
       "      <td>No</td>\n",
       "      <td>Fiber optic</td>\n",
       "      <td>No</td>\n",
       "      <td>Yes</td>\n",
       "      <td>Yes</td>\n",
       "      <td>No</td>\n",
       "      <td>Yes</td>\n",
       "      <td>No</td>\n",
       "      <td>Month-to-month</td>\n",
       "      <td>Yes</td>\n",
       "      <td>Credit card (automatic)</td>\n",
       "      <td>88.15</td>\n",
       "      <td>3973.20</td>\n",
       "      <td>No</td>\n",
       "    </tr>\n",
       "    <tr>\n",
       "      <th>2</th>\n",
       "      <td>6344</td>\n",
       "      <td>9286-DOJGF</td>\n",
       "      <td>38</td>\n",
       "      <td>Yes</td>\n",
       "      <td>Yes</td>\n",
       "      <td>Fiber optic</td>\n",
       "      <td>No</td>\n",
       "      <td>No</td>\n",
       "      <td>No</td>\n",
       "      <td>No</td>\n",
       "      <td>No</td>\n",
       "      <td>No</td>\n",
       "      <td>Month-to-month</td>\n",
       "      <td>Yes</td>\n",
       "      <td>Bank transfer (automatic)</td>\n",
       "      <td>74.95</td>\n",
       "      <td>2869.85</td>\n",
       "      <td>Yes</td>\n",
       "    </tr>\n",
       "    <tr>\n",
       "      <th>3</th>\n",
       "      <td>6739</td>\n",
       "      <td>6994-KERXL</td>\n",
       "      <td>4</td>\n",
       "      <td>Yes</td>\n",
       "      <td>No</td>\n",
       "      <td>DSL</td>\n",
       "      <td>No</td>\n",
       "      <td>No</td>\n",
       "      <td>No</td>\n",
       "      <td>No</td>\n",
       "      <td>No</td>\n",
       "      <td>Yes</td>\n",
       "      <td>Month-to-month</td>\n",
       "      <td>Yes</td>\n",
       "      <td>Electronic check</td>\n",
       "      <td>55.90</td>\n",
       "      <td>238.50</td>\n",
       "      <td>No</td>\n",
       "    </tr>\n",
       "    <tr>\n",
       "      <th>4</th>\n",
       "      <td>432</td>\n",
       "      <td>2181-UAESM</td>\n",
       "      <td>2</td>\n",
       "      <td>Yes</td>\n",
       "      <td>No</td>\n",
       "      <td>DSL</td>\n",
       "      <td>Yes</td>\n",
       "      <td>No</td>\n",
       "      <td>Yes</td>\n",
       "      <td>No</td>\n",
       "      <td>No</td>\n",
       "      <td>No</td>\n",
       "      <td>Month-to-month</td>\n",
       "      <td>No</td>\n",
       "      <td>Electronic check</td>\n",
       "      <td>53.45</td>\n",
       "      <td>119.50</td>\n",
       "      <td>No</td>\n",
       "    </tr>\n",
       "  </tbody>\n",
       "</table>\n",
       "</div>"
      ],
      "text/plain": [
       "   Unnamed: 0  customerID  tenure PhoneService MultipleLines InternetService  \\\n",
       "0        1869  7010-BRBUU      72          Yes           Yes              No   \n",
       "1        4528  9688-YGXVR      44          Yes            No     Fiber optic   \n",
       "2        6344  9286-DOJGF      38          Yes           Yes     Fiber optic   \n",
       "3        6739  6994-KERXL       4          Yes            No             DSL   \n",
       "4         432  2181-UAESM       2          Yes            No             DSL   \n",
       "\n",
       "        OnlineSecurity         OnlineBackup     DeviceProtection  \\\n",
       "0  No internet service  No internet service  No internet service   \n",
       "1                   No                  Yes                  Yes   \n",
       "2                   No                   No                   No   \n",
       "3                   No                   No                   No   \n",
       "4                  Yes                   No                  Yes   \n",
       "\n",
       "           TechSupport          StreamingTV      StreamingMovies  \\\n",
       "0  No internet service  No internet service  No internet service   \n",
       "1                   No                  Yes                   No   \n",
       "2                   No                   No                   No   \n",
       "3                   No                   No                  Yes   \n",
       "4                   No                   No                   No   \n",
       "\n",
       "         Contract PaperlessBilling              PaymentMethod  MonthlyCharges  \\\n",
       "0        Two year               No    Credit card (automatic)           24.10   \n",
       "1  Month-to-month              Yes    Credit card (automatic)           88.15   \n",
       "2  Month-to-month              Yes  Bank transfer (automatic)           74.95   \n",
       "3  Month-to-month              Yes           Electronic check           55.90   \n",
       "4  Month-to-month               No           Electronic check           53.45   \n",
       "\n",
       "   TotalCharges Churn  \n",
       "0       1734.65    No  \n",
       "1       3973.20    No  \n",
       "2       2869.85   Yes  \n",
       "3        238.50    No  \n",
       "4        119.50    No  "
      ]
     },
     "execution_count": 5,
     "metadata": {},
     "output_type": "execute_result"
    }
   ],
   "source": [
    "df_all.drop(['Partner', 'Dependents'], axis=1, inplace=True)\n",
    "df_all.head()"
   ]
  },
  {
   "cell_type": "markdown",
   "metadata": {},
   "source": [
    "### Are there duplicated rows?"
   ]
  },
  {
   "cell_type": "code",
   "execution_count": 6,
   "metadata": {},
   "outputs": [
    {
     "name": "stdout",
     "output_type": "stream",
     "text": [
      "Looks Good! There are 0 duplicated rows\n"
     ]
    }
   ],
   "source": [
    "# Eliminate duplicated rows (keeping only one per duplicate group)\n",
    "duplicate_rows_count = df_all.duplicated().sum()\n",
    "if duplicate_rows_count != 0:\n",
    "    print( \"We need to eliminate\", duplicate_rows_count , \"duplicated rows\")\n",
    "    df_all.drop_duplicates(inplace=True)\n",
    "    print( \"After deleting these rows, there are now\", df_all.duplicated().sum(), \"duplicated rows\") \n",
    "else:\n",
    "    print( \"Looks Good! There are\", duplicate_rows_count , \"duplicated rows\")\n"
   ]
  },
  {
   "cell_type": "markdown",
   "metadata": {},
   "source": [
    "## Eliminate other, non-informative columns"
   ]
  },
  {
   "cell_type": "code",
   "execution_count": 7,
   "metadata": {},
   "outputs": [
    {
     "data": {
      "text/html": [
       "<div>\n",
       "<style scoped>\n",
       "    .dataframe tbody tr th:only-of-type {\n",
       "        vertical-align: middle;\n",
       "    }\n",
       "\n",
       "    .dataframe tbody tr th {\n",
       "        vertical-align: top;\n",
       "    }\n",
       "\n",
       "    .dataframe thead th {\n",
       "        text-align: right;\n",
       "    }\n",
       "</style>\n",
       "<table border=\"1\" class=\"dataframe\">\n",
       "  <thead>\n",
       "    <tr style=\"text-align: right;\">\n",
       "      <th></th>\n",
       "      <th>tenure</th>\n",
       "      <th>PhoneService</th>\n",
       "      <th>MultipleLines</th>\n",
       "      <th>InternetService</th>\n",
       "      <th>OnlineSecurity</th>\n",
       "      <th>OnlineBackup</th>\n",
       "      <th>DeviceProtection</th>\n",
       "      <th>TechSupport</th>\n",
       "      <th>StreamingTV</th>\n",
       "      <th>StreamingMovies</th>\n",
       "      <th>Contract</th>\n",
       "      <th>PaperlessBilling</th>\n",
       "      <th>PaymentMethod</th>\n",
       "      <th>MonthlyCharges</th>\n",
       "      <th>TotalCharges</th>\n",
       "      <th>Churn</th>\n",
       "    </tr>\n",
       "  </thead>\n",
       "  <tbody>\n",
       "    <tr>\n",
       "      <th>0</th>\n",
       "      <td>72</td>\n",
       "      <td>Yes</td>\n",
       "      <td>Yes</td>\n",
       "      <td>No</td>\n",
       "      <td>No internet service</td>\n",
       "      <td>No internet service</td>\n",
       "      <td>No internet service</td>\n",
       "      <td>No internet service</td>\n",
       "      <td>No internet service</td>\n",
       "      <td>No internet service</td>\n",
       "      <td>Two year</td>\n",
       "      <td>No</td>\n",
       "      <td>Credit card (automatic)</td>\n",
       "      <td>24.10</td>\n",
       "      <td>1734.65</td>\n",
       "      <td>No</td>\n",
       "    </tr>\n",
       "    <tr>\n",
       "      <th>1</th>\n",
       "      <td>44</td>\n",
       "      <td>Yes</td>\n",
       "      <td>No</td>\n",
       "      <td>Fiber optic</td>\n",
       "      <td>No</td>\n",
       "      <td>Yes</td>\n",
       "      <td>Yes</td>\n",
       "      <td>No</td>\n",
       "      <td>Yes</td>\n",
       "      <td>No</td>\n",
       "      <td>Month-to-month</td>\n",
       "      <td>Yes</td>\n",
       "      <td>Credit card (automatic)</td>\n",
       "      <td>88.15</td>\n",
       "      <td>3973.20</td>\n",
       "      <td>No</td>\n",
       "    </tr>\n",
       "    <tr>\n",
       "      <th>2</th>\n",
       "      <td>38</td>\n",
       "      <td>Yes</td>\n",
       "      <td>Yes</td>\n",
       "      <td>Fiber optic</td>\n",
       "      <td>No</td>\n",
       "      <td>No</td>\n",
       "      <td>No</td>\n",
       "      <td>No</td>\n",
       "      <td>No</td>\n",
       "      <td>No</td>\n",
       "      <td>Month-to-month</td>\n",
       "      <td>Yes</td>\n",
       "      <td>Bank transfer (automatic)</td>\n",
       "      <td>74.95</td>\n",
       "      <td>2869.85</td>\n",
       "      <td>Yes</td>\n",
       "    </tr>\n",
       "    <tr>\n",
       "      <th>3</th>\n",
       "      <td>4</td>\n",
       "      <td>Yes</td>\n",
       "      <td>No</td>\n",
       "      <td>DSL</td>\n",
       "      <td>No</td>\n",
       "      <td>No</td>\n",
       "      <td>No</td>\n",
       "      <td>No</td>\n",
       "      <td>No</td>\n",
       "      <td>Yes</td>\n",
       "      <td>Month-to-month</td>\n",
       "      <td>Yes</td>\n",
       "      <td>Electronic check</td>\n",
       "      <td>55.90</td>\n",
       "      <td>238.50</td>\n",
       "      <td>No</td>\n",
       "    </tr>\n",
       "    <tr>\n",
       "      <th>4</th>\n",
       "      <td>2</td>\n",
       "      <td>Yes</td>\n",
       "      <td>No</td>\n",
       "      <td>DSL</td>\n",
       "      <td>Yes</td>\n",
       "      <td>No</td>\n",
       "      <td>Yes</td>\n",
       "      <td>No</td>\n",
       "      <td>No</td>\n",
       "      <td>No</td>\n",
       "      <td>Month-to-month</td>\n",
       "      <td>No</td>\n",
       "      <td>Electronic check</td>\n",
       "      <td>53.45</td>\n",
       "      <td>119.50</td>\n",
       "      <td>No</td>\n",
       "    </tr>\n",
       "  </tbody>\n",
       "</table>\n",
       "</div>"
      ],
      "text/plain": [
       "   tenure PhoneService MultipleLines InternetService       OnlineSecurity  \\\n",
       "0      72          Yes           Yes              No  No internet service   \n",
       "1      44          Yes            No     Fiber optic                   No   \n",
       "2      38          Yes           Yes     Fiber optic                   No   \n",
       "3       4          Yes            No             DSL                   No   \n",
       "4       2          Yes            No             DSL                  Yes   \n",
       "\n",
       "          OnlineBackup     DeviceProtection          TechSupport  \\\n",
       "0  No internet service  No internet service  No internet service   \n",
       "1                  Yes                  Yes                   No   \n",
       "2                   No                   No                   No   \n",
       "3                   No                   No                   No   \n",
       "4                   No                  Yes                   No   \n",
       "\n",
       "           StreamingTV      StreamingMovies        Contract PaperlessBilling  \\\n",
       "0  No internet service  No internet service        Two year               No   \n",
       "1                  Yes                   No  Month-to-month              Yes   \n",
       "2                   No                   No  Month-to-month              Yes   \n",
       "3                   No                  Yes  Month-to-month              Yes   \n",
       "4                   No                   No  Month-to-month               No   \n",
       "\n",
       "               PaymentMethod  MonthlyCharges  TotalCharges Churn  \n",
       "0    Credit card (automatic)           24.10       1734.65    No  \n",
       "1    Credit card (automatic)           88.15       3973.20    No  \n",
       "2  Bank transfer (automatic)           74.95       2869.85   Yes  \n",
       "3           Electronic check           55.90        238.50    No  \n",
       "4           Electronic check           53.45        119.50    No  "
      ]
     },
     "execution_count": 7,
     "metadata": {},
     "output_type": "execute_result"
    }
   ],
   "source": [
    "df_all.drop(['Unnamed: 0', 'customerID'], axis=1, inplace=True)\n",
    "df_all.head()"
   ]
  },
  {
   "cell_type": "markdown",
   "metadata": {},
   "source": [
    "## Is the target data useful for a classification model?"
   ]
  },
  {
   "cell_type": "code",
   "execution_count": 8,
   "metadata": {},
   "outputs": [
    {
     "data": {
      "text/plain": [
       "0        No\n",
       "1        No\n",
       "2       Yes\n",
       "3        No\n",
       "4        No\n",
       "5        No\n",
       "6        No\n",
       "7        No\n",
       "8        No\n",
       "9        No\n",
       "10       No\n",
       "11      Yes\n",
       "12       No\n",
       "13       No\n",
       "14       No\n",
       "15       No\n",
       "16       No\n",
       "17       No\n",
       "18      Yes\n",
       "19      Yes\n",
       "20       No\n",
       "21       No\n",
       "22       No\n",
       "23      Yes\n",
       "24      Yes\n",
       "25       No\n",
       "26      Yes\n",
       "27       No\n",
       "28      Yes\n",
       "29       No\n",
       "       ... \n",
       "5956     No\n",
       "5957    Yes\n",
       "5958     No\n",
       "5959     No\n",
       "5960     No\n",
       "5961     No\n",
       "5962    Yes\n",
       "5963     No\n",
       "5964     No\n",
       "5965     No\n",
       "5966     No\n",
       "5967     No\n",
       "5968     No\n",
       "5969     No\n",
       "5970     No\n",
       "5971     No\n",
       "5972     No\n",
       "5973    Yes\n",
       "5974     No\n",
       "5975     No\n",
       "5976    Yes\n",
       "5977     No\n",
       "5978     No\n",
       "5979     No\n",
       "5980    Yes\n",
       "5981    Yes\n",
       "5982     No\n",
       "5983     No\n",
       "5984    Yes\n",
       "5985     No\n",
       "Name: Churn, Length: 5986, dtype: object"
      ]
     },
     "execution_count": 8,
     "metadata": {},
     "output_type": "execute_result"
    }
   ],
   "source": [
    "df_all['Churn']"
   ]
  },
  {
   "cell_type": "code",
   "execution_count": 9,
   "metadata": {},
   "outputs": [
    {
     "data": {
      "text/plain": [
       "0       False\n",
       "1       False\n",
       "2        True\n",
       "3       False\n",
       "4       False\n",
       "5       False\n",
       "6       False\n",
       "7       False\n",
       "8       False\n",
       "9       False\n",
       "10      False\n",
       "11       True\n",
       "12      False\n",
       "13      False\n",
       "14      False\n",
       "15      False\n",
       "16      False\n",
       "17      False\n",
       "18       True\n",
       "19       True\n",
       "20      False\n",
       "21      False\n",
       "22      False\n",
       "23       True\n",
       "24       True\n",
       "25      False\n",
       "26       True\n",
       "27      False\n",
       "28       True\n",
       "29      False\n",
       "        ...  \n",
       "5956    False\n",
       "5957     True\n",
       "5958    False\n",
       "5959    False\n",
       "5960    False\n",
       "5961    False\n",
       "5962     True\n",
       "5963    False\n",
       "5964    False\n",
       "5965    False\n",
       "5966    False\n",
       "5967    False\n",
       "5968    False\n",
       "5969    False\n",
       "5970    False\n",
       "5971    False\n",
       "5972    False\n",
       "5973     True\n",
       "5974    False\n",
       "5975    False\n",
       "5976     True\n",
       "5977    False\n",
       "5978    False\n",
       "5979    False\n",
       "5980     True\n",
       "5981     True\n",
       "5982    False\n",
       "5983    False\n",
       "5984     True\n",
       "5985    False\n",
       "Name: Churn, Length: 5986, dtype: bool"
      ]
     },
     "execution_count": 9,
     "metadata": {},
     "output_type": "execute_result"
    }
   ],
   "source": [
    "# Rename Yes and No with True and False\n",
    "df_all = df_all.replace({'Churn': {'Yes': True, 'No': False}},\n",
    "                        #inplace=True\n",
    "                       )\n",
    "df_all['Churn']"
   ]
  },
  {
   "cell_type": "code",
   "execution_count": 10,
   "metadata": {},
   "outputs": [
    {
     "data": {
      "text/html": [
       "<div>\n",
       "<style scoped>\n",
       "    .dataframe tbody tr th:only-of-type {\n",
       "        vertical-align: middle;\n",
       "    }\n",
       "\n",
       "    .dataframe tbody tr th {\n",
       "        vertical-align: top;\n",
       "    }\n",
       "\n",
       "    .dataframe thead th {\n",
       "        text-align: right;\n",
       "    }\n",
       "</style>\n",
       "<table border=\"1\" class=\"dataframe\">\n",
       "  <thead>\n",
       "    <tr style=\"text-align: right;\">\n",
       "      <th></th>\n",
       "      <th>counts</th>\n",
       "      <th>percents</th>\n",
       "    </tr>\n",
       "  </thead>\n",
       "  <tbody>\n",
       "    <tr>\n",
       "      <th>False</th>\n",
       "      <td>4399</td>\n",
       "      <td>73.5</td>\n",
       "    </tr>\n",
       "    <tr>\n",
       "      <th>True</th>\n",
       "      <td>1587</td>\n",
       "      <td>26.5</td>\n",
       "    </tr>\n",
       "  </tbody>\n",
       "</table>\n",
       "</div>"
      ],
      "text/plain": [
       "       counts  percents\n",
       "False    4399      73.5\n",
       "True     1587      26.5"
      ]
     },
     "execution_count": 10,
     "metadata": {},
     "output_type": "execute_result"
    }
   ],
   "source": [
    "# Show how unbalanced is the Target data\n",
    "counts = df_all['Churn'].value_counts()\n",
    "perc = df_all['Churn'].value_counts(normalize=True).mul(100).round(1)\n",
    "pd.DataFrame({'counts': counts, 'percents': perc})"
   ]
  },
  {
   "cell_type": "markdown",
   "metadata": {},
   "source": [
    "## Feature Engineering"
   ]
  },
  {
   "cell_type": "code",
   "execution_count": 11,
   "metadata": {},
   "outputs": [
    {
     "name": "stdout",
     "output_type": "stream",
     "text": [
      "% of missing observations:\n",
      "tenure              0.000000\n",
      "PhoneService        0.000000\n",
      "MultipleLines       0.000000\n",
      "InternetService     0.000000\n",
      "OnlineSecurity      0.000000\n",
      "OnlineBackup        0.000000\n",
      "DeviceProtection    0.000000\n",
      "TechSupport         0.000000\n",
      "StreamingTV         0.000000\n",
      "StreamingMovies     0.000000\n",
      "Contract            0.000000\n",
      "PaperlessBilling    0.000000\n",
      "PaymentMethod       0.000000\n",
      "MonthlyCharges      0.000000\n",
      "TotalCharges        0.167056\n",
      "Churn               0.000000\n",
      "dtype: float64\n"
     ]
    }
   ],
   "source": [
    "# Do we have columns with too many missing values?\n",
    "print(\"% of missing observations:\")\n",
    "print(df_all.isnull().mean()*100)"
   ]
  },
  {
   "cell_type": "markdown",
   "metadata": {},
   "source": [
    "There is only one column with missing values, at 17%\n",
    "\n",
    "This would problematic later, because scikit-learn estimators which assume that all values in an array are numerical.\n",
    "\n",
    "To address this issue, we can either remove the column or **impute** the missing values."
   ]
  },
  {
   "cell_type": "code",
   "execution_count": 12,
   "metadata": {},
   "outputs": [],
   "source": [
    "# Impute the missing values with the median of the column\n",
    "df_all['TotalCharges'].fillna(df_all['TotalCharges'].median(), inplace=True)"
   ]
  },
  {
   "cell_type": "code",
   "execution_count": 13,
   "metadata": {},
   "outputs": [
    {
     "name": "stdout",
     "output_type": "stream",
     "text": [
      "% of missing observations:\n",
      "tenure              0.0\n",
      "PhoneService        0.0\n",
      "MultipleLines       0.0\n",
      "InternetService     0.0\n",
      "OnlineSecurity      0.0\n",
      "OnlineBackup        0.0\n",
      "DeviceProtection    0.0\n",
      "TechSupport         0.0\n",
      "StreamingTV         0.0\n",
      "StreamingMovies     0.0\n",
      "Contract            0.0\n",
      "PaperlessBilling    0.0\n",
      "PaymentMethod       0.0\n",
      "MonthlyCharges      0.0\n",
      "TotalCharges        0.0\n",
      "Churn               0.0\n",
      "dtype: float64\n"
     ]
    }
   ],
   "source": [
    "print(\"% of missing observations:\")\n",
    "print(df_all.isnull().mean()*100)"
   ]
  },
  {
   "cell_type": "markdown",
   "metadata": {},
   "source": [
    "Much better! Now there are no columns with missing values."
   ]
  },
  {
   "cell_type": "markdown",
   "metadata": {},
   "source": [
    "### Handle Non-Numeric values"
   ]
  },
  {
   "cell_type": "code",
   "execution_count": 14,
   "metadata": {},
   "outputs": [
    {
     "data": {
      "text/plain": [
       "tenure                int64\n",
       "PhoneService         object\n",
       "MultipleLines        object\n",
       "InternetService      object\n",
       "OnlineSecurity       object\n",
       "OnlineBackup         object\n",
       "DeviceProtection     object\n",
       "TechSupport          object\n",
       "StreamingTV          object\n",
       "StreamingMovies      object\n",
       "Contract             object\n",
       "PaperlessBilling     object\n",
       "PaymentMethod        object\n",
       "MonthlyCharges      float64\n",
       "TotalCharges        float64\n",
       "Churn                  bool\n",
       "dtype: object"
      ]
     },
     "execution_count": 14,
     "metadata": {},
     "output_type": "execute_result"
    }
   ],
   "source": [
    "df_all.dtypes"
   ]
  },
  {
   "cell_type": "code",
   "execution_count": 15,
   "metadata": {},
   "outputs": [
    {
     "data": {
      "text/plain": [
       "['PhoneService',\n",
       " 'MultipleLines',\n",
       " 'InternetService',\n",
       " 'OnlineSecurity',\n",
       " 'OnlineBackup',\n",
       " 'DeviceProtection',\n",
       " 'TechSupport',\n",
       " 'StreamingTV',\n",
       " 'StreamingMovies',\n",
       " 'Contract',\n",
       " 'PaperlessBilling',\n",
       " 'PaymentMethod']"
      ]
     },
     "execution_count": 15,
     "metadata": {},
     "output_type": "execute_result"
    }
   ],
   "source": [
    "non_numeric_columns = list(df_all.select_dtypes(include=['object']).columns)\n",
    "#non_numeric_columns.remove(TARGET) \n",
    "non_numeric_columns"
   ]
  },
  {
   "cell_type": "code",
   "execution_count": 16,
   "metadata": {},
   "outputs": [],
   "source": [
    "# Remove special characters from PaymentMethod column\n",
    "for col in non_numeric_columns:\n",
    "    new_col = col+'_clean'\n",
    "    df_all[new_col] = df_all[col].str.replace('\\W', '')\n",
    "    #print(df_all[[col, new_col]])\n",
    "    df_all.drop([col], axis=1, inplace=True)"
   ]
  },
  {
   "cell_type": "code",
   "execution_count": 17,
   "metadata": {},
   "outputs": [
    {
     "data": {
      "text/plain": [
       "tenure                      int64\n",
       "MonthlyCharges            float64\n",
       "TotalCharges              float64\n",
       "Churn                        bool\n",
       "PhoneService_clean         object\n",
       "MultipleLines_clean        object\n",
       "InternetService_clean      object\n",
       "OnlineSecurity_clean       object\n",
       "OnlineBackup_clean         object\n",
       "DeviceProtection_clean     object\n",
       "TechSupport_clean          object\n",
       "StreamingTV_clean          object\n",
       "StreamingMovies_clean      object\n",
       "Contract_clean             object\n",
       "PaperlessBilling_clean     object\n",
       "PaymentMethod_clean        object\n",
       "dtype: object"
      ]
     },
     "execution_count": 17,
     "metadata": {},
     "output_type": "execute_result"
    }
   ],
   "source": [
    "df_all.dtypes"
   ]
  },
  {
   "cell_type": "code",
   "execution_count": 18,
   "metadata": {},
   "outputs": [],
   "source": [
    "# Apply One-Hot-Encoding \n",
    "onehotencoding_columns = list(df_all.select_dtypes(include=['object']).columns)\n",
    "#onehotencoding_columns.remove(TARGET)\n",
    "for col in onehotencoding_columns:\n",
    "    df_dummies = pd.get_dummies(df_all[col], prefix = col)\n",
    "    df_all = pd.concat([df_all, df_dummies], axis=1)"
   ]
  },
  {
   "cell_type": "code",
   "execution_count": 19,
   "metadata": {},
   "outputs": [
    {
     "data": {
      "text/html": [
       "<div>\n",
       "<style scoped>\n",
       "    .dataframe tbody tr th:only-of-type {\n",
       "        vertical-align: middle;\n",
       "    }\n",
       "\n",
       "    .dataframe tbody tr th {\n",
       "        vertical-align: top;\n",
       "    }\n",
       "\n",
       "    .dataframe thead th {\n",
       "        text-align: right;\n",
       "    }\n",
       "</style>\n",
       "<table border=\"1\" class=\"dataframe\">\n",
       "  <thead>\n",
       "    <tr style=\"text-align: right;\">\n",
       "      <th></th>\n",
       "      <th>tenure</th>\n",
       "      <th>MonthlyCharges</th>\n",
       "      <th>TotalCharges</th>\n",
       "      <th>Churn</th>\n",
       "      <th>PhoneService_clean_No</th>\n",
       "      <th>PhoneService_clean_Yes</th>\n",
       "      <th>MultipleLines_clean_No</th>\n",
       "      <th>MultipleLines_clean_Nophoneservice</th>\n",
       "      <th>MultipleLines_clean_Yes</th>\n",
       "      <th>InternetService_clean_DSL</th>\n",
       "      <th>...</th>\n",
       "      <th>StreamingMovies_clean_Yes</th>\n",
       "      <th>Contract_clean_Monthtomonth</th>\n",
       "      <th>Contract_clean_Oneyear</th>\n",
       "      <th>Contract_clean_Twoyear</th>\n",
       "      <th>PaperlessBilling_clean_No</th>\n",
       "      <th>PaperlessBilling_clean_Yes</th>\n",
       "      <th>PaymentMethod_clean_Banktransferautomatic</th>\n",
       "      <th>PaymentMethod_clean_Creditcardautomatic</th>\n",
       "      <th>PaymentMethod_clean_Electroniccheck</th>\n",
       "      <th>PaymentMethod_clean_Mailedcheck</th>\n",
       "    </tr>\n",
       "  </thead>\n",
       "  <tbody>\n",
       "    <tr>\n",
       "      <th>0</th>\n",
       "      <td>72</td>\n",
       "      <td>24.10</td>\n",
       "      <td>1734.65</td>\n",
       "      <td>False</td>\n",
       "      <td>0</td>\n",
       "      <td>1</td>\n",
       "      <td>0</td>\n",
       "      <td>0</td>\n",
       "      <td>1</td>\n",
       "      <td>0</td>\n",
       "      <td>...</td>\n",
       "      <td>0</td>\n",
       "      <td>0</td>\n",
       "      <td>0</td>\n",
       "      <td>1</td>\n",
       "      <td>1</td>\n",
       "      <td>0</td>\n",
       "      <td>0</td>\n",
       "      <td>1</td>\n",
       "      <td>0</td>\n",
       "      <td>0</td>\n",
       "    </tr>\n",
       "    <tr>\n",
       "      <th>1</th>\n",
       "      <td>44</td>\n",
       "      <td>88.15</td>\n",
       "      <td>3973.20</td>\n",
       "      <td>False</td>\n",
       "      <td>0</td>\n",
       "      <td>1</td>\n",
       "      <td>1</td>\n",
       "      <td>0</td>\n",
       "      <td>0</td>\n",
       "      <td>0</td>\n",
       "      <td>...</td>\n",
       "      <td>0</td>\n",
       "      <td>1</td>\n",
       "      <td>0</td>\n",
       "      <td>0</td>\n",
       "      <td>0</td>\n",
       "      <td>1</td>\n",
       "      <td>0</td>\n",
       "      <td>1</td>\n",
       "      <td>0</td>\n",
       "      <td>0</td>\n",
       "    </tr>\n",
       "    <tr>\n",
       "      <th>2</th>\n",
       "      <td>38</td>\n",
       "      <td>74.95</td>\n",
       "      <td>2869.85</td>\n",
       "      <td>True</td>\n",
       "      <td>0</td>\n",
       "      <td>1</td>\n",
       "      <td>0</td>\n",
       "      <td>0</td>\n",
       "      <td>1</td>\n",
       "      <td>0</td>\n",
       "      <td>...</td>\n",
       "      <td>0</td>\n",
       "      <td>1</td>\n",
       "      <td>0</td>\n",
       "      <td>0</td>\n",
       "      <td>0</td>\n",
       "      <td>1</td>\n",
       "      <td>1</td>\n",
       "      <td>0</td>\n",
       "      <td>0</td>\n",
       "      <td>0</td>\n",
       "    </tr>\n",
       "    <tr>\n",
       "      <th>3</th>\n",
       "      <td>4</td>\n",
       "      <td>55.90</td>\n",
       "      <td>238.50</td>\n",
       "      <td>False</td>\n",
       "      <td>0</td>\n",
       "      <td>1</td>\n",
       "      <td>1</td>\n",
       "      <td>0</td>\n",
       "      <td>0</td>\n",
       "      <td>1</td>\n",
       "      <td>...</td>\n",
       "      <td>1</td>\n",
       "      <td>1</td>\n",
       "      <td>0</td>\n",
       "      <td>0</td>\n",
       "      <td>0</td>\n",
       "      <td>1</td>\n",
       "      <td>0</td>\n",
       "      <td>0</td>\n",
       "      <td>1</td>\n",
       "      <td>0</td>\n",
       "    </tr>\n",
       "    <tr>\n",
       "      <th>4</th>\n",
       "      <td>2</td>\n",
       "      <td>53.45</td>\n",
       "      <td>119.50</td>\n",
       "      <td>False</td>\n",
       "      <td>0</td>\n",
       "      <td>1</td>\n",
       "      <td>1</td>\n",
       "      <td>0</td>\n",
       "      <td>0</td>\n",
       "      <td>1</td>\n",
       "      <td>...</td>\n",
       "      <td>0</td>\n",
       "      <td>1</td>\n",
       "      <td>0</td>\n",
       "      <td>0</td>\n",
       "      <td>1</td>\n",
       "      <td>0</td>\n",
       "      <td>0</td>\n",
       "      <td>0</td>\n",
       "      <td>1</td>\n",
       "      <td>0</td>\n",
       "    </tr>\n",
       "  </tbody>\n",
       "</table>\n",
       "<p>5 rows × 39 columns</p>\n",
       "</div>"
      ],
      "text/plain": [
       "   tenure  MonthlyCharges  TotalCharges  Churn  PhoneService_clean_No  \\\n",
       "0      72           24.10       1734.65  False                      0   \n",
       "1      44           88.15       3973.20  False                      0   \n",
       "2      38           74.95       2869.85   True                      0   \n",
       "3       4           55.90        238.50  False                      0   \n",
       "4       2           53.45        119.50  False                      0   \n",
       "\n",
       "   PhoneService_clean_Yes  MultipleLines_clean_No  \\\n",
       "0                       1                       0   \n",
       "1                       1                       1   \n",
       "2                       1                       0   \n",
       "3                       1                       1   \n",
       "4                       1                       1   \n",
       "\n",
       "   MultipleLines_clean_Nophoneservice  MultipleLines_clean_Yes  \\\n",
       "0                                   0                        1   \n",
       "1                                   0                        0   \n",
       "2                                   0                        1   \n",
       "3                                   0                        0   \n",
       "4                                   0                        0   \n",
       "\n",
       "   InternetService_clean_DSL               ...                 \\\n",
       "0                          0               ...                  \n",
       "1                          0               ...                  \n",
       "2                          0               ...                  \n",
       "3                          1               ...                  \n",
       "4                          1               ...                  \n",
       "\n",
       "   StreamingMovies_clean_Yes  Contract_clean_Monthtomonth  \\\n",
       "0                          0                            0   \n",
       "1                          0                            1   \n",
       "2                          0                            1   \n",
       "3                          1                            1   \n",
       "4                          0                            1   \n",
       "\n",
       "   Contract_clean_Oneyear  Contract_clean_Twoyear  PaperlessBilling_clean_No  \\\n",
       "0                       0                       1                          1   \n",
       "1                       0                       0                          0   \n",
       "2                       0                       0                          0   \n",
       "3                       0                       0                          0   \n",
       "4                       0                       0                          1   \n",
       "\n",
       "   PaperlessBilling_clean_Yes  PaymentMethod_clean_Banktransferautomatic  \\\n",
       "0                           0                                          0   \n",
       "1                           1                                          0   \n",
       "2                           1                                          1   \n",
       "3                           1                                          0   \n",
       "4                           0                                          0   \n",
       "\n",
       "   PaymentMethod_clean_Creditcardautomatic  \\\n",
       "0                                        1   \n",
       "1                                        1   \n",
       "2                                        0   \n",
       "3                                        0   \n",
       "4                                        0   \n",
       "\n",
       "   PaymentMethod_clean_Electroniccheck  PaymentMethod_clean_Mailedcheck  \n",
       "0                                    0                                0  \n",
       "1                                    0                                0  \n",
       "2                                    0                                0  \n",
       "3                                    1                                0  \n",
       "4                                    1                                0  \n",
       "\n",
       "[5 rows x 39 columns]"
      ]
     },
     "execution_count": 19,
     "metadata": {},
     "output_type": "execute_result"
    }
   ],
   "source": [
    "# Remove the columns than needed One-Hot-Encoding\n",
    "df_all.drop(onehotencoding_columns, axis=1, inplace=True)\n",
    "df_all.head()"
   ]
  },
  {
   "cell_type": "code",
   "execution_count": 20,
   "metadata": {},
   "outputs": [
    {
     "data": {
      "text/plain": [
       "Index(['tenure', 'MonthlyCharges', 'TotalCharges', 'Churn',\n",
       "       'PhoneService_clean_No', 'PhoneService_clean_Yes',\n",
       "       'MultipleLines_clean_No', 'MultipleLines_clean_Nophoneservice',\n",
       "       'MultipleLines_clean_Yes', 'InternetService_clean_DSL',\n",
       "       'InternetService_clean_Fiberoptic', 'InternetService_clean_No',\n",
       "       'OnlineSecurity_clean_No', 'OnlineSecurity_clean_Nointernetservice',\n",
       "       'OnlineSecurity_clean_Yes', 'OnlineBackup_clean_No',\n",
       "       'OnlineBackup_clean_Nointernetservice', 'OnlineBackup_clean_Yes',\n",
       "       'DeviceProtection_clean_No', 'DeviceProtection_clean_Nointernetservice',\n",
       "       'DeviceProtection_clean_Yes', 'TechSupport_clean_No',\n",
       "       'TechSupport_clean_Nointernetservice', 'TechSupport_clean_Yes',\n",
       "       'StreamingTV_clean_No', 'StreamingTV_clean_Nointernetservice',\n",
       "       'StreamingTV_clean_Yes', 'StreamingMovies_clean_No',\n",
       "       'StreamingMovies_clean_Nointernetservice', 'StreamingMovies_clean_Yes',\n",
       "       'Contract_clean_Monthtomonth', 'Contract_clean_Oneyear',\n",
       "       'Contract_clean_Twoyear', 'PaperlessBilling_clean_No',\n",
       "       'PaperlessBilling_clean_Yes',\n",
       "       'PaymentMethod_clean_Banktransferautomatic',\n",
       "       'PaymentMethod_clean_Creditcardautomatic',\n",
       "       'PaymentMethod_clean_Electroniccheck',\n",
       "       'PaymentMethod_clean_Mailedcheck'],\n",
       "      dtype='object')"
      ]
     },
     "execution_count": 20,
     "metadata": {},
     "output_type": "execute_result"
    }
   ],
   "source": [
    "df_all.columns"
   ]
  },
  {
   "cell_type": "code",
   "execution_count": 21,
   "metadata": {},
   "outputs": [
    {
     "data": {
      "text/plain": [
       "(5986, 39)"
      ]
     },
     "execution_count": 21,
     "metadata": {},
     "output_type": "execute_result"
    }
   ],
   "source": [
    "df_all.shape"
   ]
  },
  {
   "cell_type": "markdown",
   "metadata": {},
   "source": [
    "## Compute the Covariance Matrix"
   ]
  },
  {
   "cell_type": "code",
   "execution_count": 22,
   "metadata": {},
   "outputs": [
    {
     "data": {
      "image/png": "[encoded data removed]",
      "text/plain": [
       "<Figure size 864x648 with 2 Axes>"
      ]
     },
     "metadata": {
      "needs_background": "light"
     },
     "output_type": "display_data"
    }
   ],
   "source": [
    "df_all_correl_matrix = df_all.corr()\n",
    "fig = plt.figure(figsize = (12,9))\n",
    "heatmap = sns.heatmap(df_all_correl_matrix, cbar=True, \n",
    "                      linewidths=.5, square=True,\n",
    "                      annot=False,\n",
    "                      vmin=-0.001, vmax=0.95\n",
    "                      #vmin=-0.40, vmax=-0.39\n",
    "                     )\n",
    "heatmap.set_xticklabels(heatmap.get_xticklabels(), rotation=30, horizontalalignment='right') \n",
    "plt.title(\"Covariance Matrix for Churn Analysis\", fontsize = 20) # title with fontsize 20\n",
    "plt.savefig('AnalyzeChurn_covariance.png', dpi=300, bbox_inches='tight') #  set bbox_inches='tight' so the axis labels in the plot are NOT cut off in the saved image\n",
    "plt.show()"
   ]
  },
  {
   "cell_type": "markdown",
   "metadata": {},
   "source": [
    "## Identify Redundant Features"
   ]
  },
  {
   "cell_type": "code",
   "execution_count": 23,
   "metadata": {},
   "outputs": [],
   "source": [
    "def identify_collinear(df, correlation_threshold):\n",
    "    \"\"\"\n",
    "    Finds collinear features based on the correlation coefficient between features. \n",
    "    For each pair of features with a correlation coefficient greather than `correlation_threshold`,\n",
    "    only one of the pair is identified for removal. \n",
    "    Using code adapted from: https://chrisalbon.com/machine_learning/feature_selection/drop_highly_correlated_features/\n",
    "\n",
    "    Parameters\n",
    "    --------\n",
    "    df : Pandas dataframe of model features, with variable names in its columns, and one set of variables per row\n",
    "    correlation_threshold : float between 0 and 1\n",
    "        Value of the Pearson correlation cofficient for identifying correlation features\n",
    "    \"\"\"\n",
    "    # Dictionary to hold removal operations\n",
    "    ops = {}\n",
    "    \n",
    "    # Dataset and column names\n",
    "    base_features = list(df.columns)\n",
    "        \n",
    "    # Calculate the correlations between every column\n",
    "    corr_matrix = df.corr()\n",
    "\n",
    "    # Extract the upper triangle of the correlation matrix\n",
    "    upper = corr_matrix.where(np.triu(np.ones(corr_matrix.shape), k = 1).astype(np.bool))\n",
    "\n",
    "    # Select the features with correlations above the threshold\n",
    "    # Need to use the absolute value\n",
    "    to_drop = [column for column in upper.columns if any(upper[column].abs() > correlation_threshold)]\n",
    "\n",
    "    # Dataframe to hold correlated pairs\n",
    "    record_collinear = pd.DataFrame(columns = ['drop_feature', 'corr_feature', 'corr_value'])\n",
    "\n",
    "    # Iterate through the columns to drop to record pairs of correlated features\n",
    "    for column in to_drop:\n",
    "\n",
    "        # Find the correlated features\n",
    "        corr_features = list(upper.index[upper[column].abs() > correlation_threshold])\n",
    "\n",
    "        # Find the correlated values\n",
    "        corr_values = list(upper[column][upper[column].abs() > correlation_threshold])\n",
    "        drop_features = [column for _ in range(len(corr_features))]    \n",
    "\n",
    "        # Record the information (need a temp df for now)\n",
    "        temp_df = pd.DataFrame.from_dict({'drop_feature': drop_features,\n",
    "                                         'corr_feature': corr_features,\n",
    "                                         'corr_value': corr_values})\n",
    "\n",
    "        # Add to dataframe\n",
    "        record_collinear = record_collinear.append(temp_df, ignore_index = True)\n",
    "\n",
    "    #self.record_collinear = record_collinear\n",
    "    ops['collinear'] = to_drop\n",
    "\n",
    "    print('%d feature(s) with a correlation magnitude greater than %0.2f.\\n' % (len(ops['collinear']), correlation_threshold))\n",
    "\n",
    "    return record_collinear"
   ]
  },
  {
   "cell_type": "code",
   "execution_count": 24,
   "metadata": {},
   "outputs": [
    {
     "name": "stdout",
     "output_type": "stream",
     "text": [
      "9 feature(s) with a correlation magnitude greater than 0.95.\n",
      "\n"
     ]
    },
    {
     "data": {
      "text/html": [
       "<div>\n",
       "<style scoped>\n",
       "    .dataframe tbody tr th:only-of-type {\n",
       "        vertical-align: middle;\n",
       "    }\n",
       "\n",
       "    .dataframe tbody tr th {\n",
       "        vertical-align: top;\n",
       "    }\n",
       "\n",
       "    .dataframe thead th {\n",
       "        text-align: right;\n",
       "    }\n",
       "</style>\n",
       "<table border=\"1\" class=\"dataframe\">\n",
       "  <thead>\n",
       "    <tr style=\"text-align: right;\">\n",
       "      <th></th>\n",
       "      <th>drop_feature</th>\n",
       "      <th>corr_feature</th>\n",
       "      <th>corr_value</th>\n",
       "    </tr>\n",
       "  </thead>\n",
       "  <tbody>\n",
       "    <tr>\n",
       "      <th>0</th>\n",
       "      <td>PhoneService_clean_Yes</td>\n",
       "      <td>PhoneService_clean_No</td>\n",
       "      <td>-1.0</td>\n",
       "    </tr>\n",
       "    <tr>\n",
       "      <th>1</th>\n",
       "      <td>MultipleLines_clean_Nophoneservice</td>\n",
       "      <td>PhoneService_clean_No</td>\n",
       "      <td>1.0</td>\n",
       "    </tr>\n",
       "    <tr>\n",
       "      <th>2</th>\n",
       "      <td>MultipleLines_clean_Nophoneservice</td>\n",
       "      <td>PhoneService_clean_Yes</td>\n",
       "      <td>-1.0</td>\n",
       "    </tr>\n",
       "    <tr>\n",
       "      <th>3</th>\n",
       "      <td>OnlineSecurity_clean_Nointernetservice</td>\n",
       "      <td>InternetService_clean_No</td>\n",
       "      <td>1.0</td>\n",
       "    </tr>\n",
       "    <tr>\n",
       "      <th>4</th>\n",
       "      <td>OnlineBackup_clean_Nointernetservice</td>\n",
       "      <td>InternetService_clean_No</td>\n",
       "      <td>1.0</td>\n",
       "    </tr>\n",
       "    <tr>\n",
       "      <th>5</th>\n",
       "      <td>OnlineBackup_clean_Nointernetservice</td>\n",
       "      <td>OnlineSecurity_clean_Nointernetservice</td>\n",
       "      <td>1.0</td>\n",
       "    </tr>\n",
       "    <tr>\n",
       "      <th>6</th>\n",
       "      <td>DeviceProtection_clean_Nointernetservice</td>\n",
       "      <td>InternetService_clean_No</td>\n",
       "      <td>1.0</td>\n",
       "    </tr>\n",
       "    <tr>\n",
       "      <th>7</th>\n",
       "      <td>DeviceProtection_clean_Nointernetservice</td>\n",
       "      <td>OnlineSecurity_clean_Nointernetservice</td>\n",
       "      <td>1.0</td>\n",
       "    </tr>\n",
       "    <tr>\n",
       "      <th>8</th>\n",
       "      <td>DeviceProtection_clean_Nointernetservice</td>\n",
       "      <td>OnlineBackup_clean_Nointernetservice</td>\n",
       "      <td>1.0</td>\n",
       "    </tr>\n",
       "    <tr>\n",
       "      <th>9</th>\n",
       "      <td>TechSupport_clean_Nointernetservice</td>\n",
       "      <td>InternetService_clean_No</td>\n",
       "      <td>1.0</td>\n",
       "    </tr>\n",
       "    <tr>\n",
       "      <th>10</th>\n",
       "      <td>TechSupport_clean_Nointernetservice</td>\n",
       "      <td>OnlineSecurity_clean_Nointernetservice</td>\n",
       "      <td>1.0</td>\n",
       "    </tr>\n",
       "    <tr>\n",
       "      <th>11</th>\n",
       "      <td>TechSupport_clean_Nointernetservice</td>\n",
       "      <td>OnlineBackup_clean_Nointernetservice</td>\n",
       "      <td>1.0</td>\n",
       "    </tr>\n",
       "    <tr>\n",
       "      <th>12</th>\n",
       "      <td>TechSupport_clean_Nointernetservice</td>\n",
       "      <td>DeviceProtection_clean_Nointernetservice</td>\n",
       "      <td>1.0</td>\n",
       "    </tr>\n",
       "    <tr>\n",
       "      <th>13</th>\n",
       "      <td>StreamingTV_clean_Nointernetservice</td>\n",
       "      <td>InternetService_clean_No</td>\n",
       "      <td>1.0</td>\n",
       "    </tr>\n",
       "    <tr>\n",
       "      <th>14</th>\n",
       "      <td>StreamingTV_clean_Nointernetservice</td>\n",
       "      <td>OnlineSecurity_clean_Nointernetservice</td>\n",
       "      <td>1.0</td>\n",
       "    </tr>\n",
       "    <tr>\n",
       "      <th>15</th>\n",
       "      <td>StreamingTV_clean_Nointernetservice</td>\n",
       "      <td>OnlineBackup_clean_Nointernetservice</td>\n",
       "      <td>1.0</td>\n",
       "    </tr>\n",
       "    <tr>\n",
       "      <th>16</th>\n",
       "      <td>StreamingTV_clean_Nointernetservice</td>\n",
       "      <td>DeviceProtection_clean_Nointernetservice</td>\n",
       "      <td>1.0</td>\n",
       "    </tr>\n",
       "    <tr>\n",
       "      <th>17</th>\n",
       "      <td>StreamingTV_clean_Nointernetservice</td>\n",
       "      <td>TechSupport_clean_Nointernetservice</td>\n",
       "      <td>1.0</td>\n",
       "    </tr>\n",
       "    <tr>\n",
       "      <th>18</th>\n",
       "      <td>StreamingMovies_clean_Nointernetservice</td>\n",
       "      <td>InternetService_clean_No</td>\n",
       "      <td>1.0</td>\n",
       "    </tr>\n",
       "    <tr>\n",
       "      <th>19</th>\n",
       "      <td>StreamingMovies_clean_Nointernetservice</td>\n",
       "      <td>OnlineSecurity_clean_Nointernetservice</td>\n",
       "      <td>1.0</td>\n",
       "    </tr>\n",
       "    <tr>\n",
       "      <th>20</th>\n",
       "      <td>StreamingMovies_clean_Nointernetservice</td>\n",
       "      <td>OnlineBackup_clean_Nointernetservice</td>\n",
       "      <td>1.0</td>\n",
       "    </tr>\n",
       "    <tr>\n",
       "      <th>21</th>\n",
       "      <td>StreamingMovies_clean_Nointernetservice</td>\n",
       "      <td>DeviceProtection_clean_Nointernetservice</td>\n",
       "      <td>1.0</td>\n",
       "    </tr>\n",
       "    <tr>\n",
       "      <th>22</th>\n",
       "      <td>StreamingMovies_clean_Nointernetservice</td>\n",
       "      <td>TechSupport_clean_Nointernetservice</td>\n",
       "      <td>1.0</td>\n",
       "    </tr>\n",
       "    <tr>\n",
       "      <th>23</th>\n",
       "      <td>StreamingMovies_clean_Nointernetservice</td>\n",
       "      <td>StreamingTV_clean_Nointernetservice</td>\n",
       "      <td>1.0</td>\n",
       "    </tr>\n",
       "    <tr>\n",
       "      <th>24</th>\n",
       "      <td>PaperlessBilling_clean_Yes</td>\n",
       "      <td>PaperlessBilling_clean_No</td>\n",
       "      <td>-1.0</td>\n",
       "    </tr>\n",
       "  </tbody>\n",
       "</table>\n",
       "</div>"
      ],
      "text/plain": [
       "                                drop_feature  \\\n",
       "0                     PhoneService_clean_Yes   \n",
       "1         MultipleLines_clean_Nophoneservice   \n",
       "2         MultipleLines_clean_Nophoneservice   \n",
       "3     OnlineSecurity_clean_Nointernetservice   \n",
       "4       OnlineBackup_clean_Nointernetservice   \n",
       "5       OnlineBackup_clean_Nointernetservice   \n",
       "6   DeviceProtection_clean_Nointernetservice   \n",
       "7   DeviceProtection_clean_Nointernetservice   \n",
       "8   DeviceProtection_clean_Nointernetservice   \n",
       "9        TechSupport_clean_Nointernetservice   \n",
       "10       TechSupport_clean_Nointernetservice   \n",
       "11       TechSupport_clean_Nointernetservice   \n",
       "12       TechSupport_clean_Nointernetservice   \n",
       "13       StreamingTV_clean_Nointernetservice   \n",
       "14       StreamingTV_clean_Nointernetservice   \n",
       "15       StreamingTV_clean_Nointernetservice   \n",
       "16       StreamingTV_clean_Nointernetservice   \n",
       "17       StreamingTV_clean_Nointernetservice   \n",
       "18   StreamingMovies_clean_Nointernetservice   \n",
       "19   StreamingMovies_clean_Nointernetservice   \n",
       "20   StreamingMovies_clean_Nointernetservice   \n",
       "21   StreamingMovies_clean_Nointernetservice   \n",
       "22   StreamingMovies_clean_Nointernetservice   \n",
       "23   StreamingMovies_clean_Nointernetservice   \n",
       "24                PaperlessBilling_clean_Yes   \n",
       "\n",
       "                                corr_feature  corr_value  \n",
       "0                      PhoneService_clean_No        -1.0  \n",
       "1                      PhoneService_clean_No         1.0  \n",
       "2                     PhoneService_clean_Yes        -1.0  \n",
       "3                   InternetService_clean_No         1.0  \n",
       "4                   InternetService_clean_No         1.0  \n",
       "5     OnlineSecurity_clean_Nointernetservice         1.0  \n",
       "6                   InternetService_clean_No         1.0  \n",
       "7     OnlineSecurity_clean_Nointernetservice         1.0  \n",
       "8       OnlineBackup_clean_Nointernetservice         1.0  \n",
       "9                   InternetService_clean_No         1.0  \n",
       "10    OnlineSecurity_clean_Nointernetservice         1.0  \n",
       "11      OnlineBackup_clean_Nointernetservice         1.0  \n",
       "12  DeviceProtection_clean_Nointernetservice         1.0  \n",
       "13                  InternetService_clean_No         1.0  \n",
       "14    OnlineSecurity_clean_Nointernetservice         1.0  \n",
       "15      OnlineBackup_clean_Nointernetservice         1.0  \n",
       "16  DeviceProtection_clean_Nointernetservice         1.0  \n",
       "17       TechSupport_clean_Nointernetservice         1.0  \n",
       "18                  InternetService_clean_No         1.0  \n",
       "19    OnlineSecurity_clean_Nointernetservice         1.0  \n",
       "20      OnlineBackup_clean_Nointernetservice         1.0  \n",
       "21  DeviceProtection_clean_Nointernetservice         1.0  \n",
       "22       TechSupport_clean_Nointernetservice         1.0  \n",
       "23       StreamingTV_clean_Nointernetservice         1.0  \n",
       "24                 PaperlessBilling_clean_No        -1.0  "
      ]
     },
     "execution_count": 24,
     "metadata": {},
     "output_type": "execute_result"
    }
   ],
   "source": [
    "full_colinearity_df = identify_collinear(df_all, correlation_threshold=0.95)\n",
    "full_colinearity_df"
   ]
  },
  {
   "cell_type": "markdown",
   "metadata": {},
   "source": [
    "> Consider removing columns=drop_features where cor_value=1.0 ."
   ]
  },
  {
   "cell_type": "markdown",
   "metadata": {},
   "source": [
    "    # Remove the features and return the data\n",
    "    features_to_drop = list(full_colinearity_df['drop_feature'])\n",
    "    trim_df = df_all.drop(columns = features_to_drop)\n",
    "    trim_df.describe()"
   ]
  },
  {
   "cell_type": "markdown",
   "metadata": {},
   "source": [
    "## Identify features and target columns"
   ]
  },
  {
   "cell_type": "code",
   "execution_count": 25,
   "metadata": {},
   "outputs": [
    {
     "data": {
      "text/plain": [
       "['tenure',\n",
       " 'MonthlyCharges',\n",
       " 'TotalCharges',\n",
       " 'PhoneService_clean_No',\n",
       " 'PhoneService_clean_Yes',\n",
       " 'MultipleLines_clean_No',\n",
       " 'MultipleLines_clean_Nophoneservice',\n",
       " 'MultipleLines_clean_Yes',\n",
       " 'InternetService_clean_DSL',\n",
       " 'InternetService_clean_Fiberoptic',\n",
       " 'InternetService_clean_No',\n",
       " 'OnlineSecurity_clean_No',\n",
       " 'OnlineSecurity_clean_Nointernetservice',\n",
       " 'OnlineSecurity_clean_Yes',\n",
       " 'OnlineBackup_clean_No',\n",
       " 'OnlineBackup_clean_Nointernetservice',\n",
       " 'OnlineBackup_clean_Yes',\n",
       " 'DeviceProtection_clean_No',\n",
       " 'DeviceProtection_clean_Nointernetservice',\n",
       " 'DeviceProtection_clean_Yes',\n",
       " 'TechSupport_clean_No',\n",
       " 'TechSupport_clean_Nointernetservice',\n",
       " 'TechSupport_clean_Yes',\n",
       " 'StreamingTV_clean_No',\n",
       " 'StreamingTV_clean_Nointernetservice',\n",
       " 'StreamingTV_clean_Yes',\n",
       " 'StreamingMovies_clean_No',\n",
       " 'StreamingMovies_clean_Nointernetservice',\n",
       " 'StreamingMovies_clean_Yes',\n",
       " 'Contract_clean_Monthtomonth',\n",
       " 'Contract_clean_Oneyear',\n",
       " 'Contract_clean_Twoyear',\n",
       " 'PaperlessBilling_clean_No',\n",
       " 'PaperlessBilling_clean_Yes',\n",
       " 'PaymentMethod_clean_Banktransferautomatic',\n",
       " 'PaymentMethod_clean_Creditcardautomatic',\n",
       " 'PaymentMethod_clean_Electroniccheck',\n",
       " 'PaymentMethod_clean_Mailedcheck']"
      ]
     },
     "execution_count": 25,
     "metadata": {},
     "output_type": "execute_result"
    }
   ],
   "source": [
    "feature_columns =[x for x in df_all.columns if x != TARGET]\n",
    "feature_columns"
   ]
  },
  {
   "cell_type": "code",
   "execution_count": 26,
   "metadata": {},
   "outputs": [],
   "source": [
    "# Now create an X variable (containing the features) and an y variable (containing only the target variable)\n",
    "X = df_all[feature_columns]\n",
    "y = df_all[TARGET]"
   ]
  },
  {
   "cell_type": "code",
   "execution_count": 27,
   "metadata": {},
   "outputs": [
    {
     "data": {
      "text/html": [
       "<div>\n",
       "<style scoped>\n",
       "    .dataframe tbody tr th:only-of-type {\n",
       "        vertical-align: middle;\n",
       "    }\n",
       "\n",
       "    .dataframe tbody tr th {\n",
       "        vertical-align: top;\n",
       "    }\n",
       "\n",
       "    .dataframe thead th {\n",
       "        text-align: right;\n",
       "    }\n",
       "</style>\n",
       "<table border=\"1\" class=\"dataframe\">\n",
       "  <thead>\n",
       "    <tr style=\"text-align: right;\">\n",
       "      <th></th>\n",
       "      <th>tenure</th>\n",
       "      <th>MonthlyCharges</th>\n",
       "      <th>TotalCharges</th>\n",
       "      <th>PhoneService_clean_No</th>\n",
       "      <th>PhoneService_clean_Yes</th>\n",
       "      <th>MultipleLines_clean_No</th>\n",
       "      <th>MultipleLines_clean_Nophoneservice</th>\n",
       "      <th>MultipleLines_clean_Yes</th>\n",
       "      <th>InternetService_clean_DSL</th>\n",
       "      <th>InternetService_clean_Fiberoptic</th>\n",
       "      <th>...</th>\n",
       "      <th>StreamingMovies_clean_Yes</th>\n",
       "      <th>Contract_clean_Monthtomonth</th>\n",
       "      <th>Contract_clean_Oneyear</th>\n",
       "      <th>Contract_clean_Twoyear</th>\n",
       "      <th>PaperlessBilling_clean_No</th>\n",
       "      <th>PaperlessBilling_clean_Yes</th>\n",
       "      <th>PaymentMethod_clean_Banktransferautomatic</th>\n",
       "      <th>PaymentMethod_clean_Creditcardautomatic</th>\n",
       "      <th>PaymentMethod_clean_Electroniccheck</th>\n",
       "      <th>PaymentMethod_clean_Mailedcheck</th>\n",
       "    </tr>\n",
       "  </thead>\n",
       "  <tbody>\n",
       "    <tr>\n",
       "      <th>0</th>\n",
       "      <td>72</td>\n",
       "      <td>24.10</td>\n",
       "      <td>1734.65</td>\n",
       "      <td>0</td>\n",
       "      <td>1</td>\n",
       "      <td>0</td>\n",
       "      <td>0</td>\n",
       "      <td>1</td>\n",
       "      <td>0</td>\n",
       "      <td>0</td>\n",
       "      <td>...</td>\n",
       "      <td>0</td>\n",
       "      <td>0</td>\n",
       "      <td>0</td>\n",
       "      <td>1</td>\n",
       "      <td>1</td>\n",
       "      <td>0</td>\n",
       "      <td>0</td>\n",
       "      <td>1</td>\n",
       "      <td>0</td>\n",
       "      <td>0</td>\n",
       "    </tr>\n",
       "    <tr>\n",
       "      <th>1</th>\n",
       "      <td>44</td>\n",
       "      <td>88.15</td>\n",
       "      <td>3973.20</td>\n",
       "      <td>0</td>\n",
       "      <td>1</td>\n",
       "      <td>1</td>\n",
       "      <td>0</td>\n",
       "      <td>0</td>\n",
       "      <td>0</td>\n",
       "      <td>1</td>\n",
       "      <td>...</td>\n",
       "      <td>0</td>\n",
       "      <td>1</td>\n",
       "      <td>0</td>\n",
       "      <td>0</td>\n",
       "      <td>0</td>\n",
       "      <td>1</td>\n",
       "      <td>0</td>\n",
       "      <td>1</td>\n",
       "      <td>0</td>\n",
       "      <td>0</td>\n",
       "    </tr>\n",
       "    <tr>\n",
       "      <th>2</th>\n",
       "      <td>38</td>\n",
       "      <td>74.95</td>\n",
       "      <td>2869.85</td>\n",
       "      <td>0</td>\n",
       "      <td>1</td>\n",
       "      <td>0</td>\n",
       "      <td>0</td>\n",
       "      <td>1</td>\n",
       "      <td>0</td>\n",
       "      <td>1</td>\n",
       "      <td>...</td>\n",
       "      <td>0</td>\n",
       "      <td>1</td>\n",
       "      <td>0</td>\n",
       "      <td>0</td>\n",
       "      <td>0</td>\n",
       "      <td>1</td>\n",
       "      <td>1</td>\n",
       "      <td>0</td>\n",
       "      <td>0</td>\n",
       "      <td>0</td>\n",
       "    </tr>\n",
       "    <tr>\n",
       "      <th>3</th>\n",
       "      <td>4</td>\n",
       "      <td>55.90</td>\n",
       "      <td>238.50</td>\n",
       "      <td>0</td>\n",
       "      <td>1</td>\n",
       "      <td>1</td>\n",
       "      <td>0</td>\n",
       "      <td>0</td>\n",
       "      <td>1</td>\n",
       "      <td>0</td>\n",
       "      <td>...</td>\n",
       "      <td>1</td>\n",
       "      <td>1</td>\n",
       "      <td>0</td>\n",
       "      <td>0</td>\n",
       "      <td>0</td>\n",
       "      <td>1</td>\n",
       "      <td>0</td>\n",
       "      <td>0</td>\n",
       "      <td>1</td>\n",
       "      <td>0</td>\n",
       "    </tr>\n",
       "    <tr>\n",
       "      <th>4</th>\n",
       "      <td>2</td>\n",
       "      <td>53.45</td>\n",
       "      <td>119.50</td>\n",
       "      <td>0</td>\n",
       "      <td>1</td>\n",
       "      <td>1</td>\n",
       "      <td>0</td>\n",
       "      <td>0</td>\n",
       "      <td>1</td>\n",
       "      <td>0</td>\n",
       "      <td>...</td>\n",
       "      <td>0</td>\n",
       "      <td>1</td>\n",
       "      <td>0</td>\n",
       "      <td>0</td>\n",
       "      <td>1</td>\n",
       "      <td>0</td>\n",
       "      <td>0</td>\n",
       "      <td>0</td>\n",
       "      <td>1</td>\n",
       "      <td>0</td>\n",
       "    </tr>\n",
       "  </tbody>\n",
       "</table>\n",
       "<p>5 rows × 38 columns</p>\n",
       "</div>"
      ],
      "text/plain": [
       "   tenure  MonthlyCharges  TotalCharges  PhoneService_clean_No  \\\n",
       "0      72           24.10       1734.65                      0   \n",
       "1      44           88.15       3973.20                      0   \n",
       "2      38           74.95       2869.85                      0   \n",
       "3       4           55.90        238.50                      0   \n",
       "4       2           53.45        119.50                      0   \n",
       "\n",
       "   PhoneService_clean_Yes  MultipleLines_clean_No  \\\n",
       "0                       1                       0   \n",
       "1                       1                       1   \n",
       "2                       1                       0   \n",
       "3                       1                       1   \n",
       "4                       1                       1   \n",
       "\n",
       "   MultipleLines_clean_Nophoneservice  MultipleLines_clean_Yes  \\\n",
       "0                                   0                        1   \n",
       "1                                   0                        0   \n",
       "2                                   0                        1   \n",
       "3                                   0                        0   \n",
       "4                                   0                        0   \n",
       "\n",
       "   InternetService_clean_DSL  InternetService_clean_Fiberoptic  \\\n",
       "0                          0                                 0   \n",
       "1                          0                                 1   \n",
       "2                          0                                 1   \n",
       "3                          1                                 0   \n",
       "4                          1                                 0   \n",
       "\n",
       "                ...                 StreamingMovies_clean_Yes  \\\n",
       "0               ...                                         0   \n",
       "1               ...                                         0   \n",
       "2               ...                                         0   \n",
       "3               ...                                         1   \n",
       "4               ...                                         0   \n",
       "\n",
       "   Contract_clean_Monthtomonth  Contract_clean_Oneyear  \\\n",
       "0                            0                       0   \n",
       "1                            1                       0   \n",
       "2                            1                       0   \n",
       "3                            1                       0   \n",
       "4                            1                       0   \n",
       "\n",
       "   Contract_clean_Twoyear  PaperlessBilling_clean_No  \\\n",
       "0                       1                          1   \n",
       "1                       0                          0   \n",
       "2                       0                          0   \n",
       "3                       0                          0   \n",
       "4                       0                          1   \n",
       "\n",
       "   PaperlessBilling_clean_Yes  PaymentMethod_clean_Banktransferautomatic  \\\n",
       "0                           0                                          0   \n",
       "1                           1                                          0   \n",
       "2                           1                                          1   \n",
       "3                           1                                          0   \n",
       "4                           0                                          0   \n",
       "\n",
       "   PaymentMethod_clean_Creditcardautomatic  \\\n",
       "0                                        1   \n",
       "1                                        1   \n",
       "2                                        0   \n",
       "3                                        0   \n",
       "4                                        0   \n",
       "\n",
       "   PaymentMethod_clean_Electroniccheck  PaymentMethod_clean_Mailedcheck  \n",
       "0                                    0                                0  \n",
       "1                                    0                                0  \n",
       "2                                    0                                0  \n",
       "3                                    1                                0  \n",
       "4                                    1                                0  \n",
       "\n",
       "[5 rows x 38 columns]"
      ]
     },
     "execution_count": 27,
     "metadata": {},
     "output_type": "execute_result"
    }
   ],
   "source": [
    "X.head()"
   ]
  },
  {
   "cell_type": "code",
   "execution_count": 28,
   "metadata": {},
   "outputs": [
    {
     "data": {
      "image/png": "[encoded data removed]",
      "text/plain": [
       "<Figure size 1440x1440 with 4 Axes>"
      ]
     },
     "metadata": {
      "needs_background": "light"
     },
     "output_type": "display_data"
    }
   ],
   "source": [
    "# Plot histograms of each parameter: limit to 4 subplots instead of the '29'\n",
    "numeric_cols = ['tenure', 'MonthlyCharges', 'TotalCharges']\n",
    "#for col in numeric_cols:\n",
    "X[numeric_cols].hist(bins=50, figsize = (20, 20))\n",
    "plt.show()"
   ]
  },
  {
   "cell_type": "markdown",
   "metadata": {},
   "source": [
    "## Split data into training and test (verification)"
   ]
  },
  {
   "cell_type": "code",
   "execution_count": 29,
   "metadata": {},
   "outputs": [],
   "source": [
    "#Split the data set using 'train_test_split' function\n",
    "from sklearn.model_selection import train_test_split\n",
    "X_train, X_test, y_train, y_test = train_test_split(X, y, test_size=0.2, random_state=101)"
   ]
  },
  {
   "cell_type": "code",
   "execution_count": 30,
   "metadata": {},
   "outputs": [
    {
     "data": {
      "text/plain": [
       "3707    False\n",
       "221     False\n",
       "1260    False\n",
       "4591    False\n",
       "3597     True\n",
       "Name: Churn, dtype: bool"
      ]
     },
     "execution_count": 30,
     "metadata": {},
     "output_type": "execute_result"
    }
   ],
   "source": [
    "y_train.head()"
   ]
  },
  {
   "cell_type": "code",
   "execution_count": 31,
   "metadata": {},
   "outputs": [
    {
     "name": "stdout",
     "output_type": "stream",
     "text": [
      "BASELINE: Entire Dataset\n"
     ]
    },
    {
     "data": {
      "text/html": [
       "<div>\n",
       "<style scoped>\n",
       "    .dataframe tbody tr th:only-of-type {\n",
       "        vertical-align: middle;\n",
       "    }\n",
       "\n",
       "    .dataframe tbody tr th {\n",
       "        vertical-align: top;\n",
       "    }\n",
       "\n",
       "    .dataframe thead th {\n",
       "        text-align: right;\n",
       "    }\n",
       "</style>\n",
       "<table border=\"1\" class=\"dataframe\">\n",
       "  <thead>\n",
       "    <tr style=\"text-align: right;\">\n",
       "      <th></th>\n",
       "      <th>counts</th>\n",
       "      <th>percents</th>\n",
       "    </tr>\n",
       "  </thead>\n",
       "  <tbody>\n",
       "    <tr>\n",
       "      <th>False</th>\n",
       "      <td>4399</td>\n",
       "      <td>73.5</td>\n",
       "    </tr>\n",
       "    <tr>\n",
       "      <th>True</th>\n",
       "      <td>1587</td>\n",
       "      <td>26.5</td>\n",
       "    </tr>\n",
       "  </tbody>\n",
       "</table>\n",
       "</div>"
      ],
      "text/plain": [
       "       counts  percents\n",
       "False    4399      73.5\n",
       "True     1587      26.5"
      ]
     },
     "execution_count": 31,
     "metadata": {},
     "output_type": "execute_result"
    }
   ],
   "source": [
    "# Show how unbalanced is the Target data\n",
    "print('BASELINE: Entire Dataset')\n",
    "counts = df_all['Churn'].value_counts()\n",
    "perc = df_all['Churn'].value_counts(normalize=True).mul(100).round(1)\n",
    "pd.DataFrame({'counts': counts, 'percents': perc})"
   ]
  },
  {
   "cell_type": "markdown",
   "metadata": {},
   "source": [
    "> A predictive model should be better than this baseline: The Majority Class (No Churn, with 73.5% Accurracy)"
   ]
  },
  {
   "cell_type": "code",
   "execution_count": 32,
   "metadata": {},
   "outputs": [
    {
     "name": "stdout",
     "output_type": "stream",
     "text": [
      "Training Set\n"
     ]
    },
    {
     "data": {
      "text/html": [
       "<div>\n",
       "<style scoped>\n",
       "    .dataframe tbody tr th:only-of-type {\n",
       "        vertical-align: middle;\n",
       "    }\n",
       "\n",
       "    .dataframe tbody tr th {\n",
       "        vertical-align: top;\n",
       "    }\n",
       "\n",
       "    .dataframe thead th {\n",
       "        text-align: right;\n",
       "    }\n",
       "</style>\n",
       "<table border=\"1\" class=\"dataframe\">\n",
       "  <thead>\n",
       "    <tr style=\"text-align: right;\">\n",
       "      <th></th>\n",
       "      <th>counts</th>\n",
       "      <th>percents</th>\n",
       "    </tr>\n",
       "  </thead>\n",
       "  <tbody>\n",
       "    <tr>\n",
       "      <th>False</th>\n",
       "      <td>3540</td>\n",
       "      <td>73.9</td>\n",
       "    </tr>\n",
       "    <tr>\n",
       "      <th>True</th>\n",
       "      <td>1248</td>\n",
       "      <td>26.1</td>\n",
       "    </tr>\n",
       "  </tbody>\n",
       "</table>\n",
       "</div>"
      ],
      "text/plain": [
       "       counts  percents\n",
       "False    3540      73.9\n",
       "True     1248      26.1"
      ]
     },
     "execution_count": 32,
     "metadata": {},
     "output_type": "execute_result"
    }
   ],
   "source": [
    "print('Training Set')\n",
    "counts = y_train.value_counts()\n",
    "perc = y_train.value_counts(normalize=True).mul(100).round(1)\n",
    "pd.DataFrame({'counts': counts, 'percents': perc})"
   ]
  },
  {
   "cell_type": "markdown",
   "metadata": {},
   "source": [
    "A best practice for using the class weighting is to use the inverse of the class distribution present in the training dataset."
   ]
  },
  {
   "cell_type": "code",
   "execution_count": 33,
   "metadata": {},
   "outputs": [],
   "source": [
    "weights = {0:26.0, 1:74.0}  # The opposite of the Target Distribution in the training percents"
   ]
  },
  {
   "cell_type": "code",
   "execution_count": 34,
   "metadata": {},
   "outputs": [
    {
     "name": "stdout",
     "output_type": "stream",
     "text": [
      "Test Set\n"
     ]
    },
    {
     "data": {
      "text/html": [
       "<div>\n",
       "<style scoped>\n",
       "    .dataframe tbody tr th:only-of-type {\n",
       "        vertical-align: middle;\n",
       "    }\n",
       "\n",
       "    .dataframe tbody tr th {\n",
       "        vertical-align: top;\n",
       "    }\n",
       "\n",
       "    .dataframe thead th {\n",
       "        text-align: right;\n",
       "    }\n",
       "</style>\n",
       "<table border=\"1\" class=\"dataframe\">\n",
       "  <thead>\n",
       "    <tr style=\"text-align: right;\">\n",
       "      <th></th>\n",
       "      <th>counts</th>\n",
       "      <th>percents</th>\n",
       "    </tr>\n",
       "  </thead>\n",
       "  <tbody>\n",
       "    <tr>\n",
       "      <th>False</th>\n",
       "      <td>859</td>\n",
       "      <td>71.7</td>\n",
       "    </tr>\n",
       "    <tr>\n",
       "      <th>True</th>\n",
       "      <td>339</td>\n",
       "      <td>28.3</td>\n",
       "    </tr>\n",
       "  </tbody>\n",
       "</table>\n",
       "</div>"
      ],
      "text/plain": [
       "       counts  percents\n",
       "False     859      71.7\n",
       "True      339      28.3"
      ]
     },
     "execution_count": 34,
     "metadata": {},
     "output_type": "execute_result"
    }
   ],
   "source": [
    "print('Test Set')\n",
    "counts = y_test.value_counts()\n",
    "perc = y_test.value_counts(normalize=True).mul(100).round(1)\n",
    "pd.DataFrame({'counts': counts, 'percents': perc})"
   ]
  },
  {
   "cell_type": "markdown",
   "metadata": {},
   "source": [
    "> The Training/Test split did not **significantly** change the unbalanced distribution of the Target"
   ]
  },
  {
   "cell_type": "markdown",
   "metadata": {},
   "source": [
    "## Train a Logistic Regression Classification Model"
   ]
  },
  {
   "cell_type": "code",
   "execution_count": 35,
   "metadata": {},
   "outputs": [
    {
     "name": "stderr",
     "output_type": "stream",
     "text": [
      "/Applications/anaconda/envs/Python3/lib/python3.6/site-packages/sklearn/linear_model/logistic.py:433: FutureWarning: Default solver will be changed to 'lbfgs' in 0.22. Specify a solver to silence this warning.\n",
      "  FutureWarning)\n"
     ]
    },
    {
     "data": {
      "text/plain": [
       "LogisticRegression(C=1.0, class_weight={0: 26.0, 1: 74.0}, dual=False,\n",
       "          fit_intercept=True, intercept_scaling=1, max_iter=100,\n",
       "          multi_class='warn', n_jobs=None, penalty='l2', random_state=None,\n",
       "          solver='warn', tol=0.0001, verbose=0, warm_start=False)"
      ]
     },
     "execution_count": 35,
     "metadata": {},
     "output_type": "execute_result"
    }
   ],
   "source": [
    "# Instantiate the model to an empty object\n",
    "from sklearn.linear_model import LogisticRegression\n",
    "\n",
    "model = LogisticRegression(class_weight=weights)\n",
    "\n",
    "# Train the model using 'fit' method on the train dataset\n",
    "model.fit(X_train, y_train)"
   ]
  },
  {
   "cell_type": "code",
   "execution_count": 36,
   "metadata": {},
   "outputs": [],
   "source": [
    "y_pred_train = model.predict(X_train)"
   ]
  },
  {
   "cell_type": "code",
   "execution_count": 37,
   "metadata": {},
   "outputs": [
    {
     "name": "stdout",
     "output_type": "stream",
     "text": [
      "TRAINING SET:\n",
      "Accuracy Score : 0.7472848788638262\n",
      "Precision Score : 0.509683995922528\n",
      "Recall Score : 0.8012820512820513\n",
      "F1 Score : 0.6230529595015576\n"
     ]
    }
   ],
   "source": [
    "print('TRAINING SET:')\n",
    "print('Accuracy Score : ' + str(accuracy_score(y_train,y_pred_train)))\n",
    "print('Precision Score : ' + str(precision_score(y_train,y_pred_train)))\n",
    "print('Recall Score : ' + str(recall_score(y_train,y_pred_train)))\n",
    "print('F1 Score : ' + str(f1_score(y_train,y_pred_train)))\n"
   ]
  },
  {
   "cell_type": "markdown",
   "metadata": {},
   "source": [
    "    PREVIOUS TRAINING SET (with class_weight=Default=None):\n",
    "    Accuracy Score : 0.8034670008354219   [Hight:Better]\n",
    "    Precision Score : 0.6488845780795345  [Hight:Better]\n",
    "    Recall Score : 0.5360576923076923     [Hight:Better] \n",
    "    F1 Score : 0.5870996050899517         [1:Perfect, 0:Failure]"
   ]
  },
  {
   "cell_type": "markdown",
   "metadata": {},
   "source": [
    "## Verify the Supervised Machine-Learning Classification Model"
   ]
  },
  {
   "cell_type": "code",
   "execution_count": 38,
   "metadata": {},
   "outputs": [],
   "source": [
    "# Verify the model using 'predict' method on the test dataset\n",
    "y_pred = model.predict(X_test)"
   ]
  },
  {
   "cell_type": "code",
   "execution_count": 39,
   "metadata": {},
   "outputs": [
    {
     "name": "stdout",
     "output_type": "stream",
     "text": [
      "[[628 231]\n",
      " [ 74 265]]\n",
      "628 231 74 265\n",
      "628 231 74 265\n"
     ]
    }
   ],
   "source": [
    "# Print the confusion matrix\n",
    "from sklearn.metrics import confusion_matrix\n",
    "\n",
    "#labels = [0, 1]  # ‘Class’ is the target variable, 1 in case of fraud and 0 otherwise.\n",
    "conf_matrx = confusion_matrix(y_test, y_pred)\n",
    "print(conf_matrx)\n",
    "\n",
    "fp = conf_matrx[0,1]\n",
    "fn = conf_matrx[1,0]\n",
    "tp = conf_matrx[1,1]\n",
    "tn = conf_matrx[0,0]\n",
    "print(tn,fp,fn,tp)\n",
    "\n",
    "true_negatives, false_positives, false_negatives, true_positives = confusion_matrix(y_test, y_pred).ravel()\n",
    "print(true_negatives, false_positives, false_negatives, true_positives)"
   ]
  },
  {
   "cell_type": "code",
   "execution_count": 40,
   "metadata": {},
   "outputs": [
    {
     "name": "stdout",
     "output_type": "stream",
     "text": [
      "              precision    recall  f1-score   support\n",
      "\n",
      "       False       0.89      0.73      0.80       859\n",
      "        True       0.53      0.78      0.63       339\n",
      "\n",
      "   micro avg       0.75      0.75      0.75      1198\n",
      "   macro avg       0.71      0.76      0.72      1198\n",
      "weighted avg       0.79      0.75      0.76      1198\n",
      "\n"
     ]
    }
   ],
   "source": [
    "# Print the classification report \n",
    "from sklearn.metrics import classification_report\n",
    "print(classification_report(y_test, y_pred))"
   ]
  },
  {
   "cell_type": "code",
   "execution_count": 41,
   "metadata": {},
   "outputs": [
    {
     "name": "stdout",
     "output_type": "stream",
     "text": [
      "accuracy = 0.7454090150250418\n"
     ]
    }
   ],
   "source": [
    "accuracy = (tp + tn) / (tp+fp+tn+fn)\n",
    "print('accuracy =',accuracy)"
   ]
  },
  {
   "cell_type": "markdown",
   "metadata": {},
   "source": [
    "> Which is already better than the baseline: The Majority Class (No Churn, with 73.5% Accurracy)\n",
    "\n",
    "However, the TEST SET with class_weight=Default ==> accuracy = 0.7904841402337228"
   ]
  },
  {
   "cell_type": "code",
   "execution_count": 42,
   "metadata": {},
   "outputs": [],
   "source": [
    "import itertools\n",
    "def plot_confusion_matrix(cm, classes,\n",
    "                          title='Confusion Matrix', \n",
    "                          cmap=plt.cm.Blues):\n",
    "    \"\"\"\n",
    "    This function prints and plots the confusion matrix.\n",
    "    \"\"\"\n",
    "    plt.imshow(cm, interpolation=\"nearest\", cmap=cmap)\n",
    "    plt.title(title)\n",
    "    plt.colorbar()\n",
    "    tick_marks = np.arange(len(classes))\n",
    "    plt.xticks(tick_marks, classes, rotation=45)\n",
    "    plt.yticks(tick_marks, classes)\n",
    "    \n",
    "    print(cm)\n",
    "    \n",
    "    thresh = cm.max() / 2.\n",
    "    for i,j in itertools.product(range(cm.shape[0]), range(cm.shape[1])):\n",
    "        plt.text(j,i,int(round(cm[i,j])),\n",
    "                horizontalalignment=\"center\",\n",
    "                color=\"white\" if cm[i,j] > thresh else \"black\")\n",
    "    \n",
    "    plt.tight_layout()\n",
    "    plt.ylabel('True label')\n",
    "    plt.xlabel('Predicted label')"
   ]
  },
  {
   "cell_type": "code",
   "execution_count": 43,
   "metadata": {},
   "outputs": [
    {
     "name": "stdout",
     "output_type": "stream",
     "text": [
      "[[2578  962]\n",
      " [ 248 1000]]\n",
      "[[53.84294069 20.09189641]\n",
      " [ 5.17961571 20.8855472 ]]\n"
     ]
    },
    {
     "data": {
      "image/png": "[encoded data removed]",
      "text/plain": [
       "<Figure size 432x288 with 2 Axes>"
      ]
     },
     "metadata": {
      "needs_background": "light"
     },
     "output_type": "display_data"
    },
    {
     "data": {
      "image/png": "[encoded data removed]",
      "text/plain": [
       "<Figure size 432x288 with 2 Axes>"
      ]
     },
     "metadata": {
      "needs_background": "light"
     },
     "output_type": "display_data"
    }
   ],
   "source": [
    "# Plot Confusion Matrix in counts\n",
    "plt.figure() \n",
    "conf_matrix_train = confusion_matrix(y_train, y_pred_train)\n",
    "plot_confusion_matrix(conf_matrix_train, classes=['0:Retain','1:Churn'], \n",
    "                      title=\"Train Confusion Matrix, Counts\")\n",
    "plt.figure()\n",
    "#plt.savefig('AnalyzeChurn_conf_matrix_counts_train.png')\n",
    "\n",
    "# Plot Confusion Matrix in percents\n",
    "conf_matrix_train_percents = 100.0 * conf_matrix_train /float(len(y_train))\n",
    "plot_confusion_matrix(conf_matrix_train_percents, classes=['0:Retain','1:Churn'],\n",
    "                      title=\"Train Confusion Matrix, Percents\")\n",
    "plt.show\n",
    "plt.savefig('AnalyzeChurn_conf_matrix_prcnts_train.png')"
   ]
  },
  {
   "cell_type": "code",
   "execution_count": 44,
   "metadata": {},
   "outputs": [
    {
     "name": "stdout",
     "output_type": "stream",
     "text": [
      "[[628 231]\n",
      " [ 74 265]]\n",
      "[[52.42070117 19.28213689]\n",
      " [ 6.1769616  22.12020033]]\n"
     ]
    },
    {
     "data": {
      "image/png": "[encoded data removed]",
      "text/plain": [
       "<Figure size 432x288 with 2 Axes>"
      ]
     },
     "metadata": {
      "needs_background": "light"
     },
     "output_type": "display_data"
    },
    {
     "data": {
      "image/png": "[encoded data removed]",
      "text/plain": [
       "<Figure size 432x288 with 2 Axes>"
      ]
     },
     "metadata": {
      "needs_background": "light"
     },
     "output_type": "display_data"
    }
   ],
   "source": [
    "# Plot Confusion Matrix in counts\n",
    "plt.figure() \n",
    "plot_confusion_matrix(conf_matrx, classes=['0:Retain','1:Churn'], \n",
    "                      title=\"Test Confusion Matrix, Counts\")\n",
    "plt.figure()\n",
    "#plt.show\n",
    "#plt.savefig('AnalyzeChurn_conf_matrix_counts_test.png')\n",
    "\n",
    "# Plot Confusion Matrix in percents\n",
    "conf_matrix_test_percents = 100.0 * conf_matrx /float(len(y_test))\n",
    "plot_confusion_matrix(conf_matrix_test_percents, classes=['0:Retain','1:Churn'],\n",
    "                      title=\"Test Confusion Matrix, Percents\")\n",
    "plt.show\n",
    "plt.savefig('AnalyzeChurn_conf_matrix_prcnts_test.png')"
   ]
  },
  {
   "cell_type": "markdown",
   "metadata": {},
   "source": [
    "Confusion Matrix with Weights on class percents:\n",
    "\n",
    "    [[628 231]\n",
    "     [ 74 265]]\n",
    "    [[52.42070117 19.28213689]\n",
    "     [ 6.1769616  22.12020033]]\n",
    "\n",
    "Confusion Matrix with NO Weights on class percents:\n",
    "\n",
    "    [[780  79]\n",
    "     [172 167]]\n",
    "    [[65.10851419  6.59432387]\n",
    "     [14.3572621  13.93989983]]\n",
    " \n",
    "> Very Similar Confusion Matrices for Train and Test sets \n",
    "\n",
    "> ==> Overfitting is unlikely"
   ]
  },
  {
   "cell_type": "markdown",
   "metadata": {},
   "source": [
    "## Feature Importance"
   ]
  },
  {
   "cell_type": "code",
   "execution_count": 45,
   "metadata": {},
   "outputs": [],
   "source": [
    "plt.style.use('ggplot')"
   ]
  },
  {
   "cell_type": "code",
   "execution_count": 46,
   "metadata": {},
   "outputs": [
    {
     "name": "stdout",
     "output_type": "stream",
     "text": [
      "{'tenure': -0.0497223242283264, 'MonthlyCharges': 0.0063665350960620945, 'TotalCharges': 0.0002627576266959164, 'PhoneService_clean_No': 0.11401353586158107, 'PhoneService_clean_Yes': -0.18481278555426567, 'MultipleLines_clean_No': -0.19445349467773373, 'MultipleLines_clean_Nophoneservice': 0.11401353586158107, 'MultipleLines_clean_Yes': 0.009640709123466202, 'InternetService_clean_DSL': -0.2715766408150481, 'InternetService_clean_Fiberoptic': 0.2693084551797183, 'InternetService_clean_No': -0.06853106405736055, 'OnlineSecurity_clean_No': 0.27181167253909644, 'OnlineSecurity_clean_Nointernetservice': -0.06853106405736055, 'OnlineSecurity_clean_Yes': -0.2740798581744293, 'OnlineBackup_clean_No': 0.0931237609922661, 'OnlineBackup_clean_Nointernetservice': -0.06853106405736055, 'OnlineBackup_clean_Yes': -0.09539194662759494, 'DeviceProtection_clean_No': 0.09109222044889008, 'DeviceProtection_clean_Nointernetservice': -0.06853106405736055, 'DeviceProtection_clean_Yes': -0.09336040608421899, 'TechSupport_clean_No': 0.18589573930227168, 'TechSupport_clean_Nointernetservice': -0.06853106405736055, 'TechSupport_clean_Yes': -0.1881639249376245, 'StreamingTV_clean_No': -0.08997426722499557, 'StreamingTV_clean_Nointernetservice': -0.06853106405736055, 'StreamingTV_clean_Yes': 0.08770608158966402, 'StreamingMovies_clean_No': -0.10063850622816133, 'StreamingMovies_clean_Nointernetservice': -0.06853106405736055, 'StreamingMovies_clean_Yes': 0.0983703205928266, 'Contract_clean_Monthtomonth': 0.6995884516707078, 'Contract_clean_Oneyear': -0.028052206872054647, 'Contract_clean_Twoyear': -0.7423354944913362, 'PaperlessBilling_clean_No': -0.20495006075402256, 'PaperlessBilling_clean_Yes': 0.13415081106134402, 'PaymentMethod_clean_Banktransferautomatic': -0.18526751377901035, 'PaymentMethod_clean_Creditcardautomatic': -0.043454660064043686, 'PaymentMethod_clean_Electroniccheck': 0.28937407153774647, 'PaymentMethod_clean_Mailedcheck': -0.1314511473873968}\n"
     ]
    }
   ],
   "source": [
    "coef_dict_baseline = {}\n",
    "for coef, feat in zip(model.coef_[0], X_train.columns):\n",
    "    coef_dict_baseline[feat] = coef\n",
    "print(coef_dict_baseline)"
   ]
  },
  {
   "cell_type": "code",
   "execution_count": 47,
   "metadata": {},
   "outputs": [
    {
     "data": {
      "text/plain": [
       "[-0.0497223242283264,\n",
       " 0.0063665350960620945,\n",
       " 0.0002627576266959164,\n",
       " 0.11401353586158107,\n",
       " -0.18481278555426567,\n",
       " -0.19445349467773373,\n",
       " 0.11401353586158107,\n",
       " 0.009640709123466202,\n",
       " -0.2715766408150481,\n",
       " 0.2693084551797183,\n",
       " -0.06853106405736055,\n",
       " 0.27181167253909644,\n",
       " -0.06853106405736055,\n",
       " -0.2740798581744293,\n",
       " 0.0931237609922661,\n",
       " -0.06853106405736055,\n",
       " -0.09539194662759494,\n",
       " 0.09109222044889008,\n",
       " -0.06853106405736055,\n",
       " -0.09336040608421899,\n",
       " 0.18589573930227168,\n",
       " -0.06853106405736055,\n",
       " -0.1881639249376245,\n",
       " -0.08997426722499557,\n",
       " -0.06853106405736055,\n",
       " 0.08770608158966402,\n",
       " -0.10063850622816133,\n",
       " -0.06853106405736055,\n",
       " 0.0983703205928266,\n",
       " 0.6995884516707078,\n",
       " -0.028052206872054647,\n",
       " -0.7423354944913362,\n",
       " -0.20495006075402256,\n",
       " 0.13415081106134402,\n",
       " -0.18526751377901035,\n",
       " -0.043454660064043686,\n",
       " 0.28937407153774647,\n",
       " -0.1314511473873968]"
      ]
     },
     "execution_count": 47,
     "metadata": {},
     "output_type": "execute_result"
    }
   ],
   "source": [
    "list(coef_dict_baseline.values())"
   ]
  },
  {
   "cell_type": "code",
   "execution_count": 48,
   "metadata": {},
   "outputs": [
    {
     "data": {
      "image/png": "[encoded data removed]",
      "text/plain": [
       "<Figure size 864x864 with 1 Axes>"
      ]
     },
     "metadata": {},
     "output_type": "display_data"
    }
   ],
   "source": [
    "# Horizontal Bars\n",
    "plt.rc('font', size=16) # For title and axis labels\n",
    "\n",
    "plt.figure(figsize = (12,12))\n",
    "#plt.bar(coef_dict_baseline.keys(), coef_dict_baseline.values())\n",
    "\n",
    "y_pos = np.arange( len( coef_dict_baseline.keys() ) )\n",
    "plt.barh(y_pos, list(coef_dict_baseline.values()), color='tab:blue')\n",
    "plt.yticks(y_pos, coef_dict_baseline.keys())\n",
    "plt.axvline(x=0, color='gray', linestyle=':')\n",
    "#ax.set_yticks(y_pos)\n",
    "#ax.set_yticklabels(people)\n",
    "#ax.invert_yaxis()  # labels read top-to-bottom\n",
    "\n",
    "#plt.xticks(rotation=45, horizontalalignment='right')\n",
    "plt.xlabel('Logistic Regression Coefficient')\n",
    "plt.title('Features')\n",
    "plt.savefig('AnalyzeChurn_coefficients.png', # This generates an error when lead_time_string has special characters such as '/'\n",
    "            dpi=300, \n",
    "            bbox_inches='tight',  #  set bbox_inches='tight' so the axis labels in the plot are NOT cut off in the saved image\n",
    "           ) \n",
    "plt.show()"
   ]
  },
  {
   "cell_type": "markdown",
   "metadata": {},
   "source": [
    "Recall this is a classification problem with classes Churn=0 and Churn=1. \n",
    "Notice that the coefficients are both positive and negative. \n",
    "> The positive coefficients indicate a feature that predicts class Churn=1=True, whereas the **negative coefficients** indicate a feature that predicts class **Churn=0=False**.\n",
    "\n",
    "### To reduce Churn, try to offer a Special so that clients sign for a 2-year contract, Internet Service DSL, and/or Online Security."
   ]
  },
  {
   "cell_type": "markdown",
   "metadata": {},
   "source": [
    "## Save the model for later deployment"
   ]
  },
  {
   "cell_type": "code",
   "execution_count": 50,
   "metadata": {},
   "outputs": [
    {
     "data": {
      "text/plain": [
       "['AnalyzeChurn_model.pkl']"
      ]
     },
     "execution_count": 50,
     "metadata": {},
     "output_type": "execute_result"
    }
   ],
   "source": [
    "# Save the model as a Pickle file\n",
    "from sklearn.externals import joblib\n",
    "joblib.dump(value=model, filename='AnalyzeChurn_model.pkl')"
   ]
  },
  {
   "cell_type": "code",
   "execution_count": null,
   "metadata": {},
   "outputs": [],
   "source": []
  }
 ],
 "metadata": {
  "kernelspec": {
   "display_name": "Python 3",
   "language": "python",
   "name": "python3"
  },
  "language_info": {
   "codemirror_mode": {
    "name": "ipython",
    "version": 3
   },
   "file_extension": ".py",
   "mimetype": "text/x-python",
   "name": "python",
   "nbconvert_exporter": "python",
   "pygments_lexer": "ipython3",
   "version": "3.6.7"
  }
 },
 "nbformat": 4,
 "nbformat_minor": 2
}
