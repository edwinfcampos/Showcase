{
 "cells": [
  {
   "cell_type": "markdown",
   "metadata": {},
   "source": [
    "# Fraud Prediction at Electronica\n",
    "\n",
    "\n",
    "This outputs a machine learning model that predicts the probability \n",
    "that the first transaction of a new user is fraudulent.\n",
    "\n",
    "If you fail to identify a fraudulent transaction, \n",
    "Electronica loses money equivalent to the price of the fraudulently purchased product. \n",
    "\n",
    "If you incorrectly flag a real transaction as fraudulent, \n",
    "it inconveniences the Electronica customers whose valid transactions are flagged—a cost your client values at $8.\n",
    "\n",
    "    Created by Edwin Campos on 2020 Feb.16\n",
    "    Last modification on 2020 Feb.16 by ecampos.phd@gmail.com\n"
   ]
  },
  {
   "cell_type": "code",
   "execution_count": 1,
   "metadata": {},
   "outputs": [],
   "source": [
    "# Dependencies\n",
    "import pandas as pd\n",
    "import datetime as dt"
   ]
  },
  {
   "cell_type": "code",
   "execution_count": 2,
   "metadata": {},
   "outputs": [],
   "source": [
    "# Global Variables\n",
    "INPUT_PATH = '/Users/ecampos/AnacondaProjects/DS-Fraud-Test/Fraud - For Candidate/Fraud - For Candidate/'\n",
    "INPUT_FILE = 'fraud.csv'\n",
    "TARGET = 'class'   # Column in dataframe with target values, Fraud:1, Good:0"
   ]
  },
  {
   "cell_type": "code",
   "execution_count": 3,
   "metadata": {},
   "outputs": [
    {
     "name": "stderr",
     "output_type": "stream",
     "text": [
      "/Applications/anaconda/envs/Python3/lib/python3.6/site-packages/IPython/core/interactiveshell.py:3020: DtypeWarning: Columns (4) have mixed types. Specify dtype option on import or set low_memory=False.\n",
      "  interactivity=interactivity, compiler=compiler, result=result)\n"
     ]
    }
   ],
   "source": [
    "# Ingest Input dataset\n",
    "df_all=pd.read_csv(INPUT_PATH+INPUT_FILE)"
   ]
  },
  {
   "cell_type": "code",
   "execution_count": 4,
   "metadata": {},
   "outputs": [
    {
     "name": "stdout",
     "output_type": "stream",
     "text": [
      "(120000, 12)\n"
     ]
    },
    {
     "data": {
      "text/html": [
       "<div>\n",
       "<style scoped>\n",
       "    .dataframe tbody tr th:only-of-type {\n",
       "        vertical-align: middle;\n",
       "    }\n",
       "\n",
       "    .dataframe tbody tr th {\n",
       "        vertical-align: top;\n",
       "    }\n",
       "\n",
       "    .dataframe thead th {\n",
       "        text-align: right;\n",
       "    }\n",
       "</style>\n",
       "<table border=\"1\" class=\"dataframe\">\n",
       "  <thead>\n",
       "    <tr style=\"text-align: right;\">\n",
       "      <th></th>\n",
       "      <th>Unnamed: 0</th>\n",
       "      <th>user_id</th>\n",
       "      <th>signup_time</th>\n",
       "      <th>purchase_time</th>\n",
       "      <th>purchase_value</th>\n",
       "      <th>device_id</th>\n",
       "      <th>source</th>\n",
       "      <th>browser</th>\n",
       "      <th>sex</th>\n",
       "      <th>age</th>\n",
       "      <th>ip_address</th>\n",
       "      <th>class</th>\n",
       "    </tr>\n",
       "  </thead>\n",
       "  <tbody>\n",
       "    <tr>\n",
       "      <th>0</th>\n",
       "      <td>149671</td>\n",
       "      <td>285108</td>\n",
       "      <td>7/15/2015 4:36</td>\n",
       "      <td>9/10/2015 14:17</td>\n",
       "      <td>31</td>\n",
       "      <td>HZAKVUFTDOSFD</td>\n",
       "      <td>Direct</td>\n",
       "      <td>Chrome</td>\n",
       "      <td>M</td>\n",
       "      <td>49</td>\n",
       "      <td>2.818400e+09</td>\n",
       "      <td>0</td>\n",
       "    </tr>\n",
       "    <tr>\n",
       "      <th>1</th>\n",
       "      <td>15611</td>\n",
       "      <td>131009</td>\n",
       "      <td>1/24/2015 12:29</td>\n",
       "      <td>4/13/2015 4:53</td>\n",
       "      <td>31</td>\n",
       "      <td>XGQAJSOUJIZCC</td>\n",
       "      <td>SEO</td>\n",
       "      <td>IE</td>\n",
       "      <td>F</td>\n",
       "      <td>21</td>\n",
       "      <td>3.251268e+09</td>\n",
       "      <td>0</td>\n",
       "    </tr>\n",
       "    <tr>\n",
       "      <th>2</th>\n",
       "      <td>73178</td>\n",
       "      <td>328855</td>\n",
       "      <td>3/11/2015 0:54</td>\n",
       "      <td>4/5/2015 12:23</td>\n",
       "      <td>16</td>\n",
       "      <td>VCCTAYDCWKZIY</td>\n",
       "      <td>Direct</td>\n",
       "      <td>IE</td>\n",
       "      <td>M</td>\n",
       "      <td>26</td>\n",
       "      <td>2.727760e+09</td>\n",
       "      <td>0</td>\n",
       "    </tr>\n",
       "    <tr>\n",
       "      <th>3</th>\n",
       "      <td>84546</td>\n",
       "      <td>229053</td>\n",
       "      <td>1/7/2015 13:19</td>\n",
       "      <td>1/9/2015 10:12</td>\n",
       "      <td>29</td>\n",
       "      <td>MFFIHYNXCJLEY</td>\n",
       "      <td>SEO</td>\n",
       "      <td>Chrome</td>\n",
       "      <td>M</td>\n",
       "      <td>34</td>\n",
       "      <td>2.083420e+09</td>\n",
       "      <td>0</td>\n",
       "    </tr>\n",
       "    <tr>\n",
       "      <th>4</th>\n",
       "      <td>35978</td>\n",
       "      <td>108439</td>\n",
       "      <td>2/8/2015 21:11</td>\n",
       "      <td>4/9/2015 14:26</td>\n",
       "      <td>26</td>\n",
       "      <td>WMSXWGVPNIFBM</td>\n",
       "      <td>Ads</td>\n",
       "      <td>FireFox</td>\n",
       "      <td>M</td>\n",
       "      <td>33</td>\n",
       "      <td>3.207913e+09</td>\n",
       "      <td>0</td>\n",
       "    </tr>\n",
       "  </tbody>\n",
       "</table>\n",
       "</div>"
      ],
      "text/plain": [
       "   Unnamed: 0  user_id      signup_time    purchase_time purchase_value  \\\n",
       "0      149671   285108   7/15/2015 4:36  9/10/2015 14:17             31   \n",
       "1       15611   131009  1/24/2015 12:29   4/13/2015 4:53             31   \n",
       "2       73178   328855   3/11/2015 0:54   4/5/2015 12:23             16   \n",
       "3       84546   229053   1/7/2015 13:19   1/9/2015 10:12             29   \n",
       "4       35978   108439   2/8/2015 21:11   4/9/2015 14:26             26   \n",
       "\n",
       "       device_id  source  browser sex  age    ip_address  class  \n",
       "0  HZAKVUFTDOSFD  Direct   Chrome   M   49  2.818400e+09      0  \n",
       "1  XGQAJSOUJIZCC     SEO       IE   F   21  3.251268e+09      0  \n",
       "2  VCCTAYDCWKZIY  Direct       IE   M   26  2.727760e+09      0  \n",
       "3  MFFIHYNXCJLEY     SEO   Chrome   M   34  2.083420e+09      0  \n",
       "4  WMSXWGVPNIFBM     Ads  FireFox   M   33  3.207913e+09      0  "
      ]
     },
     "execution_count": 4,
     "metadata": {},
     "output_type": "execute_result"
    }
   ],
   "source": [
    "print(df_all.shape)\n",
    "df_all.head()"
   ]
  },
  {
   "cell_type": "markdown",
   "metadata": {},
   "source": [
    "## Feature Engeneering"
   ]
  },
  {
   "cell_type": "markdown",
   "metadata": {},
   "source": [
    "### Do we have columns with too many missing values?"
   ]
  },
  {
   "cell_type": "code",
   "execution_count": 5,
   "metadata": {},
   "outputs": [
    {
     "name": "stdout",
     "output_type": "stream",
     "text": [
      "% of missing observations:\n",
      "Unnamed: 0        0.0\n",
      "user_id           0.0\n",
      "signup_time       0.0\n",
      "purchase_time     0.0\n",
      "purchase_value    0.0\n",
      "device_id         0.0\n",
      "source            0.0\n",
      "browser           0.0\n",
      "sex               0.0\n",
      "age               0.0\n",
      "ip_address        0.0\n",
      "class             0.0\n",
      "dtype: float64\n"
     ]
    }
   ],
   "source": [
    "# Get rid of columns with too little values\n",
    "print(\"% of missing observations:\")\n",
    "print(df_all.isnull().mean()*100)"
   ]
  },
  {
   "cell_type": "markdown",
   "metadata": {},
   "source": [
    "Good! There are no missing values."
   ]
  },
  {
   "cell_type": "markdown",
   "metadata": {},
   "source": [
    "### Are there repeated values for user_id?\n",
    "If so, that would mean that we are getting transactions other than the first one, which we cannot use in the model.\n",
    "\n",
    "Recall that we should only have information about each user’s first transaction on Electronica’s website."
   ]
  },
  {
   "cell_type": "code",
   "execution_count": 6,
   "metadata": {},
   "outputs": [
    {
     "name": "stdout",
     "output_type": "stream",
     "text": [
      "Duplicate Rows based on user_id column are:\n",
      "Empty DataFrame\n",
      "Columns: [Unnamed: 0, user_id, signup_time, purchase_time, purchase_value, device_id, source, browser, sex, age, ip_address, class]\n",
      "Index: []\n"
     ]
    }
   ],
   "source": [
    "# Select all duplicate rows based on one column\n",
    "df_duplicate_user_id = df_all[df_all.duplicated(['user_id'])]\n",
    "print(\"Duplicate Rows based on user_id column are:\", df_duplicate_user_id, sep='\\n')"
   ]
  },
  {
   "cell_type": "markdown",
   "metadata": {},
   "source": [
    "Good! There are no duplicated user_id values."
   ]
  },
  {
   "cell_type": "markdown",
   "metadata": {},
   "source": [
    "### Handle Non-Numeric values"
   ]
  },
  {
   "cell_type": "code",
   "execution_count": 7,
   "metadata": {},
   "outputs": [
    {
     "data": {
      "text/plain": [
       "Unnamed: 0          int64\n",
       "user_id             int64\n",
       "signup_time        object\n",
       "purchase_time      object\n",
       "purchase_value     object\n",
       "device_id          object\n",
       "source             object\n",
       "browser            object\n",
       "sex                object\n",
       "age                 int64\n",
       "ip_address        float64\n",
       "class               int64\n",
       "dtype: object"
      ]
     },
     "execution_count": 7,
     "metadata": {},
     "output_type": "execute_result"
    }
   ],
   "source": [
    "df_all.dtypes"
   ]
  },
  {
   "cell_type": "markdown",
   "metadata": {},
   "source": [
    "#### Convert from Dates and Times into Seconds since Epoch"
   ]
  },
  {
   "cell_type": "code",
   "execution_count": 8,
   "metadata": {},
   "outputs": [],
   "source": [
    "df_all['signup_datetime'] = pd.to_datetime(df_all['signup_time'])\n",
    "df_all['signup_epoch'] = (df_all['signup_datetime'] - dt.datetime(1970,1,1)).dt.total_seconds()"
   ]
  },
  {
   "cell_type": "code",
   "execution_count": 9,
   "metadata": {},
   "outputs": [],
   "source": [
    "df_all['purchase_datetime'] = pd.to_datetime(df_all['purchase_time'])\n",
    "df_all['purchase_epoch'] = (df_all['purchase_datetime']  - dt.datetime(1970,1,1)).dt.total_seconds()"
   ]
  },
  {
   "cell_type": "markdown",
   "metadata": {},
   "source": [
    "#### Create new column features for days of week and period between signup and first purchase"
   ]
  },
  {
   "cell_type": "code",
   "execution_count": 10,
   "metadata": {},
   "outputs": [],
   "source": [
    "# days_name = {0:'Mon',1:'Tues',2:'Weds',3:'Thurs',4:'Fri',5:'Sat',6:'Sun'}\n",
    "df_all['signup_dayofweek'] = df_all['signup_datetime'].dt.dayofweek\n",
    "df_all['purchase_dayofweek'] = df_all['purchase_datetime'].dt.dayofweek\n",
    "df_all[\"purchase_signup_epoch\"] = (df_all['purchase_epoch'] - df_all['signup_epoch'])"
   ]
  },
  {
   "cell_type": "code",
   "execution_count": 11,
   "metadata": {},
   "outputs": [
    {
     "name": "stdout",
     "output_type": "stream",
     "text": [
      "          my_dates   my_dates_datetime  dayofweek dayname\n",
      "0  2/16/2020 12:23 2020-02-16 12:23:00          6  Sunday\n",
      "1   2/21/2020 4:36 2020-02-21 04:36:00          4  Friday\n"
     ]
    }
   ],
   "source": [
    "# Unit test\n",
    "df_t = pd.DataFrame({ 'my_dates':['2/16/2020 12:23','2/21/2020 4:36'] })\n",
    "df_t['my_dates_datetime'] = pd.to_datetime(df_t['my_dates'])\n",
    "df_t['dayofweek'] = df_t['my_dates_datetime'].dt.dayofweek\n",
    "df_t['dayname'] = df_t['my_dates_datetime'].dt.weekday_name\n",
    "print(df_t.head() )"
   ]
  },
  {
   "cell_type": "markdown",
   "metadata": {},
   "source": [
    "#### Convert to purchase_value and age into numeric type"
   ]
  },
  {
   "cell_type": "code",
   "execution_count": 12,
   "metadata": {},
   "outputs": [],
   "source": [
    "#df_all['purchase_value_numeric'] = [x.strip('$') for x in df_all.purchase_value]\n",
    "##pd.to_numeric(df_all['purchase_value'])  # This gives ValueError: Unable to parse string \"$77 \" at position 586\n",
    "#df_all['purchase_value_numeric'] = pd.to_numeric(df_all.purchase_value.str.replace('$',''), errors='raise')  # This generates undesired NaN values\n",
    "#df_all['purchase_value'].replace('$','').apply(pd.to_numeric, errors='coerce')\n",
    "#df_all['purchase_value_numeric'] = df_all['purchase_value'].replace(r'/^$/','', regex=True).apply(pd.to_numeric, errors='raise')\n"
   ]
  },
  {
   "cell_type": "code",
   "execution_count": 13,
   "metadata": {},
   "outputs": [],
   "source": [
    "# Removing Non-Word Characters (% @ \" ? % $) using Regular Expressions\n",
    "# One can group multiple patterns to match or substitute in a string using the square bracket. \n",
    "df_all['purchase_value_numeric'] = df_all['purchase_value'].replace(r\"[@\\'?\\$%_]\", \"\", regex=True).apply(pd.to_numeric, errors='raise')"
   ]
  },
  {
   "cell_type": "code",
   "execution_count": 14,
   "metadata": {},
   "outputs": [
    {
     "name": "stdout",
     "output_type": "stream",
     "text": [
      "Input data:  $77  32\n",
      "Output data:  77 32\n",
      "Correct answer: 77  32\n"
     ]
    }
   ],
   "source": [
    "# Unit test\n",
    "print('Input data: ', \n",
    "      df_all.purchase_value[586], \n",
    "      df_all.purchase_value[119999])\n",
    "print('Output data: ',\n",
    "      df_all.purchase_value_numeric[586], \n",
    "      df_all.purchase_value_numeric[119999])\n",
    "print('Correct answer: 77  32')"
   ]
  },
  {
   "cell_type": "markdown",
   "metadata": {},
   "source": [
    "#### Apply One-Hot-Encoding to columns source, browser, and sex"
   ]
  },
  {
   "cell_type": "code",
   "execution_count": 15,
   "metadata": {},
   "outputs": [],
   "source": [
    "# It's most common to one-hot encode these \"object\" columns, since they can't be plugged directly into most models. \n",
    "# Pandas offers a convenient function called get_dummies to get one-hot encodings.\n",
    "onehotencoding_columns = ['source', 'browser', 'sex']\n",
    "for col in onehotencoding_columns:\n",
    "    df_dummies = pd.get_dummies(df_all[col], prefix = 'category')\n",
    "    df_all = pd.concat([df_all, df_dummies], axis=1)"
   ]
  },
  {
   "cell_type": "markdown",
   "metadata": {},
   "source": [
    "#### Convert ip_address into country and then into classes (with one-hot-encoding)"
   ]
  },
  {
   "cell_type": "code",
   "execution_count": null,
   "metadata": {},
   "outputs": [],
   "source": []
  },
  {
   "cell_type": "code",
   "execution_count": 16,
   "metadata": {},
   "outputs": [
    {
     "data": {
      "text/plain": [
       "Unnamed: 0                         int64\n",
       "user_id                            int64\n",
       "signup_time                       object\n",
       "purchase_time                     object\n",
       "purchase_value                    object\n",
       "device_id                         object\n",
       "source                            object\n",
       "browser                           object\n",
       "sex                               object\n",
       "age                                int64\n",
       "ip_address                       float64\n",
       "class                              int64\n",
       "signup_datetime           datetime64[ns]\n",
       "signup_epoch                     float64\n",
       "purchase_datetime         datetime64[ns]\n",
       "purchase_epoch                   float64\n",
       "signup_dayofweek                   int64\n",
       "purchase_dayofweek                 int64\n",
       "purchase_signup_epoch            float64\n",
       "purchase_value_numeric             int64\n",
       "category_Ads                       uint8\n",
       "category_Direct                    uint8\n",
       "category_SEO                       uint8\n",
       "category_Chr0me                    uint8\n",
       "category_Chrome                    uint8\n",
       "category_FireFox                   uint8\n",
       "category_IE                        uint8\n",
       "category_Opera                     uint8\n",
       "category_Safari                    uint8\n",
       "category_F                         uint8\n",
       "category_M                         uint8\n",
       "dtype: object"
      ]
     },
     "execution_count": 16,
     "metadata": {},
     "output_type": "execute_result"
    }
   ],
   "source": [
    "df_all.dtypes"
   ]
  },
  {
   "cell_type": "markdown",
   "metadata": {},
   "source": [
    "#### Identify features and target columns"
   ]
  },
  {
   "cell_type": "code",
   "execution_count": 17,
   "metadata": {},
   "outputs": [
    {
     "name": "stdout",
     "output_type": "stream",
     "text": [
      "Model Features: ['Unnamed: 0', 'user_id', 'age', 'ip_address', 'signup_epoch', 'purchase_epoch', 'signup_dayofweek', 'purchase_dayofweek', 'purchase_signup_epoch', 'purchase_value_numeric', 'category_Ads', 'category_Direct', 'category_SEO', 'category_Chr0me', 'category_Chrome', 'category_FireFox', 'category_IE', 'category_Opera', 'category_Safari', 'category_F', 'category_M']\n",
      "Model Target: class\n"
     ]
    }
   ],
   "source": [
    "unwanted_columns = ['signup_time', 'purchase_time',\n",
    "                    'purchase_value', 'device_id', \n",
    "                    'source', 'browser','sex',\n",
    "                    'signup_datetime', 'purchase_datetime']\n",
    "unwanted_columns.append(TARGET)\n",
    "feature_columns =[x for x in df_all.columns if x not in unwanted_columns]\n",
    "X_train = df_all[feature_columns]\n",
    "y_train = df_all[TARGET]\n",
    "print('Model Features:', feature_columns)\n",
    "print('Model Target:', TARGET)"
   ]
  },
  {
   "cell_type": "code",
   "execution_count": 18,
   "metadata": {},
   "outputs": [
    {
     "name": "stdout",
     "output_type": "stream",
     "text": [
      "(120000, 21)\n"
     ]
    },
    {
     "data": {
      "text/html": [
       "<div>\n",
       "<style scoped>\n",
       "    .dataframe tbody tr th:only-of-type {\n",
       "        vertical-align: middle;\n",
       "    }\n",
       "\n",
       "    .dataframe tbody tr th {\n",
       "        vertical-align: top;\n",
       "    }\n",
       "\n",
       "    .dataframe thead th {\n",
       "        text-align: right;\n",
       "    }\n",
       "</style>\n",
       "<table border=\"1\" class=\"dataframe\">\n",
       "  <thead>\n",
       "    <tr style=\"text-align: right;\">\n",
       "      <th></th>\n",
       "      <th>Unnamed: 0</th>\n",
       "      <th>user_id</th>\n",
       "      <th>age</th>\n",
       "      <th>ip_address</th>\n",
       "      <th>signup_epoch</th>\n",
       "      <th>purchase_epoch</th>\n",
       "      <th>signup_dayofweek</th>\n",
       "      <th>purchase_dayofweek</th>\n",
       "      <th>purchase_signup_epoch</th>\n",
       "      <th>purchase_value_numeric</th>\n",
       "      <th>...</th>\n",
       "      <th>category_Direct</th>\n",
       "      <th>category_SEO</th>\n",
       "      <th>category_Chr0me</th>\n",
       "      <th>category_Chrome</th>\n",
       "      <th>category_FireFox</th>\n",
       "      <th>category_IE</th>\n",
       "      <th>category_Opera</th>\n",
       "      <th>category_Safari</th>\n",
       "      <th>category_F</th>\n",
       "      <th>category_M</th>\n",
       "    </tr>\n",
       "  </thead>\n",
       "  <tbody>\n",
       "    <tr>\n",
       "      <th>count</th>\n",
       "      <td>120000.000000</td>\n",
       "      <td>120000.000000</td>\n",
       "      <td>120000.000000</td>\n",
       "      <td>1.200000e+05</td>\n",
       "      <td>1.200000e+05</td>\n",
       "      <td>1.200000e+05</td>\n",
       "      <td>120000.000000</td>\n",
       "      <td>120000.000000</td>\n",
       "      <td>1.200000e+05</td>\n",
       "      <td>120000.000000</td>\n",
       "      <td>...</td>\n",
       "      <td>120000.000000</td>\n",
       "      <td>120000.000000</td>\n",
       "      <td>120000.000000</td>\n",
       "      <td>120000.000000</td>\n",
       "      <td>120000.000000</td>\n",
       "      <td>120000.000000</td>\n",
       "      <td>120000.000000</td>\n",
       "      <td>120000.000000</td>\n",
       "      <td>120000.000000</td>\n",
       "      <td>120000.000000</td>\n",
       "    </tr>\n",
       "    <tr>\n",
       "      <th>mean</th>\n",
       "      <td>75639.133600</td>\n",
       "      <td>200320.280100</td>\n",
       "      <td>33.125250</td>\n",
       "      <td>2.151550e+09</td>\n",
       "      <td>1.429498e+09</td>\n",
       "      <td>1.434431e+09</td>\n",
       "      <td>3.023633</td>\n",
       "      <td>3.016808</td>\n",
       "      <td>4.933112e+06</td>\n",
       "      <td>36.881475</td>\n",
       "      <td>...</td>\n",
       "      <td>0.202017</td>\n",
       "      <td>0.402475</td>\n",
       "      <td>0.000025</td>\n",
       "      <td>0.405408</td>\n",
       "      <td>0.163458</td>\n",
       "      <td>0.242817</td>\n",
       "      <td>0.024792</td>\n",
       "      <td>0.163500</td>\n",
       "      <td>0.415617</td>\n",
       "      <td>0.584383</td>\n",
       "    </tr>\n",
       "    <tr>\n",
       "      <th>std</th>\n",
       "      <td>43619.702878</td>\n",
       "      <td>115361.945935</td>\n",
       "      <td>8.617081</td>\n",
       "      <td>1.248314e+09</td>\n",
       "      <td>5.927233e+06</td>\n",
       "      <td>7.040612e+06</td>\n",
       "      <td>2.006533</td>\n",
       "      <td>2.006733</td>\n",
       "      <td>3.127784e+06</td>\n",
       "      <td>18.325855</td>\n",
       "      <td>...</td>\n",
       "      <td>0.401506</td>\n",
       "      <td>0.490399</td>\n",
       "      <td>0.005000</td>\n",
       "      <td>0.490973</td>\n",
       "      <td>0.369785</td>\n",
       "      <td>0.428787</td>\n",
       "      <td>0.155490</td>\n",
       "      <td>0.369823</td>\n",
       "      <td>0.492830</td>\n",
       "      <td>0.492830</td>\n",
       "    </tr>\n",
       "    <tr>\n",
       "      <th>min</th>\n",
       "      <td>1.000000</td>\n",
       "      <td>2.000000</td>\n",
       "      <td>18.000000</td>\n",
       "      <td>9.344714e+04</td>\n",
       "      <td>1.420070e+09</td>\n",
       "      <td>1.420070e+09</td>\n",
       "      <td>0.000000</td>\n",
       "      <td>0.000000</td>\n",
       "      <td>0.000000e+00</td>\n",
       "      <td>9.000000</td>\n",
       "      <td>...</td>\n",
       "      <td>0.000000</td>\n",
       "      <td>0.000000</td>\n",
       "      <td>0.000000</td>\n",
       "      <td>0.000000</td>\n",
       "      <td>0.000000</td>\n",
       "      <td>0.000000</td>\n",
       "      <td>0.000000</td>\n",
       "      <td>0.000000</td>\n",
       "      <td>0.000000</td>\n",
       "      <td>0.000000</td>\n",
       "    </tr>\n",
       "    <tr>\n",
       "      <th>25%</th>\n",
       "      <td>37867.750000</td>\n",
       "      <td>100925.500000</td>\n",
       "      <td>27.000000</td>\n",
       "      <td>1.085345e+09</td>\n",
       "      <td>1.424273e+09</td>\n",
       "      <td>1.429372e+09</td>\n",
       "      <td>1.000000</td>\n",
       "      <td>1.000000</td>\n",
       "      <td>2.188140e+06</td>\n",
       "      <td>22.000000</td>\n",
       "      <td>...</td>\n",
       "      <td>0.000000</td>\n",
       "      <td>0.000000</td>\n",
       "      <td>0.000000</td>\n",
       "      <td>0.000000</td>\n",
       "      <td>0.000000</td>\n",
       "      <td>0.000000</td>\n",
       "      <td>0.000000</td>\n",
       "      <td>0.000000</td>\n",
       "      <td>0.000000</td>\n",
       "      <td>0.000000</td>\n",
       "    </tr>\n",
       "    <tr>\n",
       "      <th>50%</th>\n",
       "      <td>75703.000000</td>\n",
       "      <td>200037.500000</td>\n",
       "      <td>33.000000</td>\n",
       "      <td>2.155238e+09</td>\n",
       "      <td>1.429422e+09</td>\n",
       "      <td>1.434642e+09</td>\n",
       "      <td>3.000000</td>\n",
       "      <td>3.000000</td>\n",
       "      <td>4.924380e+06</td>\n",
       "      <td>34.000000</td>\n",
       "      <td>...</td>\n",
       "      <td>0.000000</td>\n",
       "      <td>0.000000</td>\n",
       "      <td>0.000000</td>\n",
       "      <td>0.000000</td>\n",
       "      <td>0.000000</td>\n",
       "      <td>0.000000</td>\n",
       "      <td>0.000000</td>\n",
       "      <td>0.000000</td>\n",
       "      <td>0.000000</td>\n",
       "      <td>1.000000</td>\n",
       "    </tr>\n",
       "    <tr>\n",
       "      <th>75%</th>\n",
       "      <td>113417.250000</td>\n",
       "      <td>300395.500000</td>\n",
       "      <td>39.000000</td>\n",
       "      <td>3.241268e+09</td>\n",
       "      <td>1.434638e+09</td>\n",
       "      <td>1.439840e+09</td>\n",
       "      <td>5.000000</td>\n",
       "      <td>5.000000</td>\n",
       "      <td>7.648215e+06</td>\n",
       "      <td>49.000000</td>\n",
       "      <td>...</td>\n",
       "      <td>0.000000</td>\n",
       "      <td>1.000000</td>\n",
       "      <td>0.000000</td>\n",
       "      <td>1.000000</td>\n",
       "      <td>0.000000</td>\n",
       "      <td>0.000000</td>\n",
       "      <td>0.000000</td>\n",
       "      <td>0.000000</td>\n",
       "      <td>1.000000</td>\n",
       "      <td>1.000000</td>\n",
       "    </tr>\n",
       "    <tr>\n",
       "      <th>max</th>\n",
       "      <td>151112.000000</td>\n",
       "      <td>400000.000000</td>\n",
       "      <td>76.000000</td>\n",
       "      <td>4.294850e+09</td>\n",
       "      <td>1.439872e+09</td>\n",
       "      <td>1.450235e+09</td>\n",
       "      <td>6.000000</td>\n",
       "      <td>6.000000</td>\n",
       "      <td>1.036794e+07</td>\n",
       "      <td>154.000000</td>\n",
       "      <td>...</td>\n",
       "      <td>1.000000</td>\n",
       "      <td>1.000000</td>\n",
       "      <td>1.000000</td>\n",
       "      <td>1.000000</td>\n",
       "      <td>1.000000</td>\n",
       "      <td>1.000000</td>\n",
       "      <td>1.000000</td>\n",
       "      <td>1.000000</td>\n",
       "      <td>1.000000</td>\n",
       "      <td>1.000000</td>\n",
       "    </tr>\n",
       "  </tbody>\n",
       "</table>\n",
       "<p>8 rows × 21 columns</p>\n",
       "</div>"
      ],
      "text/plain": [
       "          Unnamed: 0        user_id            age    ip_address  \\\n",
       "count  120000.000000  120000.000000  120000.000000  1.200000e+05   \n",
       "mean    75639.133600  200320.280100      33.125250  2.151550e+09   \n",
       "std     43619.702878  115361.945935       8.617081  1.248314e+09   \n",
       "min         1.000000       2.000000      18.000000  9.344714e+04   \n",
       "25%     37867.750000  100925.500000      27.000000  1.085345e+09   \n",
       "50%     75703.000000  200037.500000      33.000000  2.155238e+09   \n",
       "75%    113417.250000  300395.500000      39.000000  3.241268e+09   \n",
       "max    151112.000000  400000.000000      76.000000  4.294850e+09   \n",
       "\n",
       "       signup_epoch  purchase_epoch  signup_dayofweek  purchase_dayofweek  \\\n",
       "count  1.200000e+05    1.200000e+05     120000.000000       120000.000000   \n",
       "mean   1.429498e+09    1.434431e+09          3.023633            3.016808   \n",
       "std    5.927233e+06    7.040612e+06          2.006533            2.006733   \n",
       "min    1.420070e+09    1.420070e+09          0.000000            0.000000   \n",
       "25%    1.424273e+09    1.429372e+09          1.000000            1.000000   \n",
       "50%    1.429422e+09    1.434642e+09          3.000000            3.000000   \n",
       "75%    1.434638e+09    1.439840e+09          5.000000            5.000000   \n",
       "max    1.439872e+09    1.450235e+09          6.000000            6.000000   \n",
       "\n",
       "       purchase_signup_epoch  purchase_value_numeric      ...        \\\n",
       "count           1.200000e+05           120000.000000      ...         \n",
       "mean            4.933112e+06               36.881475      ...         \n",
       "std             3.127784e+06               18.325855      ...         \n",
       "min             0.000000e+00                9.000000      ...         \n",
       "25%             2.188140e+06               22.000000      ...         \n",
       "50%             4.924380e+06               34.000000      ...         \n",
       "75%             7.648215e+06               49.000000      ...         \n",
       "max             1.036794e+07              154.000000      ...         \n",
       "\n",
       "       category_Direct   category_SEO  category_Chr0me  category_Chrome  \\\n",
       "count    120000.000000  120000.000000    120000.000000    120000.000000   \n",
       "mean          0.202017       0.402475         0.000025         0.405408   \n",
       "std           0.401506       0.490399         0.005000         0.490973   \n",
       "min           0.000000       0.000000         0.000000         0.000000   \n",
       "25%           0.000000       0.000000         0.000000         0.000000   \n",
       "50%           0.000000       0.000000         0.000000         0.000000   \n",
       "75%           0.000000       1.000000         0.000000         1.000000   \n",
       "max           1.000000       1.000000         1.000000         1.000000   \n",
       "\n",
       "       category_FireFox    category_IE  category_Opera  category_Safari  \\\n",
       "count     120000.000000  120000.000000   120000.000000    120000.000000   \n",
       "mean           0.163458       0.242817        0.024792         0.163500   \n",
       "std            0.369785       0.428787        0.155490         0.369823   \n",
       "min            0.000000       0.000000        0.000000         0.000000   \n",
       "25%            0.000000       0.000000        0.000000         0.000000   \n",
       "50%            0.000000       0.000000        0.000000         0.000000   \n",
       "75%            0.000000       0.000000        0.000000         0.000000   \n",
       "max            1.000000       1.000000        1.000000         1.000000   \n",
       "\n",
       "          category_F     category_M  \n",
       "count  120000.000000  120000.000000  \n",
       "mean        0.415617       0.584383  \n",
       "std         0.492830       0.492830  \n",
       "min         0.000000       0.000000  \n",
       "25%         0.000000       0.000000  \n",
       "50%         0.000000       1.000000  \n",
       "75%         1.000000       1.000000  \n",
       "max         1.000000       1.000000  \n",
       "\n",
       "[8 rows x 21 columns]"
      ]
     },
     "execution_count": 18,
     "metadata": {},
     "output_type": "execute_result"
    }
   ],
   "source": [
    "print(X_train.shape)\n",
    "X_train.describe()"
   ]
  },
  {
   "cell_type": "markdown",
   "metadata": {},
   "source": [
    "#### Visualize Input Dataset"
   ]
  },
  {
   "cell_type": "code",
   "execution_count": null,
   "metadata": {},
   "outputs": [],
   "source": [
    "import seaborn as sns\n",
    "import matplotlib.pyplot as plt"
   ]
  },
  {
   "cell_type": "code",
   "execution_count": null,
   "metadata": {},
   "outputs": [],
   "source": [
    "%matplotlib inline\n",
    "sns.set(style='ticks')"
   ]
  },
  {
   "cell_type": "code",
   "execution_count": null,
   "metadata": {},
   "outputs": [
    {
     "name": "stderr",
     "output_type": "stream",
     "text": [
      "/Applications/anaconda/envs/Python3/lib/python3.6/site-packages/scipy/stats/stats.py:1713: FutureWarning: Using a non-tuple sequence for multidimensional indexing is deprecated; use `arr[tuple(seq)]` instead of `arr[seq]`. In the future this will be interpreted as an array index, `arr[np.array(seq)]`, which will result either in an error or a different result.\n",
      "  return np.add.reduce(sorted[indexer] * weights, axis=axis) / sumval\n",
      "/Applications/anaconda/envs/Python3/lib/python3.6/site-packages/statsmodels/nonparametric/kde.py:488: RuntimeWarning: invalid value encountered in true_divide\n",
      "  binned = fast_linbin(X, a, b, gridsize) / (delta * nobs)\n",
      "/Applications/anaconda/envs/Python3/lib/python3.6/site-packages/statsmodels/nonparametric/kdetools.py:34: RuntimeWarning: invalid value encountered in double_scalars\n",
      "  FAC1 = 2*(np.pi*bw/RANGE)**2\n",
      "/Applications/anaconda/envs/Python3/lib/python3.6/site-packages/numpy/core/fromnumeric.py:83: RuntimeWarning: invalid value encountered in reduce\n",
      "  return ufunc.reduce(obj, axis, dtype, out, **passkwargs)\n"
     ]
    },
    {
     "data": {
      "text/plain": [
       "<seaborn.axisgrid.PairGrid at 0x1a1e35d7f0>"
      ]
     },
     "execution_count": 21,
     "metadata": {},
     "output_type": "execute_result"
    }
   ],
   "source": [
    "# Show different classes of a categorical TARGET variable by the color of plot elements\n",
    "#sns.pairplot(DF, hue=TARGET, markers=[\"o\",\"s\"])\n",
    "sns.pairplot( pd.concat([X_train, y_train], axis=1), hue=TARGET, markers=[\"o\",\"s\"])"
   ]
  },
  {
   "cell_type": "markdown",
   "metadata": {},
   "source": [
    "There seems to be a linear relationship between the 4th and the 5th column"
   ]
  },
  {
   "cell_type": "markdown",
   "metadata": {},
   "source": [
    "#### How unbalanced is the target data?"
   ]
  },
  {
   "cell_type": "code",
   "execution_count": null,
   "metadata": {},
   "outputs": [],
   "source": [
    "def plot_balance(dataseries_name, plot_title, percent=True):\n",
    "    \"\"\"Generates a bar plot with the counts of frauds and no-frauds events.\n",
    "    Arguments:\n",
    "    dataseries_name: Pandas series with the target dataset \n",
    "                    For example 'ds'\n",
    "    plot_title: For example 'Synthetic Unbalanced Dataset'\n",
    "    \"\"\"\n",
    "    if percent:\n",
    "        percent_values = dataseries_name.value_counts(normalize=True).mul(100).round(1)\n",
    "        sns.barplot([0,1], percent_values)\n",
    "        y_label = 'Percent'\n",
    "    else:\n",
    "        sns.barplot([0,1], dataseries_name.value_counts().values)\n",
    "        y_label = 'Count'\n",
    "    plt.title(plot_title)\n",
    "    plt.ylabel(y_label)\n",
    "    plt.xlabel(TARGET+' (0:Good, 1:Fraud)')"
   ]
  },
  {
   "cell_type": "code",
   "execution_count": null,
   "metadata": {},
   "outputs": [],
   "source": [
    "plot_balance(y_train, 'Training Target Dataset Percents')"
   ]
  },
  {
   "cell_type": "code",
   "execution_count": null,
   "metadata": {},
   "outputs": [],
   "source": [
    "# Show how unbalanced is the Target data\n",
    "counts = y_train.value_counts()\n",
    "perc = y_train.value_counts(normalize=True).mul(100).round(1)\n",
    "pd.DataFrame({'counts': counts, 'percents': perc})"
   ]
  },
  {
   "cell_type": "code",
   "execution_count": null,
   "metadata": {},
   "outputs": [],
   "source": [
    "plot_balance(y_train, 'Training Target Dataset Counts', percent=False)"
   ]
  },
  {
   "cell_type": "markdown",
   "metadata": {},
   "source": [
    "#### Using stratified cross validation to evaluate an XGBoost model.\n",
    "\n",
    "If you have many classes for a classification type predictive modeling problem or the classes are imbalanced (there are a lot more instances for one class than another), it can be a good idea to create stratified folds when performing cross validation.\n",
    "\n",
    "This has the effect of enforcing the same distribution of classes in each fold as in the whole training dataset when performing the cross validation evaluation. The scikit-learn library provides this capability in the StratifiedKFold class.\n",
    "\n",
    "Reference: https://machinelearningmastery.com/evaluate-gradient-boosting-models-xgboost-python/"
   ]
  },
  {
   "cell_type": "code",
   "execution_count": null,
   "metadata": {},
   "outputs": [],
   "source": [
    "# stratified k-fold cross validation evaluation of xgboost model\n",
    "from numpy import loadtxt\n",
    "import xgboost\n",
    "from sklearn.model_selection import StratifiedKFold\n",
    "from sklearn.model_selection import cross_val_score"
   ]
  },
  {
   "cell_type": "code",
   "execution_count": null,
   "metadata": {},
   "outputs": [],
   "source": [
    "# Cross Validated model\n",
    "model = xgboost.XGBClassifier()\n",
    "kfold = StratifiedKFold(n_splits=10, random_state=7)\n",
    "results = cross_val_score(model, X_train, y_train, cv=kfold)\n",
    "print(\"Accuracy: %.2f%% (%.2f%%)\" % (results.mean()*100, results.std()*100))"
   ]
  },
  {
   "cell_type": "code",
   "execution_count": null,
   "metadata": {},
   "outputs": [],
   "source": []
  }
 ],
 "metadata": {
  "kernelspec": {
   "display_name": "Python 3",
   "language": "python",
   "name": "python3"
  },
  "language_info": {
   "codemirror_mode": {
    "name": "ipython",
    "version": 3
   },
   "file_extension": ".py",
   "mimetype": "text/x-python",
   "name": "python",
   "nbconvert_exporter": "python",
   "pygments_lexer": "ipython3",
   "version": "3.6.7"
  }
 },
 "nbformat": 4,
 "nbformat_minor": 2
}
