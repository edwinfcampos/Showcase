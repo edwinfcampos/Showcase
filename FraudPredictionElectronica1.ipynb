{
 "cells": [
  {
   "cell_type": "markdown",
   "metadata": {},
   "source": [
    "# Fraud Prediction at Electronica \n",
    "## Part 1: Detailed Feature Engineering and Logistic Regression Algorithm\n",
    "\n",
    "\n",
    "This outputs a machine learning model that predicts the probability \n",
    "that the first transaction of a new user is fraudulent.\n",
    "\n",
    "If you fail to identify a fraudulent transaction, \n",
    "Electronica loses money equivalent to the price of the fraudulently purchased product. \n",
    "\n",
    "If you incorrectly flag a real transaction as fraudulent, \n",
    "it inconveniences the Electronica customers whose valid transactions are flagged—a cost your client values at $8.\n",
    "\n",
    "    Created by Edwin Campos on 2020 Feb.16\n",
    "    Last modification on 2020 Feb.18 by ecampos.phd@gmail.com\n"
   ]
  },
  {
   "cell_type": "code",
   "execution_count": 1,
   "metadata": {},
   "outputs": [
    {
     "name": "stdout",
     "output_type": "stream",
     "text": [
      "Once deleted, variables cannot be recovered. Proceed (y/[n])? y\n"
     ]
    }
   ],
   "source": [
    "# Clean the memory\n",
    "%reset -s"
   ]
  },
  {
   "cell_type": "code",
   "execution_count": 2,
   "metadata": {},
   "outputs": [],
   "source": [
    "# Dependencies\n",
    "import pandas as pd\n",
    "import datetime as dt\n",
    "import seaborn as sns\n",
    "import matplotlib.pyplot as plt"
   ]
  },
  {
   "cell_type": "code",
   "execution_count": 3,
   "metadata": {},
   "outputs": [],
   "source": [
    "# Global Variables\n",
    "INPUT_PATH = '/Users/ecampos/AnacondaProjects/DS-Fraud-Univar/Fraud - For Candidate/Fraud - For Candidate/'\n",
    "INPUT_FILE = 'fraud.csv'\n",
    "IP2COUNTRY_FILE = 'IpAddress_to_Country.csv'\n",
    "TARGET = 'class'   # Column in dataframe with target values, Fraud:1, Good:0"
   ]
  },
  {
   "cell_type": "code",
   "execution_count": 4,
   "metadata": {},
   "outputs": [],
   "source": [
    "# Ingest Input dataset\n",
    "df_all=pd.read_csv(INPUT_PATH+INPUT_FILE, low_memory=False)"
   ]
  },
  {
   "cell_type": "code",
   "execution_count": 5,
   "metadata": {},
   "outputs": [
    {
     "name": "stdout",
     "output_type": "stream",
     "text": [
      "(120000, 12)\n"
     ]
    },
    {
     "data": {
      "text/html": [
       "<div>\n",
       "<style scoped>\n",
       "    .dataframe tbody tr th:only-of-type {\n",
       "        vertical-align: middle;\n",
       "    }\n",
       "\n",
       "    .dataframe tbody tr th {\n",
       "        vertical-align: top;\n",
       "    }\n",
       "\n",
       "    .dataframe thead th {\n",
       "        text-align: right;\n",
       "    }\n",
       "</style>\n",
       "<table border=\"1\" class=\"dataframe\">\n",
       "  <thead>\n",
       "    <tr style=\"text-align: right;\">\n",
       "      <th></th>\n",
       "      <th>Unnamed: 0</th>\n",
       "      <th>user_id</th>\n",
       "      <th>signup_time</th>\n",
       "      <th>purchase_time</th>\n",
       "      <th>purchase_value</th>\n",
       "      <th>device_id</th>\n",
       "      <th>source</th>\n",
       "      <th>browser</th>\n",
       "      <th>sex</th>\n",
       "      <th>age</th>\n",
       "      <th>ip_address</th>\n",
       "      <th>class</th>\n",
       "    </tr>\n",
       "  </thead>\n",
       "  <tbody>\n",
       "    <tr>\n",
       "      <th>0</th>\n",
       "      <td>149671</td>\n",
       "      <td>285108</td>\n",
       "      <td>7/15/2015 4:36</td>\n",
       "      <td>9/10/2015 14:17</td>\n",
       "      <td>31</td>\n",
       "      <td>HZAKVUFTDOSFD</td>\n",
       "      <td>Direct</td>\n",
       "      <td>Chrome</td>\n",
       "      <td>M</td>\n",
       "      <td>49</td>\n",
       "      <td>2.818400e+09</td>\n",
       "      <td>0</td>\n",
       "    </tr>\n",
       "    <tr>\n",
       "      <th>1</th>\n",
       "      <td>15611</td>\n",
       "      <td>131009</td>\n",
       "      <td>1/24/2015 12:29</td>\n",
       "      <td>4/13/2015 4:53</td>\n",
       "      <td>31</td>\n",
       "      <td>XGQAJSOUJIZCC</td>\n",
       "      <td>SEO</td>\n",
       "      <td>IE</td>\n",
       "      <td>F</td>\n",
       "      <td>21</td>\n",
       "      <td>3.251268e+09</td>\n",
       "      <td>0</td>\n",
       "    </tr>\n",
       "    <tr>\n",
       "      <th>2</th>\n",
       "      <td>73178</td>\n",
       "      <td>328855</td>\n",
       "      <td>3/11/2015 0:54</td>\n",
       "      <td>4/5/2015 12:23</td>\n",
       "      <td>16</td>\n",
       "      <td>VCCTAYDCWKZIY</td>\n",
       "      <td>Direct</td>\n",
       "      <td>IE</td>\n",
       "      <td>M</td>\n",
       "      <td>26</td>\n",
       "      <td>2.727760e+09</td>\n",
       "      <td>0</td>\n",
       "    </tr>\n",
       "    <tr>\n",
       "      <th>3</th>\n",
       "      <td>84546</td>\n",
       "      <td>229053</td>\n",
       "      <td>1/7/2015 13:19</td>\n",
       "      <td>1/9/2015 10:12</td>\n",
       "      <td>29</td>\n",
       "      <td>MFFIHYNXCJLEY</td>\n",
       "      <td>SEO</td>\n",
       "      <td>Chrome</td>\n",
       "      <td>M</td>\n",
       "      <td>34</td>\n",
       "      <td>2.083420e+09</td>\n",
       "      <td>0</td>\n",
       "    </tr>\n",
       "    <tr>\n",
       "      <th>4</th>\n",
       "      <td>35978</td>\n",
       "      <td>108439</td>\n",
       "      <td>2/8/2015 21:11</td>\n",
       "      <td>4/9/2015 14:26</td>\n",
       "      <td>26</td>\n",
       "      <td>WMSXWGVPNIFBM</td>\n",
       "      <td>Ads</td>\n",
       "      <td>FireFox</td>\n",
       "      <td>M</td>\n",
       "      <td>33</td>\n",
       "      <td>3.207913e+09</td>\n",
       "      <td>0</td>\n",
       "    </tr>\n",
       "  </tbody>\n",
       "</table>\n",
       "</div>"
      ],
      "text/plain": [
       "   Unnamed: 0  user_id      signup_time    purchase_time purchase_value  \\\n",
       "0      149671   285108   7/15/2015 4:36  9/10/2015 14:17             31   \n",
       "1       15611   131009  1/24/2015 12:29   4/13/2015 4:53             31   \n",
       "2       73178   328855   3/11/2015 0:54   4/5/2015 12:23             16   \n",
       "3       84546   229053   1/7/2015 13:19   1/9/2015 10:12             29   \n",
       "4       35978   108439   2/8/2015 21:11   4/9/2015 14:26             26   \n",
       "\n",
       "       device_id  source  browser sex  age    ip_address  class  \n",
       "0  HZAKVUFTDOSFD  Direct   Chrome   M   49  2.818400e+09      0  \n",
       "1  XGQAJSOUJIZCC     SEO       IE   F   21  3.251268e+09      0  \n",
       "2  VCCTAYDCWKZIY  Direct       IE   M   26  2.727760e+09      0  \n",
       "3  MFFIHYNXCJLEY     SEO   Chrome   M   34  2.083420e+09      0  \n",
       "4  WMSXWGVPNIFBM     Ads  FireFox   M   33  3.207913e+09      0  "
      ]
     },
     "execution_count": 5,
     "metadata": {},
     "output_type": "execute_result"
    }
   ],
   "source": [
    "print(df_all.shape)\n",
    "df_all.head()"
   ]
  },
  {
   "cell_type": "markdown",
   "metadata": {},
   "source": [
    "## Feature Engeneering"
   ]
  },
  {
   "cell_type": "markdown",
   "metadata": {},
   "source": [
    "### Do we have columns with too many missing values?"
   ]
  },
  {
   "cell_type": "code",
   "execution_count": 6,
   "metadata": {},
   "outputs": [
    {
     "name": "stdout",
     "output_type": "stream",
     "text": [
      "% of missing observations:\n",
      "Unnamed: 0        0.0\n",
      "user_id           0.0\n",
      "signup_time       0.0\n",
      "purchase_time     0.0\n",
      "purchase_value    0.0\n",
      "device_id         0.0\n",
      "source            0.0\n",
      "browser           0.0\n",
      "sex               0.0\n",
      "age               0.0\n",
      "ip_address        0.0\n",
      "class             0.0\n",
      "dtype: float64\n"
     ]
    }
   ],
   "source": [
    "# Get rid of columns with too little values\n",
    "print(\"% of missing observations:\")\n",
    "print(df_all.isnull().mean()*100)"
   ]
  },
  {
   "cell_type": "markdown",
   "metadata": {},
   "source": [
    "Good! There are no missing values.\n",
    "\n",
    "Otherwise we could have removed the columns with too many missing values, for example, ...\n",
    "    \n",
    "    DF = DF.drop('Match1Amt2',axis=1)\n",
    "    \n",
    "or we could have imputed the few missing values, by making these zero and creating a flag column, for example, ...\n",
    "    \n",
    "    columns2impute = dataframe.columns\n",
    "    for col in columns2impute:\n",
    "        DF[col+'_flag']=np.where(DF[col].isnull()==True,1,0)\n",
    "        DF=DF.fillna(0)"
   ]
  },
  {
   "cell_type": "markdown",
   "metadata": {},
   "source": [
    "### Are there repeated values for user_id?\n",
    "If so, that would mean that we are getting transactions other than the first one, which we cannot use in the model.\n",
    "\n",
    "Recall that we should only have information about each user’s first transaction on Electronica’s website."
   ]
  },
  {
   "cell_type": "code",
   "execution_count": 7,
   "metadata": {},
   "outputs": [
    {
     "name": "stdout",
     "output_type": "stream",
     "text": [
      "Duplicate Rows based on user_id column are:\n",
      "Empty DataFrame\n",
      "Columns: [Unnamed: 0, user_id, signup_time, purchase_time, purchase_value, device_id, source, browser, sex, age, ip_address, class]\n",
      "Index: []\n"
     ]
    }
   ],
   "source": [
    "# Select all duplicate rows based on one column\n",
    "df_duplicate_user_id = df_all[df_all.duplicated(['user_id'])]\n",
    "print(\"Duplicate Rows based on user_id column are:\", df_duplicate_user_id, sep='\\n')"
   ]
  },
  {
   "cell_type": "markdown",
   "metadata": {},
   "source": [
    "Good! There are no duplicated user_id values.\n",
    "\n",
    "Otherwise, we could simply remove the duplicates, for example, ...\n",
    "  \n",
    "    DF = DF.drop_duplicates()"
   ]
  },
  {
   "cell_type": "markdown",
   "metadata": {},
   "source": [
    "### Handle Non-Numeric values"
   ]
  },
  {
   "cell_type": "code",
   "execution_count": 8,
   "metadata": {},
   "outputs": [
    {
     "data": {
      "text/plain": [
       "Unnamed: 0          int64\n",
       "user_id             int64\n",
       "signup_time        object\n",
       "purchase_time      object\n",
       "purchase_value     object\n",
       "device_id          object\n",
       "source             object\n",
       "browser            object\n",
       "sex                object\n",
       "age                 int64\n",
       "ip_address        float64\n",
       "class               int64\n",
       "dtype: object"
      ]
     },
     "execution_count": 8,
     "metadata": {},
     "output_type": "execute_result"
    }
   ],
   "source": [
    "df_all.dtypes"
   ]
  },
  {
   "cell_type": "markdown",
   "metadata": {},
   "source": [
    "#### Convert from Dates and Times into Seconds since Epoch"
   ]
  },
  {
   "cell_type": "code",
   "execution_count": 9,
   "metadata": {},
   "outputs": [],
   "source": [
    "df_all['signup_datetime'] = pd.to_datetime(df_all['signup_time'])\n",
    "df_all['signup_epoch'] = (df_all['signup_datetime'] - dt.datetime(1970,1,1)).dt.total_seconds()"
   ]
  },
  {
   "cell_type": "code",
   "execution_count": 10,
   "metadata": {},
   "outputs": [],
   "source": [
    "df_all['purchase_datetime'] = pd.to_datetime(df_all['purchase_time'])\n",
    "df_all['purchase_epoch'] = (df_all['purchase_datetime']  - dt.datetime(1970,1,1)).dt.total_seconds()"
   ]
  },
  {
   "cell_type": "markdown",
   "metadata": {},
   "source": [
    "#### Create new column features for days of week and period between signup and first purchase"
   ]
  },
  {
   "cell_type": "code",
   "execution_count": 11,
   "metadata": {},
   "outputs": [],
   "source": [
    "# days_name = {0:'Mon',1:'Tues',2:'Weds',3:'Thurs',4:'Fri',5:'Sat',6:'Sun'}\n",
    "df_all['signup_dayofweek'] = df_all['signup_datetime'].dt.dayofweek\n",
    "df_all['purchase_dayofweek'] = df_all['purchase_datetime'].dt.dayofweek\n",
    "df_all[\"purchase_signup_epoch\"] = (df_all['purchase_epoch'] - df_all['signup_epoch'])"
   ]
  },
  {
   "cell_type": "code",
   "execution_count": 12,
   "metadata": {},
   "outputs": [
    {
     "name": "stdout",
     "output_type": "stream",
     "text": [
      "          my_dates   my_dates_datetime  dayofweek dayname\n",
      "0  2/16/2020 12:23 2020-02-16 12:23:00          6  Sunday\n",
      "1   2/21/2020 4:36 2020-02-21 04:36:00          4  Friday\n"
     ]
    }
   ],
   "source": [
    "# Unit test\n",
    "df_t = pd.DataFrame({ 'my_dates':['2/16/2020 12:23','2/21/2020 4:36'] })\n",
    "df_t['my_dates_datetime'] = pd.to_datetime(df_t['my_dates'])\n",
    "df_t['dayofweek'] = df_t['my_dates_datetime'].dt.dayofweek\n",
    "df_t['dayname'] = df_t['my_dates_datetime'].dt.weekday_name\n",
    "print(df_t.head() )"
   ]
  },
  {
   "cell_type": "markdown",
   "metadata": {},
   "source": [
    "#### Convert columns purchase_value and age into numeric type"
   ]
  },
  {
   "cell_type": "code",
   "execution_count": 13,
   "metadata": {},
   "outputs": [],
   "source": [
    "# Removing Non-Word Characters (% @ \" ? % $) using Regular Expressions\n",
    "# One can group multiple patterns to match or substitute in a string using the square bracket. \n",
    "df_all['purchase_value_numeric'] = df_all['purchase_value'].replace(r\"[@\\'?\\$%_]\", \"\", regex=True).apply(pd.to_numeric, errors='raise')"
   ]
  },
  {
   "cell_type": "code",
   "execution_count": 14,
   "metadata": {},
   "outputs": [
    {
     "name": "stdout",
     "output_type": "stream",
     "text": [
      "Input data:  $77  32\n",
      "Output data:  77 32\n",
      "Correct answer: 77  32\n",
      "TEST PASSED!\n"
     ]
    }
   ],
   "source": [
    "# Unit test\n",
    "print('Input data: ', \n",
    "      df_all.purchase_value[586], \n",
    "      df_all.purchase_value[119999])\n",
    "print('Output data: ',\n",
    "      df_all.purchase_value_numeric[586], \n",
    "      df_all.purchase_value_numeric[119999])\n",
    "print('Correct answer: 77  32')\n",
    "\n",
    "if (df_all.purchase_value_numeric[586] == 77) and (df_all.purchase_value_numeric[119999] == 32):\n",
    "    print('TEST PASSED!')\n",
    "else:\n",
    "    print('TEST FAILED!')"
   ]
  },
  {
   "cell_type": "markdown",
   "metadata": {},
   "source": [
    "#### Convert ip_address into country and then into classes (with one-hot-encoding)"
   ]
  },
  {
   "cell_type": "code",
   "execution_count": 15,
   "metadata": {},
   "outputs": [],
   "source": [
    "# Ingest dataset with lookup table\n",
    "df_ip2country = pd.read_csv(INPUT_PATH+IP2COUNTRY_FILE)"
   ]
  },
  {
   "cell_type": "code",
   "execution_count": 43,
   "metadata": {},
   "outputs": [
    {
     "name": "stdout",
     "output_type": "stream",
     "text": [
      "   lower_bound_ip_address  upper_bound_ip_address    country\n",
      "0              16777216.0                16777471  Australia\n",
      "1              16777472.0                16777727      China\n",
      "2              16777728.0                16778239      China\n",
      "3              16778240.0                16779263  Australia\n",
      "4              16779264.0                16781311      China\n",
      "lower_bound_ip_address    float64\n",
      "upper_bound_ip_address      int64\n",
      "country                    object\n",
      "dtype: object\n",
      "lower_bound_ip_address    0.0\n",
      "upper_bound_ip_address    0.0\n",
      "country                   0.0\n",
      "dtype: float64\n"
     ]
    }
   ],
   "source": [
    "# Confirm that the data has been read properly, and does not have any missing values or undesired formats\n",
    "print(df_ip2country.head())\n",
    "print(df_ip2country.dtypes)\n",
    "print(df_ip2country.isnull().mean()*100)"
   ]
  },
  {
   "cell_type": "code",
   "execution_count": 44,
   "metadata": {},
   "outputs": [],
   "source": [
    "# Method to convert from ip address into country\n",
    "def convert_ip2country(ip_number_df,lookup_df):\n",
    "    \"\"\"Outputs the country where the numeric IP Address is located.\n",
    "    Call it as...\n",
    "        convert_ip2country(df_all, df_ip2country)\n",
    "    Inputs:\n",
    "    ip_number_df -- Pandas Series with numeric values corresponding to an Internet Protocol address \n",
    "                    For example ips_df = pd.Series({'ip_address':[16777216,16777210.0]})\n",
    "    lookup_df -- Pandas Dataframe name with information to map an IP address to its country\n",
    "    \"\"\"\n",
    "    #Initialize output dataframe\n",
    "    output_df = pd.DataFrame(columns=['ip_address'])\n",
    "    \n",
    "    for ip_number in ip_number_df['ip_address']:\n",
    "        lookup_df_1 = lookup_df[ lookup_df['lower_bound_ip_address'] <= ip_number ]\n",
    "        if lookup_df_1.empty:\n",
    "            country = 'ErrorTooLowIP'\n",
    "        else:\n",
    "            lookup_df_2 = lookup_df_1[lookup_df_1['upper_bound_ip_address'] >= ip_number]\n",
    "            if lookup_df_2.empty:\n",
    "                country = 'ErrorTooHighIP'\n",
    "            else:\n",
    "                country = lookup_df_2['country'].iloc[0]\n",
    "        output_df = output_df.append({'ip_address': country }, ignore_index=True)\n",
    "    \n",
    "    return output_df"
   ]
  },
  {
   "cell_type": "code",
   "execution_count": 45,
   "metadata": {},
   "outputs": [
    {
     "name": "stdout",
     "output_type": "stream",
     "text": [
      "TEST 1 PASSED! The countries are Canada and UK\n",
      "TEST 2 PASSED! The countries are ErrorTooLowIP and ErrorTooHighIP\n"
     ]
    }
   ],
   "source": [
    "# Unit test\n",
    "df_2qry = pd.DataFrame({'lower_bound_ip_address': [1.0,10.0,20],\n",
    "                        'upper_bound_ip_address': [9,19,29],\n",
    "                        'country': ['USA', 'UK', 'Canada']\n",
    "                       })\n",
    "\n",
    "ips_df = pd.Series({'ip_address':[21, 11.0, 0.0, 31],\n",
    "                    'class':[0,1,0,1,1]\n",
    "                   })\n",
    "\n",
    "output_df = convert_ip2country(ips_df,df_2qry)\n",
    "\n",
    "if (output_df.ip_address.iloc[0] == 'Canada') and (output_df.ip_address.iloc[1] == 'UK'):\n",
    "    print('TEST 1 PASSED! The countries are Canada and UK')\n",
    "else:\n",
    "    print('TEST 1 FAIL: The countries output were ', \n",
    "          output_df.ip_address.iloc[0],  ' and ',\n",
    "          output_df.ip_address.iloc[1]\n",
    "         )\n",
    "\n",
    "ips_df = pd.Series({'ip_address':[0.0,31]})\n",
    "if (output_df.ip_address.iloc[2] == 'ErrorTooLowIP') and (output_df.ip_address.iloc[3] == 'ErrorTooHighIP'):\n",
    "    print('TEST 2 PASSED! The countries are ErrorTooLowIP and ErrorTooHighIP')\n",
    "else:\n",
    "    print('TEST 2 FAIL: The countries output were ', \n",
    "          output_df.ip_address.iloc[2], ' and ',\n",
    "          output_df.ip_address.iloc[3]\n",
    "         )"
   ]
  },
  {
   "cell_type": "code",
   "execution_count": 42,
   "metadata": {},
   "outputs": [],
   "source": [
    "# Create additional column with ip_country\n",
    "df_all['ip_country'] = convert_ip2country(df_all, df_ip2country )"
   ]
  },
  {
   "cell_type": "code",
   "execution_count": 46,
   "metadata": {},
   "outputs": [
    {
     "name": "stdout",
     "output_type": "stream",
     "text": [
      "TEST PASSED\n"
     ]
    }
   ],
   "source": [
    "# Unit test, using values verified by Edwin\n",
    "if (df_all.ip_country.iloc[0] == 'United States') and (df_all.ip_country.iloc[1] == 'United Kingdom'):\n",
    "    print('TEST PASSED')\n",
    "else:\n",
    "    print('TEST FAILED!')"
   ]
  },
  {
   "cell_type": "code",
   "execution_count": 47,
   "metadata": {},
   "outputs": [
    {
     "name": "stdout",
     "output_type": "stream",
     "text": [
      "                            ip_country          ip_country_clean\n",
      "0                        United States              UnitedStates\n",
      "1                       United Kingdom             UnitedKingdom\n",
      "2                        United States              UnitedStates\n",
      "3                    Korea Republic of           KoreaRepublicof\n",
      "4                               Brazil                    Brazil\n",
      "5                        United States              UnitedStates\n",
      "6                       ErrorTooHighIP            ErrorTooHighIP\n",
      "7                              Germany                   Germany\n",
      "8                         South Africa               SouthAfrica\n",
      "9                               France                    France\n",
      "10                       United States              UnitedStates\n",
      "11                       United States              UnitedStates\n",
      "12                       United States              UnitedStates\n",
      "13                               China                     China\n",
      "14                              Brazil                    Brazil\n",
      "15                       United States              UnitedStates\n",
      "16                               China                     China\n",
      "17                       United States              UnitedStates\n",
      "18                      United Kingdom             UnitedKingdom\n",
      "19                      ErrorTooHighIP            ErrorTooHighIP\n",
      "20                               Spain                     Spain\n",
      "21                      ErrorTooHighIP            ErrorTooHighIP\n",
      "22                       United States              UnitedStates\n",
      "23                              Brazil                    Brazil\n",
      "24                             Belgium                   Belgium\n",
      "25                       United States              UnitedStates\n",
      "26                      United Kingdom             UnitedKingdom\n",
      "27                       United States              UnitedStates\n",
      "28                       United States              UnitedStates\n",
      "29                            Malaysia                  Malaysia\n",
      "...                                ...                       ...\n",
      "119970                   United States              UnitedStates\n",
      "119971                       Australia                 Australia\n",
      "119972  Croatia (LOCAL Name: Hrvatska)  CroatiaLOCALNameHrvatska\n",
      "119973                           Chile                     Chile\n",
      "119974                         Hungary                   Hungary\n",
      "119975                           China                     China\n",
      "119976                Papua New Guinea            PapuaNewGuinea\n",
      "119977                  ErrorTooHighIP            ErrorTooHighIP\n",
      "119978                   United States              UnitedStates\n",
      "119979                         Morocco                   Morocco\n",
      "119980                           India                     India\n",
      "119981                          France                    France\n",
      "119982                   United States              UnitedStates\n",
      "119983                   United States              UnitedStates\n",
      "119984                   United States              UnitedStates\n",
      "119985                     Netherlands               Netherlands\n",
      "119986                   United States              UnitedStates\n",
      "119987                   United States              UnitedStates\n",
      "119988                  ErrorTooHighIP            ErrorTooHighIP\n",
      "119989                  ErrorTooHighIP            ErrorTooHighIP\n",
      "119990                   United States              UnitedStates\n",
      "119991               Korea Republic of           KoreaRepublicof\n",
      "119992                   United States              UnitedStates\n",
      "119993                           India                     India\n",
      "119994                  ErrorTooHighIP            ErrorTooHighIP\n",
      "119995                     Netherlands               Netherlands\n",
      "119996                           China                     China\n",
      "119997                   United States              UnitedStates\n",
      "119998                     Switzerland               Switzerland\n",
      "119999                   United States              UnitedStates\n",
      "\n",
      "[120000 rows x 2 columns]\n"
     ]
    }
   ],
   "source": [
    "# Remove special characters from ip_country column\n",
    "df_all['ip_country_clean'] = df_all['ip_country'].str.replace('\\W', '')\n",
    "print(df_all[['ip_country', 'ip_country_clean']])"
   ]
  },
  {
   "cell_type": "markdown",
   "metadata": {},
   "source": [
    "#### Apply One-Hot-Encoding to columns ip_country, source, browser, and sex"
   ]
  },
  {
   "cell_type": "code",
   "execution_count": 48,
   "metadata": {},
   "outputs": [],
   "source": [
    "# It's most common to one-hot encode these \"object\" columns, since they can't be plugged directly into most models. \n",
    "# Pandas offers a function called get_dummies to get one-hot encodings.\n",
    "onehotencoding_columns = ['ip_country_clean','source', 'browser', 'sex']  # On column 'source', SEO corresponds to Search Engine Optimization\n",
    "for col in onehotencoding_columns:\n",
    "    df_dummies = pd.get_dummies(df_all[col], prefix = col)\n",
    "    df_all = pd.concat([df_all, df_dummies], axis=1)"
   ]
  },
  {
   "cell_type": "code",
   "execution_count": 49,
   "metadata": {},
   "outputs": [
    {
     "data": {
      "text/plain": [
       "Unnamed: 0                                      int64\n",
       "user_id                                         int64\n",
       "signup_time                                    object\n",
       "purchase_time                                  object\n",
       "purchase_value                                 object\n",
       "device_id                                      object\n",
       "source                                         object\n",
       "browser                                        object\n",
       "sex                                            object\n",
       "age                                             int64\n",
       "ip_address                                    float64\n",
       "class                                           int64\n",
       "signup_datetime                        datetime64[ns]\n",
       "signup_epoch                                  float64\n",
       "purchase_datetime                      datetime64[ns]\n",
       "purchase_epoch                                float64\n",
       "signup_dayofweek                                int64\n",
       "purchase_dayofweek                              int64\n",
       "purchase_signup_epoch                         float64\n",
       "purchase_value_numeric                          int64\n",
       "ip_country                                     object\n",
       "ip_country_clean                               object\n",
       "ip_country_clean_Afghanistan                    uint8\n",
       "ip_country_clean_Albania                        uint8\n",
       "ip_country_clean_Algeria                        uint8\n",
       "ip_country_clean_Angola                         uint8\n",
       "ip_country_clean_AntiguaandBarbuda              uint8\n",
       "ip_country_clean_Argentina                      uint8\n",
       "ip_country_clean_Armenia                        uint8\n",
       "ip_country_clean_Australia                      uint8\n",
       "                                            ...      \n",
       "ip_country_clean_Thailand                       uint8\n",
       "ip_country_clean_TrinidadandTobago              uint8\n",
       "ip_country_clean_Tunisia                        uint8\n",
       "ip_country_clean_Turkey                         uint8\n",
       "ip_country_clean_Turkmenistan                   uint8\n",
       "ip_country_clean_Uganda                         uint8\n",
       "ip_country_clean_Ukraine                        uint8\n",
       "ip_country_clean_UnitedArabEmirates             uint8\n",
       "ip_country_clean_UnitedKingdom                  uint8\n",
       "ip_country_clean_UnitedStates                   uint8\n",
       "ip_country_clean_Uruguay                        uint8\n",
       "ip_country_clean_Uzbekistan                     uint8\n",
       "ip_country_clean_Vanuatu                        uint8\n",
       "ip_country_clean_Venezuela                      uint8\n",
       "ip_country_clean_VietNam                        uint8\n",
       "ip_country_clean_VirginIslandsUS                uint8\n",
       "ip_country_clean_Yemen                          uint8\n",
       "ip_country_clean_Zambia                         uint8\n",
       "ip_country_clean_Zimbabwe                       uint8\n",
       "source_Ads                                      uint8\n",
       "source_Direct                                   uint8\n",
       "source_SEO                                      uint8\n",
       "browser_Chr0me                                  uint8\n",
       "browser_Chrome                                  uint8\n",
       "browser_FireFox                                 uint8\n",
       "browser_IE                                      uint8\n",
       "browser_Opera                                   uint8\n",
       "browser_Safari                                  uint8\n",
       "sex_F                                           uint8\n",
       "sex_M                                           uint8\n",
       "Length: 400, dtype: object"
      ]
     },
     "execution_count": 49,
     "metadata": {},
     "output_type": "execute_result"
    }
   ],
   "source": [
    "df_all.dtypes"
   ]
  },
  {
   "cell_type": "markdown",
   "metadata": {},
   "source": [
    "#### Visualize Input Dataset"
   ]
  },
  {
   "cell_type": "code",
   "execution_count": 50,
   "metadata": {},
   "outputs": [],
   "source": [
    "%matplotlib inline\n",
    "sns.set(style='ticks')"
   ]
  },
  {
   "cell_type": "code",
   "execution_count": 51,
   "metadata": {},
   "outputs": [],
   "source": [
    "# Pandas dataframe with numeric model features and model target\n",
    "DF = pd.concat([df_all[['Unnamed: 0', 'user_id',\n",
    "                         'age', 'ip_address', \n",
    "                         'signup_epoch', 'purchase_epoch', \n",
    "                         'signup_dayofweek', 'purchase_dayofweek', \n",
    "                         'purchase_signup_epoch', 'purchase_value_numeric',]], \n",
    "                df_all[[TARGET]]], axis=1)"
   ]
  },
  {
   "cell_type": "code",
   "execution_count": 52,
   "metadata": {},
   "outputs": [
    {
     "data": {
      "image/png": "[encoded data removed]",
      "text/plain": [
       "<Figure size 864x648 with 2 Axes>"
      ]
     },
     "metadata": {},
     "output_type": "display_data"
    }
   ],
   "source": [
    "# Compute and visualize covariance (correlation) matrix\n",
    "correl_matrix = DF.corr()\n",
    "fig = plt.figure(figsize = (12,9))\n",
    "sns.heatmap(correl_matrix, vmax=0.8, square=True)\n",
    "plt.show()"
   ]
  },
  {
   "cell_type": "markdown",
   "metadata": {},
   "source": [
    "Strong correlation between *signup_epoch* and *purchase_epoch*\n",
    "\n",
    "    Eliminate one of these columns as a model feature!\n",
    "    \n",
    "Correlation near Zero between TARGET and *Unnamed: 0*, *user_id*, *age*, *ip_address*, \n",
    "*signup_dayofweek*, *purchase_dayofweek*, and *purchase_value_numeric*\n",
    "\n",
    "    Eliminate only a couple of columns that seem irrelevant at moment of using the model"
   ]
  },
  {
   "cell_type": "markdown",
   "metadata": {},
   "source": [
    "#### Identify features and target columns"
   ]
  },
  {
   "cell_type": "code",
   "execution_count": 53,
   "metadata": {},
   "outputs": [
    {
     "name": "stdout",
     "output_type": "stream",
     "text": [
      "Model Features: ['age', 'ip_address', 'purchase_epoch', 'signup_dayofweek', 'purchase_dayofweek', 'purchase_signup_epoch', 'purchase_value_numeric', 'ip_country_clean_Afghanistan', 'ip_country_clean_Albania', 'ip_country_clean_Algeria', 'ip_country_clean_Angola', 'ip_country_clean_AntiguaandBarbuda', 'ip_country_clean_Argentina', 'ip_country_clean_Armenia', 'ip_country_clean_Australia', 'ip_country_clean_Austria', 'ip_country_clean_Azerbaijan', 'ip_country_clean_Bahamas', 'ip_country_clean_Bahrain', 'ip_country_clean_Bangladesh', 'ip_country_clean_Barbados', 'ip_country_clean_Belarus', 'ip_country_clean_Belgium', 'ip_country_clean_Belize', 'ip_country_clean_Benin', 'ip_country_clean_Bermuda', 'ip_country_clean_Bhutan', 'ip_country_clean_Bolivia', 'ip_country_clean_BosniaandHerzegowina', 'ip_country_clean_Botswana', 'ip_country_clean_Brazil', 'ip_country_clean_BritishIndianOceanTerritory', 'ip_country_clean_BruneiDarussalam', 'ip_country_clean_Bulgaria', 'ip_country_clean_BurkinaFaso', 'ip_country_clean_Cambodia', 'ip_country_clean_Cameroon', 'ip_country_clean_Canada', 'ip_country_clean_CapeVerde', 'ip_country_clean_CaymanIslands', 'ip_country_clean_Chile', 'ip_country_clean_China', 'ip_country_clean_Colombia', 'ip_country_clean_Congo', 'ip_country_clean_CongoTheDemocraticRepublicofThe', 'ip_country_clean_CostaRica', 'ip_country_clean_CoteDivoire', 'ip_country_clean_CroatiaLOCALNameHrvatska', 'ip_country_clean_Cuba', 'ip_country_clean_Curacao', 'ip_country_clean_Cyprus', 'ip_country_clean_CzechRepublic', 'ip_country_clean_Denmark', 'ip_country_clean_Djibouti', 'ip_country_clean_Dominica', 'ip_country_clean_DominicanRepublic', 'ip_country_clean_Ecuador', 'ip_country_clean_Egypt', 'ip_country_clean_ElSalvador', 'ip_country_clean_ErrorTooHighIP', 'ip_country_clean_ErrorTooLowIP', 'ip_country_clean_Estonia', 'ip_country_clean_Ethiopia', 'ip_country_clean_EuropeanUnion', 'ip_country_clean_FaroeIslands', 'ip_country_clean_Fiji', 'ip_country_clean_Finland', 'ip_country_clean_France', 'ip_country_clean_Gabon', 'ip_country_clean_Gambia', 'ip_country_clean_Georgia', 'ip_country_clean_Germany', 'ip_country_clean_Ghana', 'ip_country_clean_Gibraltar', 'ip_country_clean_Greece', 'ip_country_clean_Guadeloupe', 'ip_country_clean_Guam', 'ip_country_clean_Guatemala', 'ip_country_clean_Haiti', 'ip_country_clean_Honduras', 'ip_country_clean_HongKong', 'ip_country_clean_Hungary', 'ip_country_clean_Iceland', 'ip_country_clean_India', 'ip_country_clean_Indonesia', 'ip_country_clean_IranISLAMICRepublicOf', 'ip_country_clean_Iraq', 'ip_country_clean_Ireland', 'ip_country_clean_Israel', 'ip_country_clean_Italy', 'ip_country_clean_Jamaica', 'ip_country_clean_Japan', 'ip_country_clean_Jordan', 'ip_country_clean_Kazakhstan', 'ip_country_clean_Kenya', 'ip_country_clean_KoreaRepublicof', 'ip_country_clean_Kuwait', 'ip_country_clean_Kyrgyzstan', 'ip_country_clean_LaoPeoplesDemocraticRepublic', 'ip_country_clean_Latvia', 'ip_country_clean_Lebanon', 'ip_country_clean_Lesotho', 'ip_country_clean_LibyanArabJamahiriya', 'ip_country_clean_Liechtenstein', 'ip_country_clean_Lithuania', 'ip_country_clean_Luxembourg', 'ip_country_clean_Macau', 'ip_country_clean_Macedonia', 'ip_country_clean_Madagascar', 'ip_country_clean_Malawi', 'ip_country_clean_Malaysia', 'ip_country_clean_Maldives', 'ip_country_clean_Malta', 'ip_country_clean_Mauritius', 'ip_country_clean_Mexico', 'ip_country_clean_MoldovaRepublicof', 'ip_country_clean_Monaco', 'ip_country_clean_Mongolia', 'ip_country_clean_Montenegro', 'ip_country_clean_Morocco', 'ip_country_clean_Mozambique', 'ip_country_clean_Myanmar', 'ip_country_clean_Namibia', 'ip_country_clean_Nauru', 'ip_country_clean_Nepal', 'ip_country_clean_Netherlands', 'ip_country_clean_NewCaledonia', 'ip_country_clean_NewZealand', 'ip_country_clean_Nicaragua', 'ip_country_clean_Nigeria', 'ip_country_clean_Norway', 'ip_country_clean_Oman', 'ip_country_clean_Pakistan', 'ip_country_clean_PalestinianTerritoryOccupied', 'ip_country_clean_Panama', 'ip_country_clean_PapuaNewGuinea', 'ip_country_clean_Paraguay', 'ip_country_clean_Peru', 'ip_country_clean_Philippines', 'ip_country_clean_Poland', 'ip_country_clean_Portugal', 'ip_country_clean_PuertoRico', 'ip_country_clean_Qatar', 'ip_country_clean_Reunion', 'ip_country_clean_Romania', 'ip_country_clean_RussianFederation', 'ip_country_clean_Rwanda', 'ip_country_clean_SaintKittsandNevis', 'ip_country_clean_SanMarino', 'ip_country_clean_SaudiArabia', 'ip_country_clean_Senegal', 'ip_country_clean_Serbia', 'ip_country_clean_Seychelles', 'ip_country_clean_Singapore', 'ip_country_clean_SlovakiaSLOVAKRepublic', 'ip_country_clean_Slovenia', 'ip_country_clean_SouthAfrica', 'ip_country_clean_SouthSudan', 'ip_country_clean_Spain', 'ip_country_clean_SriLanka', 'ip_country_clean_Sudan', 'ip_country_clean_Sweden', 'ip_country_clean_Switzerland', 'ip_country_clean_SyrianArabRepublic', 'ip_country_clean_TaiwanRepublicofChinaROC', 'ip_country_clean_TanzaniaUnitedRepublicof', 'ip_country_clean_Thailand', 'ip_country_clean_TrinidadandTobago', 'ip_country_clean_Tunisia', 'ip_country_clean_Turkey', 'ip_country_clean_Turkmenistan', 'ip_country_clean_Uganda', 'ip_country_clean_Ukraine', 'ip_country_clean_UnitedArabEmirates', 'ip_country_clean_UnitedKingdom', 'ip_country_clean_UnitedStates', 'ip_country_clean_Uruguay', 'ip_country_clean_Uzbekistan', 'ip_country_clean_Vanuatu', 'ip_country_clean_Venezuela', 'ip_country_clean_VietNam', 'ip_country_clean_VirginIslandsUS', 'ip_country_clean_Yemen', 'ip_country_clean_Zambia', 'ip_country_clean_Zimbabwe', 'source_Ads', 'source_Direct', 'source_SEO', 'browser_Chr0me', 'browser_Chrome', 'browser_FireFox', 'browser_IE', 'browser_Opera', 'browser_Safari', 'sex_F', 'sex_M', 'ip_country_clean_Afghanistan', 'ip_country_clean_Albania', 'ip_country_clean_Algeria', 'ip_country_clean_Angola', 'ip_country_clean_AntiguaandBarbuda', 'ip_country_clean_Argentina', 'ip_country_clean_Armenia', 'ip_country_clean_Australia', 'ip_country_clean_Austria', 'ip_country_clean_Azerbaijan', 'ip_country_clean_Bahamas', 'ip_country_clean_Bahrain', 'ip_country_clean_Bangladesh', 'ip_country_clean_Barbados', 'ip_country_clean_Belarus', 'ip_country_clean_Belgium', 'ip_country_clean_Belize', 'ip_country_clean_Benin', 'ip_country_clean_Bermuda', 'ip_country_clean_Bhutan', 'ip_country_clean_Bolivia', 'ip_country_clean_BosniaandHerzegowina', 'ip_country_clean_Botswana', 'ip_country_clean_Brazil', 'ip_country_clean_BritishIndianOceanTerritory', 'ip_country_clean_BruneiDarussalam', 'ip_country_clean_Bulgaria', 'ip_country_clean_BurkinaFaso', 'ip_country_clean_Cambodia', 'ip_country_clean_Cameroon', 'ip_country_clean_Canada', 'ip_country_clean_CapeVerde', 'ip_country_clean_CaymanIslands', 'ip_country_clean_Chile', 'ip_country_clean_China', 'ip_country_clean_Colombia', 'ip_country_clean_Congo', 'ip_country_clean_CongoTheDemocraticRepublicofThe', 'ip_country_clean_CostaRica', 'ip_country_clean_CoteDivoire', 'ip_country_clean_CroatiaLOCALNameHrvatska', 'ip_country_clean_Cuba', 'ip_country_clean_Curacao', 'ip_country_clean_Cyprus', 'ip_country_clean_CzechRepublic', 'ip_country_clean_Denmark', 'ip_country_clean_Djibouti', 'ip_country_clean_Dominica', 'ip_country_clean_DominicanRepublic', 'ip_country_clean_Ecuador', 'ip_country_clean_Egypt', 'ip_country_clean_ElSalvador', 'ip_country_clean_ErrorTooHighIP', 'ip_country_clean_ErrorTooLowIP', 'ip_country_clean_Estonia', 'ip_country_clean_Ethiopia', 'ip_country_clean_EuropeanUnion', 'ip_country_clean_FaroeIslands', 'ip_country_clean_Fiji', 'ip_country_clean_Finland', 'ip_country_clean_France', 'ip_country_clean_Gabon', 'ip_country_clean_Gambia', 'ip_country_clean_Georgia', 'ip_country_clean_Germany', 'ip_country_clean_Ghana', 'ip_country_clean_Gibraltar', 'ip_country_clean_Greece', 'ip_country_clean_Guadeloupe', 'ip_country_clean_Guam', 'ip_country_clean_Guatemala', 'ip_country_clean_Haiti', 'ip_country_clean_Honduras', 'ip_country_clean_HongKong', 'ip_country_clean_Hungary', 'ip_country_clean_Iceland', 'ip_country_clean_India', 'ip_country_clean_Indonesia', 'ip_country_clean_IranISLAMICRepublicOf', 'ip_country_clean_Iraq', 'ip_country_clean_Ireland', 'ip_country_clean_Israel', 'ip_country_clean_Italy', 'ip_country_clean_Jamaica', 'ip_country_clean_Japan', 'ip_country_clean_Jordan', 'ip_country_clean_Kazakhstan', 'ip_country_clean_Kenya', 'ip_country_clean_KoreaRepublicof', 'ip_country_clean_Kuwait', 'ip_country_clean_Kyrgyzstan', 'ip_country_clean_LaoPeoplesDemocraticRepublic', 'ip_country_clean_Latvia', 'ip_country_clean_Lebanon', 'ip_country_clean_Lesotho', 'ip_country_clean_LibyanArabJamahiriya', 'ip_country_clean_Liechtenstein', 'ip_country_clean_Lithuania', 'ip_country_clean_Luxembourg', 'ip_country_clean_Macau', 'ip_country_clean_Macedonia', 'ip_country_clean_Madagascar', 'ip_country_clean_Malawi', 'ip_country_clean_Malaysia', 'ip_country_clean_Maldives', 'ip_country_clean_Malta', 'ip_country_clean_Mauritius', 'ip_country_clean_Mexico', 'ip_country_clean_MoldovaRepublicof', 'ip_country_clean_Monaco', 'ip_country_clean_Mongolia', 'ip_country_clean_Montenegro', 'ip_country_clean_Morocco', 'ip_country_clean_Mozambique', 'ip_country_clean_Myanmar', 'ip_country_clean_Namibia', 'ip_country_clean_Nauru', 'ip_country_clean_Nepal', 'ip_country_clean_Netherlands', 'ip_country_clean_NewCaledonia', 'ip_country_clean_NewZealand', 'ip_country_clean_Nicaragua', 'ip_country_clean_Nigeria', 'ip_country_clean_Norway', 'ip_country_clean_Oman', 'ip_country_clean_Pakistan', 'ip_country_clean_PalestinianTerritoryOccupied', 'ip_country_clean_Panama', 'ip_country_clean_PapuaNewGuinea', 'ip_country_clean_Paraguay', 'ip_country_clean_Peru', 'ip_country_clean_Philippines', 'ip_country_clean_Poland', 'ip_country_clean_Portugal', 'ip_country_clean_PuertoRico', 'ip_country_clean_Qatar', 'ip_country_clean_Reunion', 'ip_country_clean_Romania', 'ip_country_clean_RussianFederation', 'ip_country_clean_Rwanda', 'ip_country_clean_SaintKittsandNevis', 'ip_country_clean_SanMarino', 'ip_country_clean_SaudiArabia', 'ip_country_clean_Senegal', 'ip_country_clean_Serbia', 'ip_country_clean_Seychelles', 'ip_country_clean_Singapore', 'ip_country_clean_SlovakiaSLOVAKRepublic', 'ip_country_clean_Slovenia', 'ip_country_clean_SouthAfrica', 'ip_country_clean_SouthSudan', 'ip_country_clean_Spain', 'ip_country_clean_SriLanka', 'ip_country_clean_Sudan', 'ip_country_clean_Sweden', 'ip_country_clean_Switzerland', 'ip_country_clean_SyrianArabRepublic', 'ip_country_clean_TaiwanRepublicofChinaROC', 'ip_country_clean_TanzaniaUnitedRepublicof', 'ip_country_clean_Thailand', 'ip_country_clean_TrinidadandTobago', 'ip_country_clean_Tunisia', 'ip_country_clean_Turkey', 'ip_country_clean_Turkmenistan', 'ip_country_clean_Uganda', 'ip_country_clean_Ukraine', 'ip_country_clean_UnitedArabEmirates', 'ip_country_clean_UnitedKingdom', 'ip_country_clean_UnitedStates', 'ip_country_clean_Uruguay', 'ip_country_clean_Uzbekistan', 'ip_country_clean_Vanuatu', 'ip_country_clean_Venezuela', 'ip_country_clean_VietNam', 'ip_country_clean_VirginIslandsUS', 'ip_country_clean_Yemen', 'ip_country_clean_Zambia', 'ip_country_clean_Zimbabwe', 'source_Ads', 'source_Direct', 'source_SEO', 'browser_Chr0me', 'browser_Chrome', 'browser_FireFox', 'browser_IE', 'browser_Opera', 'browser_Safari', 'sex_F', 'sex_M']\n",
      "Model Target: class\n"
     ]
    }
   ],
   "source": [
    "unwanted_columns = ['signup_epoch',  # Redundant as per Covariance Matrix\n",
    "                    'Unnamed: 0', 'user_id', 'device_id',  # irrelevant or random at moment of using model\n",
    "                    'signup_time', 'purchase_time', 'purchase_value', #other numeric columns were created instead\n",
    "                    'ip_country','ip_country_clean', # Other One-hot-encoded columns created instead\n",
    "                    'source', 'browser', 'sex',  # Other One-hot-encoded columns created instead\n",
    "                    'signup_datetime', 'purchase_datetime'  # Other numeric columns created instead\n",
    "                   ]\n",
    "unwanted_columns.append(TARGET)\n",
    "feature_columns =[x for x in df_all.columns if x not in unwanted_columns]\n",
    "X_train = df_all[feature_columns]\n",
    "y_train = df_all[TARGET]\n",
    "print('Model Features:', feature_columns)\n",
    "print('Model Target:', TARGET)"
   ]
  },
  {
   "cell_type": "code",
   "execution_count": 54,
   "metadata": {},
   "outputs": [
    {
     "name": "stdout",
     "output_type": "stream",
     "text": [
      "(120000, 763)\n"
     ]
    },
    {
     "data": {
      "text/html": [
       "<div>\n",
       "<style scoped>\n",
       "    .dataframe tbody tr th:only-of-type {\n",
       "        vertical-align: middle;\n",
       "    }\n",
       "\n",
       "    .dataframe tbody tr th {\n",
       "        vertical-align: top;\n",
       "    }\n",
       "\n",
       "    .dataframe thead th {\n",
       "        text-align: right;\n",
       "    }\n",
       "</style>\n",
       "<table border=\"1\" class=\"dataframe\">\n",
       "  <thead>\n",
       "    <tr style=\"text-align: right;\">\n",
       "      <th></th>\n",
       "      <th>age</th>\n",
       "      <th>ip_address</th>\n",
       "      <th>purchase_epoch</th>\n",
       "      <th>signup_dayofweek</th>\n",
       "      <th>purchase_dayofweek</th>\n",
       "      <th>purchase_signup_epoch</th>\n",
       "      <th>purchase_value_numeric</th>\n",
       "      <th>ip_country_clean_Afghanistan</th>\n",
       "      <th>ip_country_clean_Afghanistan</th>\n",
       "      <th>ip_country_clean_Albania</th>\n",
       "      <th>...</th>\n",
       "      <th>browser_IE</th>\n",
       "      <th>browser_IE</th>\n",
       "      <th>browser_Opera</th>\n",
       "      <th>browser_Opera</th>\n",
       "      <th>browser_Safari</th>\n",
       "      <th>browser_Safari</th>\n",
       "      <th>sex_F</th>\n",
       "      <th>sex_F</th>\n",
       "      <th>sex_M</th>\n",
       "      <th>sex_M</th>\n",
       "    </tr>\n",
       "  </thead>\n",
       "  <tbody>\n",
       "    <tr>\n",
       "      <th>count</th>\n",
       "      <td>120000.000000</td>\n",
       "      <td>1.200000e+05</td>\n",
       "      <td>1.200000e+05</td>\n",
       "      <td>120000.000000</td>\n",
       "      <td>120000.000000</td>\n",
       "      <td>1.200000e+05</td>\n",
       "      <td>120000.000000</td>\n",
       "      <td>120000.000000</td>\n",
       "      <td>120000.000000</td>\n",
       "      <td>120000.000000</td>\n",
       "      <td>...</td>\n",
       "      <td>120000.000000</td>\n",
       "      <td>120000.000000</td>\n",
       "      <td>120000.000000</td>\n",
       "      <td>120000.000000</td>\n",
       "      <td>120000.000000</td>\n",
       "      <td>120000.000000</td>\n",
       "      <td>120000.000000</td>\n",
       "      <td>120000.000000</td>\n",
       "      <td>120000.000000</td>\n",
       "      <td>120000.000000</td>\n",
       "    </tr>\n",
       "    <tr>\n",
       "      <th>mean</th>\n",
       "      <td>33.125250</td>\n",
       "      <td>2.151550e+09</td>\n",
       "      <td>1.434431e+09</td>\n",
       "      <td>3.023633</td>\n",
       "      <td>3.016808</td>\n",
       "      <td>4.933112e+06</td>\n",
       "      <td>36.881475</td>\n",
       "      <td>0.000042</td>\n",
       "      <td>0.000042</td>\n",
       "      <td>0.000083</td>\n",
       "      <td>...</td>\n",
       "      <td>0.242817</td>\n",
       "      <td>0.242817</td>\n",
       "      <td>0.024792</td>\n",
       "      <td>0.024792</td>\n",
       "      <td>0.163500</td>\n",
       "      <td>0.163500</td>\n",
       "      <td>0.415617</td>\n",
       "      <td>0.415617</td>\n",
       "      <td>0.584383</td>\n",
       "      <td>0.584383</td>\n",
       "    </tr>\n",
       "    <tr>\n",
       "      <th>std</th>\n",
       "      <td>8.617081</td>\n",
       "      <td>1.248314e+09</td>\n",
       "      <td>7.040612e+06</td>\n",
       "      <td>2.006533</td>\n",
       "      <td>2.006733</td>\n",
       "      <td>3.127784e+06</td>\n",
       "      <td>18.325855</td>\n",
       "      <td>0.006455</td>\n",
       "      <td>0.006455</td>\n",
       "      <td>0.009128</td>\n",
       "      <td>...</td>\n",
       "      <td>0.428787</td>\n",
       "      <td>0.428787</td>\n",
       "      <td>0.155490</td>\n",
       "      <td>0.155490</td>\n",
       "      <td>0.369823</td>\n",
       "      <td>0.369823</td>\n",
       "      <td>0.492830</td>\n",
       "      <td>0.492830</td>\n",
       "      <td>0.492830</td>\n",
       "      <td>0.492830</td>\n",
       "    </tr>\n",
       "    <tr>\n",
       "      <th>min</th>\n",
       "      <td>18.000000</td>\n",
       "      <td>9.344714e+04</td>\n",
       "      <td>1.420070e+09</td>\n",
       "      <td>0.000000</td>\n",
       "      <td>0.000000</td>\n",
       "      <td>0.000000e+00</td>\n",
       "      <td>9.000000</td>\n",
       "      <td>0.000000</td>\n",
       "      <td>0.000000</td>\n",
       "      <td>0.000000</td>\n",
       "      <td>...</td>\n",
       "      <td>0.000000</td>\n",
       "      <td>0.000000</td>\n",
       "      <td>0.000000</td>\n",
       "      <td>0.000000</td>\n",
       "      <td>0.000000</td>\n",
       "      <td>0.000000</td>\n",
       "      <td>0.000000</td>\n",
       "      <td>0.000000</td>\n",
       "      <td>0.000000</td>\n",
       "      <td>0.000000</td>\n",
       "    </tr>\n",
       "    <tr>\n",
       "      <th>25%</th>\n",
       "      <td>27.000000</td>\n",
       "      <td>1.085345e+09</td>\n",
       "      <td>1.429372e+09</td>\n",
       "      <td>1.000000</td>\n",
       "      <td>1.000000</td>\n",
       "      <td>2.188140e+06</td>\n",
       "      <td>22.000000</td>\n",
       "      <td>0.000000</td>\n",
       "      <td>0.000000</td>\n",
       "      <td>0.000000</td>\n",
       "      <td>...</td>\n",
       "      <td>0.000000</td>\n",
       "      <td>0.000000</td>\n",
       "      <td>0.000000</td>\n",
       "      <td>0.000000</td>\n",
       "      <td>0.000000</td>\n",
       "      <td>0.000000</td>\n",
       "      <td>0.000000</td>\n",
       "      <td>0.000000</td>\n",
       "      <td>0.000000</td>\n",
       "      <td>0.000000</td>\n",
       "    </tr>\n",
       "    <tr>\n",
       "      <th>50%</th>\n",
       "      <td>33.000000</td>\n",
       "      <td>2.155238e+09</td>\n",
       "      <td>1.434642e+09</td>\n",
       "      <td>3.000000</td>\n",
       "      <td>3.000000</td>\n",
       "      <td>4.924380e+06</td>\n",
       "      <td>34.000000</td>\n",
       "      <td>0.000000</td>\n",
       "      <td>0.000000</td>\n",
       "      <td>0.000000</td>\n",
       "      <td>...</td>\n",
       "      <td>0.000000</td>\n",
       "      <td>0.000000</td>\n",
       "      <td>0.000000</td>\n",
       "      <td>0.000000</td>\n",
       "      <td>0.000000</td>\n",
       "      <td>0.000000</td>\n",
       "      <td>0.000000</td>\n",
       "      <td>0.000000</td>\n",
       "      <td>1.000000</td>\n",
       "      <td>1.000000</td>\n",
       "    </tr>\n",
       "    <tr>\n",
       "      <th>75%</th>\n",
       "      <td>39.000000</td>\n",
       "      <td>3.241268e+09</td>\n",
       "      <td>1.439840e+09</td>\n",
       "      <td>5.000000</td>\n",
       "      <td>5.000000</td>\n",
       "      <td>7.648215e+06</td>\n",
       "      <td>49.000000</td>\n",
       "      <td>0.000000</td>\n",
       "      <td>0.000000</td>\n",
       "      <td>0.000000</td>\n",
       "      <td>...</td>\n",
       "      <td>0.000000</td>\n",
       "      <td>0.000000</td>\n",
       "      <td>0.000000</td>\n",
       "      <td>0.000000</td>\n",
       "      <td>0.000000</td>\n",
       "      <td>0.000000</td>\n",
       "      <td>1.000000</td>\n",
       "      <td>1.000000</td>\n",
       "      <td>1.000000</td>\n",
       "      <td>1.000000</td>\n",
       "    </tr>\n",
       "    <tr>\n",
       "      <th>max</th>\n",
       "      <td>76.000000</td>\n",
       "      <td>4.294850e+09</td>\n",
       "      <td>1.450235e+09</td>\n",
       "      <td>6.000000</td>\n",
       "      <td>6.000000</td>\n",
       "      <td>1.036794e+07</td>\n",
       "      <td>154.000000</td>\n",
       "      <td>1.000000</td>\n",
       "      <td>1.000000</td>\n",
       "      <td>1.000000</td>\n",
       "      <td>...</td>\n",
       "      <td>1.000000</td>\n",
       "      <td>1.000000</td>\n",
       "      <td>1.000000</td>\n",
       "      <td>1.000000</td>\n",
       "      <td>1.000000</td>\n",
       "      <td>1.000000</td>\n",
       "      <td>1.000000</td>\n",
       "      <td>1.000000</td>\n",
       "      <td>1.000000</td>\n",
       "      <td>1.000000</td>\n",
       "    </tr>\n",
       "  </tbody>\n",
       "</table>\n",
       "<p>8 rows × 763 columns</p>\n",
       "</div>"
      ],
      "text/plain": [
       "                 age    ip_address  purchase_epoch  signup_dayofweek  \\\n",
       "count  120000.000000  1.200000e+05    1.200000e+05     120000.000000   \n",
       "mean       33.125250  2.151550e+09    1.434431e+09          3.023633   \n",
       "std         8.617081  1.248314e+09    7.040612e+06          2.006533   \n",
       "min        18.000000  9.344714e+04    1.420070e+09          0.000000   \n",
       "25%        27.000000  1.085345e+09    1.429372e+09          1.000000   \n",
       "50%        33.000000  2.155238e+09    1.434642e+09          3.000000   \n",
       "75%        39.000000  3.241268e+09    1.439840e+09          5.000000   \n",
       "max        76.000000  4.294850e+09    1.450235e+09          6.000000   \n",
       "\n",
       "       purchase_dayofweek  purchase_signup_epoch  purchase_value_numeric  \\\n",
       "count       120000.000000           1.200000e+05           120000.000000   \n",
       "mean             3.016808           4.933112e+06               36.881475   \n",
       "std              2.006733           3.127784e+06               18.325855   \n",
       "min              0.000000           0.000000e+00                9.000000   \n",
       "25%              1.000000           2.188140e+06               22.000000   \n",
       "50%              3.000000           4.924380e+06               34.000000   \n",
       "75%              5.000000           7.648215e+06               49.000000   \n",
       "max              6.000000           1.036794e+07              154.000000   \n",
       "\n",
       "       ip_country_clean_Afghanistan  ip_country_clean_Afghanistan  \\\n",
       "count                 120000.000000                 120000.000000   \n",
       "mean                       0.000042                      0.000042   \n",
       "std                        0.006455                      0.006455   \n",
       "min                        0.000000                      0.000000   \n",
       "25%                        0.000000                      0.000000   \n",
       "50%                        0.000000                      0.000000   \n",
       "75%                        0.000000                      0.000000   \n",
       "max                        1.000000                      1.000000   \n",
       "\n",
       "       ip_country_clean_Albania      ...           browser_IE     browser_IE  \\\n",
       "count             120000.000000      ...        120000.000000  120000.000000   \n",
       "mean                   0.000083      ...             0.242817       0.242817   \n",
       "std                    0.009128      ...             0.428787       0.428787   \n",
       "min                    0.000000      ...             0.000000       0.000000   \n",
       "25%                    0.000000      ...             0.000000       0.000000   \n",
       "50%                    0.000000      ...             0.000000       0.000000   \n",
       "75%                    0.000000      ...             0.000000       0.000000   \n",
       "max                    1.000000      ...             1.000000       1.000000   \n",
       "\n",
       "       browser_Opera  browser_Opera  browser_Safari  browser_Safari  \\\n",
       "count  120000.000000  120000.000000   120000.000000   120000.000000   \n",
       "mean        0.024792       0.024792        0.163500        0.163500   \n",
       "std         0.155490       0.155490        0.369823        0.369823   \n",
       "min         0.000000       0.000000        0.000000        0.000000   \n",
       "25%         0.000000       0.000000        0.000000        0.000000   \n",
       "50%         0.000000       0.000000        0.000000        0.000000   \n",
       "75%         0.000000       0.000000        0.000000        0.000000   \n",
       "max         1.000000       1.000000        1.000000        1.000000   \n",
       "\n",
       "               sex_F          sex_F          sex_M          sex_M  \n",
       "count  120000.000000  120000.000000  120000.000000  120000.000000  \n",
       "mean        0.415617       0.415617       0.584383       0.584383  \n",
       "std         0.492830       0.492830       0.492830       0.492830  \n",
       "min         0.000000       0.000000       0.000000       0.000000  \n",
       "25%         0.000000       0.000000       0.000000       0.000000  \n",
       "50%         0.000000       0.000000       1.000000       1.000000  \n",
       "75%         1.000000       1.000000       1.000000       1.000000  \n",
       "max         1.000000       1.000000       1.000000       1.000000  \n",
       "\n",
       "[8 rows x 763 columns]"
      ]
     },
     "execution_count": 54,
     "metadata": {},
     "output_type": "execute_result"
    }
   ],
   "source": [
    "print(X_train.shape)\n",
    "X_train.describe()"
   ]
  },
  {
   "cell_type": "markdown",
   "metadata": {},
   "source": [
    "#### How unbalanced is the target data?"
   ]
  },
  {
   "cell_type": "code",
   "execution_count": 55,
   "metadata": {},
   "outputs": [],
   "source": [
    "def plot_balance(dataseries_name, plot_title, percent=True):\n",
    "    \"\"\"Generates a bar plot with the counts of frauds and no-frauds events.\n",
    "    Arguments:\n",
    "    dataseries_name: Pandas series with the target dataset \n",
    "                    For example 'ds'\n",
    "    plot_title: For example 'Synthetic Unbalanced Dataset'\n",
    "    percent: If False, will plot Counts. Default is True to display percents\n",
    "    \"\"\"\n",
    "    if percent:\n",
    "        percent_values = dataseries_name.value_counts(normalize=True).mul(100).round(1)\n",
    "        sns.barplot([0,1], percent_values)\n",
    "        y_label = 'Percent'\n",
    "    else:\n",
    "        sns.barplot([0,1], dataseries_name.value_counts().values)\n",
    "        y_label = 'Count'\n",
    "    plt.title(plot_title)\n",
    "    plt.ylabel(y_label)\n",
    "    plt.xlabel(TARGET+' (0:Good, 1:Fraud)')"
   ]
  },
  {
   "cell_type": "code",
   "execution_count": 56,
   "metadata": {},
   "outputs": [
    {
     "data": {
      "image/png": "[encoded data removed]",
      "text/plain": [
       "<Figure size 432x288 with 1 Axes>"
      ]
     },
     "metadata": {},
     "output_type": "display_data"
    }
   ],
   "source": [
    "plot_balance(y_train, 'Training Target Dataset Percents')"
   ]
  },
  {
   "cell_type": "code",
   "execution_count": 57,
   "metadata": {},
   "outputs": [
    {
     "data": {
      "text/html": [
       "<div>\n",
       "<style scoped>\n",
       "    .dataframe tbody tr th:only-of-type {\n",
       "        vertical-align: middle;\n",
       "    }\n",
       "\n",
       "    .dataframe tbody tr th {\n",
       "        vertical-align: top;\n",
       "    }\n",
       "\n",
       "    .dataframe thead th {\n",
       "        text-align: right;\n",
       "    }\n",
       "</style>\n",
       "<table border=\"1\" class=\"dataframe\">\n",
       "  <thead>\n",
       "    <tr style=\"text-align: right;\">\n",
       "      <th></th>\n",
       "      <th>counts</th>\n",
       "      <th>percents</th>\n",
       "    </tr>\n",
       "  </thead>\n",
       "  <tbody>\n",
       "    <tr>\n",
       "      <th>0</th>\n",
       "      <td>108735</td>\n",
       "      <td>90.6</td>\n",
       "    </tr>\n",
       "    <tr>\n",
       "      <th>1</th>\n",
       "      <td>11265</td>\n",
       "      <td>9.4</td>\n",
       "    </tr>\n",
       "  </tbody>\n",
       "</table>\n",
       "</div>"
      ],
      "text/plain": [
       "   counts  percents\n",
       "0  108735      90.6\n",
       "1   11265       9.4"
      ]
     },
     "execution_count": 57,
     "metadata": {},
     "output_type": "execute_result"
    }
   ],
   "source": [
    "# Show how unbalanced is the Target data\n",
    "counts = y_train.value_counts()\n",
    "perc = y_train.value_counts(normalize=True).mul(100).round(1)\n",
    "pd.DataFrame({'counts': counts, 'percents': perc})"
   ]
  },
  {
   "cell_type": "code",
   "execution_count": 58,
   "metadata": {},
   "outputs": [
    {
     "data": {
      "image/png": "[encoded data removed]",
      "text/plain": [
       "<Figure size 432x288 with 1 Axes>"
      ]
     },
     "metadata": {},
     "output_type": "display_data"
    }
   ],
   "source": [
    "plot_balance(y_train, 'Training Target Dataset Counts', percent=False)"
   ]
  },
  {
   "cell_type": "markdown",
   "metadata": {},
   "source": [
    "### Prove that the features can be used on a Machine Learning algorithm"
   ]
  },
  {
   "cell_type": "markdown",
   "metadata": {},
   "source": [
    "#### Using Class-weighted Logistic Regression\n",
    "\n",
    "Reference: https://machinelearningmastery.com/cost-sensitive-logistic-regression/"
   ]
  },
  {
   "cell_type": "code",
   "execution_count": 59,
   "metadata": {},
   "outputs": [],
   "source": [
    "#import numpy as np\n",
    "from sklearn.linear_model import LogisticRegression\n",
    "from sklearn.metrics import classification_report, confusion_matrix"
   ]
  },
  {
   "cell_type": "markdown",
   "metadata": {},
   "source": [
    "Estimating weights with my intuition:"
   ]
  },
  {
   "cell_type": "code",
   "execution_count": 60,
   "metadata": {},
   "outputs": [],
   "source": [
    "weights = {0:9.0, 1:91.0}  # As best practice, use inverse of class distribution present in training dataset.\n",
    "model_logistic_reg = LogisticRegression(solver='saga', \n",
    "                                        penalty='l1',   # Ridge regularization, to make some coefficients zero\n",
    "                                        class_weight=weights)"
   ]
  },
  {
   "cell_type": "code",
   "execution_count": 61,
   "metadata": {},
   "outputs": [
    {
     "name": "stderr",
     "output_type": "stream",
     "text": [
      "/Applications/anaconda/envs/Python3/lib/python3.6/site-packages/sklearn/linear_model/sag.py:334: ConvergenceWarning: The max_iter was reached which means the coef_ did not converge\n",
      "  \"the coef_ did not converge\", ConvergenceWarning)\n"
     ]
    },
    {
     "name": "stdout",
     "output_type": "stream",
     "text": [
      "Weights: {0: 9.0, 1: 91.0}\n",
      "              precision    recall  f1-score   support\n",
      "\n",
      "           0       0.95      0.70      0.81    108735\n",
      "           1       0.19      0.67      0.29     11265\n",
      "\n",
      "   micro avg       0.70      0.70      0.70    120000\n",
      "   macro avg       0.57      0.68      0.55    120000\n",
      "weighted avg       0.88      0.70      0.76    120000\n",
      "\n"
     ]
    }
   ],
   "source": [
    "model_logistic_reg.fit(X_train, y_train)\n",
    "\n",
    "print('Weights:', weights)\n",
    "print(classification_report(y_train, \n",
    "                            model_logistic_reg.predict(X_train)\n",
    "                           ))"
   ]
  },
  {
   "cell_type": "markdown",
   "metadata": {},
   "source": [
    "Estimating weights with sklearn method:"
   ]
  },
  {
   "cell_type": "code",
   "execution_count": 62,
   "metadata": {},
   "outputs": [
    {
     "name": "stdout",
     "output_type": "stream",
     "text": [
      "compute_class_weight: [0.55180025 5.32623169]\n"
     ]
    },
    {
     "name": "stderr",
     "output_type": "stream",
     "text": [
      "/Applications/anaconda/envs/Python3/lib/python3.6/site-packages/sklearn/linear_model/sag.py:334: ConvergenceWarning: The max_iter was reached which means the coef_ did not converge\n",
      "  \"the coef_ did not converge\", ConvergenceWarning)\n"
     ]
    },
    {
     "name": "stdout",
     "output_type": "stream",
     "text": [
      "              precision    recall  f1-score   support\n",
      "\n",
      "           0       0.95      0.64      0.77    108735\n",
      "           1       0.17      0.70      0.27     11265\n",
      "\n",
      "   micro avg       0.65      0.65      0.65    120000\n",
      "   macro avg       0.56      0.67      0.52    120000\n",
      "weighted avg       0.88      0.65      0.72    120000\n",
      "\n"
     ]
    }
   ],
   "source": [
    "from sklearn.utils.class_weight import compute_class_weight\n",
    "# calculate class weighting\n",
    "weighting = compute_class_weight('balanced', [0,1], y_train)\n",
    "print('compute_class_weight:', weighting)\n",
    "\n",
    "weights = {0:weighting[0], 1:weighting[1]}\n",
    "model_logistic_reg = LogisticRegression(solver='saga',  # For a faster solver, use 'saga' or 'sag' \n",
    "                                        penalty='l1',   # Ridge regularization, to make some coefficients zero\n",
    "                                        class_weight=weights)\n",
    "\n",
    "model_logistic_reg.fit(X_train, y_train)\n",
    "\n",
    "print(classification_report(y_train, \n",
    "                            model_logistic_reg.predict(X_train)\n",
    "                           ))"
   ]
  },
  {
   "cell_type": "markdown",
   "metadata": {},
   "source": [
    "The last two models seem to give similar performances, although the *later model* giver recall is a bit higher on class 1:Fraud.\n",
    "\n",
    "\n",
    "Intermediaty step: In case we want to deploy a model without hyperparameter tuning, symply run \n",
    "    \n",
    "    grid = model_logistic_reg.fit\n",
    "..., then go to the last 2 cells of this notebook, and run these cells."
   ]
  },
  {
   "cell_type": "markdown",
   "metadata": {},
   "source": [
    "### Hyperparameter Tuning\n"
   ]
  },
  {
   "cell_type": "markdown",
   "metadata": {},
   "source": [
    "##### What Metric should we optimize, Accuracy, Precision, Recall, F1, ROC, or other?"
   ]
  },
  {
   "cell_type": "code",
   "execution_count": 63,
   "metadata": {},
   "outputs": [
    {
     "data": {
      "text/plain": [
       "count    120000.000000\n",
       "mean         36.881475\n",
       "std          18.325855\n",
       "min           9.000000\n",
       "25%          22.000000\n",
       "50%          34.000000\n",
       "75%          49.000000\n",
       "max         154.000000\n",
       "Name: purchase_value_numeric, dtype: float64"
      ]
     },
     "execution_count": 63,
     "metadata": {},
     "output_type": "execute_result"
    }
   ],
   "source": [
    "X_train['purchase_value_numeric'].describe()"
   ]
  },
  {
   "cell_type": "markdown",
   "metadata": {},
   "source": [
    "Considerations on the Cost Function to assess the model performance:\n",
    "\n",
    "Note on False Negatives: If the model fails to identify a fraudulent transaction, \n",
    "Electronica loses money equivalent to the price of the fraudulently purchased product.\n",
    "\n",
    "Note on False Positives: If the model incorrectly flags a real transaction as fraudulent, \n",
    "it inconveniences the Electronica customers whose valid transactions are flagged—a cost your client values at $8.\n",
    "\n",
    "Since the mean product price is $36.88, from the above output, then False Negative errors cost over 4 times more than the False Positive errors.\n",
    "\n",
    "    Thus, let's try a cost function that aims at reducing False Negatives\n",
    "\n",
    "Recall in this context is also referred to as the true positive rate or sensitivity,\n",
    "\n",
    "    Recall = true_positives / (true_positives + false_negatives)\n",
    "\n",
    "Thus, we want the model that gives us the HIGHEST RECALL (for class1:Fraud) during Hyperparameter tuning.\n",
    "\n",
    "However, as a final metric, we want a customized loss function..."
   ]
  },
  {
   "cell_type": "code",
   "execution_count": 64,
   "metadata": {},
   "outputs": [],
   "source": [
    "from sklearn.metrics.scorer import make_scorer\n",
    "\n",
    "def custom_loss(y_target, y_predict, X_input):\n",
    "    \"\"\"Calculates the average dollars lost per wrong prediction, for the Electronica Fraud model\n",
    "    Call it as\n",
    "        custom_loss( X_input=X_test, y_target=y_test, y_predict=y_pred_test )\n",
    "    Inputs: \n",
    "        y_target -- True target values\n",
    "        y_predict -- Target values predicted by the model\n",
    "        X_input -- Model input-feature values\n",
    "    Outputs:\n",
    "        ratio = amount of dollars lost by model errors / number of predictions done by model\n",
    "    \"\"\"\n",
    "    error= 0\n",
    "    #for i in range(y_target.shape[0]):  # Use this for Pandas\n",
    "    for i in range(len(y_target)):\n",
    "        #False Negatives\n",
    "        #if (y_predict.iloc[i].item() == 0) and (y_target.iloc[i].item() == 1):  # Use this for Pandas\n",
    "        if (y_predict[i] == 0) and (y_target[i] == 1):                           # Use this for Numpy\n",
    "            error_i = X_input.purchase_value_numeric.iloc[i]          \n",
    "        #False Positives\n",
    "        #elif y_predict.iloc[i].item() == 1 and y_target.iloc[i].item() == 0:    # Use this for Pandas\n",
    "        elif y_predict[i] == 1 and y_target[i] == 0:     # Use this for Numpy\n",
    "            error_i = 8\n",
    "        else:\n",
    "            error_i = 0\n",
    "        error += error_i\n",
    "    return error/len(y_target)\n",
    "\n",
    "custom_scorer = make_scorer(custom_loss, greater_is_better=False)"
   ]
  },
  {
   "cell_type": "code",
   "execution_count": 69,
   "metadata": {},
   "outputs": [
    {
     "name": "stdout",
     "output_type": "stream",
     "text": [
      "TEST PASSED! Correct error equals  17.666666666666668\n"
     ]
    }
   ],
   "source": [
    "# Unit test\n",
    "import numpy as np\n",
    "x_t = pd.DataFrame({'age':[20,30,40,50,60,70], \n",
    "                    'purchase_value_numeric':[20,30,40,50,60,2]\n",
    "                   })\n",
    "#y_ta = pd.DataFrame({'class':[0,1,0,1,1,0]})\n",
    "y_ta = np.array([0,1,0,1,1,0])\n",
    "\n",
    "#y_pr = pd.DataFrame({'class':[0,0,1,1,0,1]})\n",
    "y_pr = np.array([0,0,1,1,0,1])\n",
    "correct_error = 106.0/6.0\n",
    "error = custom_loss(X_input=x_t, y_target=y_ta, y_predict=y_pr)\n",
    "if round(error,2) == round(correct_error,2):  # equal when rounded to 2 decimal points\n",
    "    print('TEST PASSED! Correct error equals ', correct_error)\n",
    "else:\n",
    "    print('TEST FAILED! Function gave error =', error)"
   ]
  },
  {
   "cell_type": "markdown",
   "metadata": {},
   "source": [
    "#### Grid Search with Recall\n",
    "\n",
    "We will use repeated cross-validation to evaluate the model, with **3 repeats of 10-fold cross-validation**. \n",
    "\n",
    "The mode performance will be reported using the mean Recall averaged over repeats and all folds."
   ]
  },
  {
   "cell_type": "code",
   "execution_count": 70,
   "metadata": {},
   "outputs": [],
   "source": [
    "from sklearn.model_selection import RepeatedStratifiedKFold\n",
    "from sklearn.model_selection import GridSearchCV\n",
    "from sklearn.metrics import accuracy_score, precision_score, recall_score, f1_score"
   ]
  },
  {
   "cell_type": "code",
   "execution_count": null,
   "metadata": {},
   "outputs": [],
   "source": [
    "# Define model\n",
    "# Using regularization penalty l1:Lasso:set_some_coeff_zero (l2:Ridge)\n",
    "model_logistic_reg = LogisticRegression(penalty='l1') \n",
    "\n",
    "# define grid\n",
    "balance = [{0:9.0, 1:91.0},\n",
    "           {0:0.55180025,1:5.32623169},\n",
    "           {0:100,1:1}, \n",
    "           {0:10,1:1}, \n",
    "           {0:1,1:1}, \n",
    "           {0:1,1:10}, \n",
    "           {0:1,1:100}]\n",
    "\n",
    "param_grid = {'solver': ['liblinear','saga'],  # Algorithm used in optimization. liblinear is slower, saga is faster\n",
    "              'C':[0.001,0.01,1.0,10.0],  # Inverse of regularization strength\n",
    "               'class_weight': balance               # Weights associated with (unbalanced) target classes\n",
    "              }\n",
    "    \n",
    "# define evaluation procedure\n",
    "cv = RepeatedStratifiedKFold(n_splits=10, n_repeats=3, random_state=1)\n",
    "\n",
    "# define grid search to output final model\n",
    "grid = GridSearchCV(estimator=model_logistic_reg, \n",
    "                    param_grid=param_grid, \n",
    "                    n_jobs=-1, # Number of jobs to run in parallel. None means 1 unless in a joblib.parallel_backend context. -1 means using all processors.\n",
    "                    cv=cv, scoring=make_scorer(recall_score))\n",
    "\n",
    "# execute the grid search\n",
    "grid_result = grid.fit(X_train, y_train)\n",
    "\n",
    "# report the best configuration\n",
    "print(\"Best: %f using %s\" % (grid_result.best_score_, grid_result.best_params_))\n",
    "\n",
    "# report all configurations\n",
    "means = grid_result.cv_results_['mean_test_score']\n",
    "stds = grid_result.cv_results_['std_test_score']\n",
    "params = grid_result.cv_results_['params']\n",
    "for mean, stdev, param in zip(means, stds, params):\n",
    "    print(\"RECALL mean (stdev): %f (%f) - With: %r\" % (mean, stdev, param))"
   ]
  },
  {
   "cell_type": "code",
   "execution_count": null,
   "metadata": {},
   "outputs": [],
   "source": [
    "#Predict values based on new parameters\n",
    "y_pred_final = grid.predict(X_train)\n",
    "\n",
    "# New Model Evaluation metrics\n",
    "print('Custom Lost Function: $' + str(custom_loss(X_input=X_train, \n",
    "                                                  y_target=y_train, \n",
    "                                                  y_predict=y_pred_final)) )\n",
    "print('Accuracy Score : ' + str(accuracy_score(y_train,y_pred_final)))\n",
    "print('Precision Score : ' + str(precision_score(y_train,y_pred_final)))\n",
    "print('Recall Score : ' + str(recall_score(y_train,y_pred_final)))\n",
    "print('F1 Score : ' + str(f1_score(y_train,y_pred_final)))\n",
    "\n",
    "#Logistic Regression (Grid Search) Confusion matrix\n",
    "confusion_matrix(y_train,y_pred_final)\n",
    "\n",
    "# Final (Grid Search) Confusion Matrix on Training dataset\n",
    "conf_matrix_train = confusion_matrix(y_train, y_pred_final)\n",
    "print('Confusion Matrix:')\n",
    "print(conf_matrix_train)"
   ]
  },
  {
   "cell_type": "code",
   "execution_count": 72,
   "metadata": {},
   "outputs": [],
   "source": [
    "import itertools\n",
    "def plot_confusion_matrix(cm, classes,\n",
    "                          title='Confusion Matrix', \n",
    "                          cmap=plt.cm.Blues):\n",
    "    \"\"\"\n",
    "    This function prints and plots the confusion matrix.\n",
    "    \"\"\"\n",
    "    plt.imshow(cm, interpolation=\"nearest\", cmap=cmap)\n",
    "    plt.title(title)\n",
    "    plt.colorbar()\n",
    "    tick_marks = np.arange(len(classes))\n",
    "    plt.xticks(tick_marks, classes, rotation=45)\n",
    "    plt.yticks(tick_marks, classes)\n",
    "    \n",
    "    print(cm)\n",
    "    \n",
    "    thresh = cm.max() / 2.\n",
    "    for i,j in itertools.product(range(cm.shape[0]), range(cm.shape[1])):\n",
    "        plt.text(j,i,int(round(cm[i,j])),\n",
    "                horizontalalignment=\"center\",\n",
    "                color=\"white\" if cm[i,j] > thresh else \"black\")\n",
    "    \n",
    "    plt.tight_layout()\n",
    "    plt.ylabel('True label')\n",
    "    plt.xlabel('Predicted label')"
   ]
  },
  {
   "cell_type": "code",
   "execution_count": null,
   "metadata": {},
   "outputs": [],
   "source": [
    "# Plot Confusion Matrix in counts\n",
    "plt.figure() \n",
    "plot_confusion_matrix(conf_matrix_train, classes=['0:Good','1:Fraud'], \n",
    "                      title=\"Train Confusion Matrix, Counts\")\n",
    "plt.figure()\n",
    "#plt.show\n",
    "plt.savefig('conf_matrix_counts_train.png')\n",
    "\n",
    "# Plot Confusion Matrix in percents\n",
    "conf_matrix_train_percents = 100.0 * conf_matrix_train /float(len(y_train))\n",
    "plot_confusion_matrix(conf_matrix_train_percents, classes=['0:Good','1:Fraud'],\n",
    "                      title=\"Train Confusion Matrix, Percents\")\n",
    "plt.show\n",
    "plt.savefig('conf_matrix_prcnts_train.png')"
   ]
  },
  {
   "cell_type": "markdown",
   "metadata": {},
   "source": [
    "This is not a good confusion matrix, because there are ZERO TRUE NEGATIVES.\n",
    "\n",
    "Instead, let's try F_beta, because it takes into consideration both the Recall and Precision metrics.\n",
    "F_beta gives the weighted harmonic mean of precision and recall), and one can use a beta that gives more weight on the Recall...\n",
    "     \n",
    "     by picking a beta Value in the interval 1 < Beta < +∞\n",
    "\n",
    "    "
   ]
  },
  {
   "cell_type": "markdown",
   "metadata": {},
   "source": [
    "#### Grid Search with F_beta\n",
    "\n",
    "As Before, we will use repeated cross-validation to evaluate the model, with **3 repeats of 10-fold cross-validation**. \n",
    "\n",
    "The mode performance will be reported using the mean F_beta averaged over repeats and all folds."
   ]
  },
  {
   "cell_type": "code",
   "execution_count": 73,
   "metadata": {},
   "outputs": [],
   "source": [
    "from sklearn.metrics import fbeta_score\n",
    "# Use is as... f2_scorer = make_scorer(fbeta_score, beta=2)"
   ]
  },
  {
   "cell_type": "code",
   "execution_count": null,
   "metadata": {},
   "outputs": [],
   "source": [
    "# define model\n",
    "model_logistic_reg = LogisticRegression(solver='saga',  # For a faster solver, use 'saga' or 'sag' \n",
    "                                        penalty='l1')   # Use 'l1' for Ridge regularization, to make some coefficients zero\n",
    "\n",
    "# define grid\n",
    "balance = [{0:9.0, 1:91.0},\n",
    "           {0:0.55180025,1:5.32623169},\n",
    "           {0:100,1:1}, \n",
    "           {0:10,1:1}, \n",
    "           {0:1,1:1}, \n",
    "           {0:1,1:10}, \n",
    "           {0:1,1:100}]\n",
    "param_grid = dict(class_weight=balance)\n",
    "\n",
    "# define evaluation procedure\n",
    "cv = RepeatedStratifiedKFold(n_splits=10, n_repeats=3, random_state=1)\n",
    "\n",
    "# define grid search to output final model\n",
    "grid = GridSearchCV(estimator=model_logistic_reg, \n",
    "                    param_grid=param_grid, \n",
    "                    n_jobs=-1, # Number of jobs to run in parallel. None means 1 unless in a joblib.parallel_backend context. -1 means using all processors.\n",
    "                    cv=cv, scoring=make_scorer(fbeta_score, beta=2))\n",
    "                    \n",
    "# execute the grid search\n",
    "grid_result = grid.fit(X_train, y_train)\n",
    "# report the best configuration\n",
    "print(\"Best: %f using %s\" % (grid_result.best_score_, grid_result.best_params_))\n",
    "# report all configurations\n",
    "means = grid_result.cv_results_['mean_test_score']\n",
    "stds = grid_result.cv_results_['std_test_score']\n",
    "params = grid_result.cv_results_['params']\n",
    "for mean, stdev, param in zip(means, stds, params):\n",
    "    print(\"F_2 mean (stdev): %f (%f) - With: %r\" % (mean, stdev, param))"
   ]
  },
  {
   "cell_type": "code",
   "execution_count": null,
   "metadata": {},
   "outputs": [],
   "source": [
    "#Predict values based on new parameters\n",
    "y_pred_final = grid.predict(X_train)\n",
    "\n",
    "# New Model Evaluation metrics  \n",
    "print('Custom Lost Function: $' + str(custom_loss(X_input=X_train, \n",
    "                                                  y_target=y_train, \n",
    "                                                  y_predict=y_pred_final)) )\n",
    "print('Accuracy Score : ' + str(accuracy_score(y_train,y_pred_final)))\n",
    "print('Precision Score : ' + str(precision_score(y_train,y_pred_final)))\n",
    "print('Recall Score : ' + str(recall_score(y_train,y_pred_final)))\n",
    "print('F1 Score : ' + str(f1_score(y_train,y_pred_final)))\n",
    "\n",
    "#Logistic Regression (Grid Search) Confusion matrix\n",
    "confusion_matrix(y_train,y_pred_final)\n",
    "\n",
    "# Final (Grid Search) Confusion Matrix on Training dataset\n",
    "conf_matrix_train = confusion_matrix(y_train, y_pred_final)\n",
    "print('Confusion Matrix:')\n",
    "print(conf_matrix_train)"
   ]
  },
  {
   "cell_type": "code",
   "execution_count": null,
   "metadata": {},
   "outputs": [],
   "source": [
    "# Plot Confusion Matrix in counts\n",
    "plt.figure() \n",
    "plot_confusion_matrix(conf_matrix_train, classes=['0:Good','1:Fraud'], \n",
    "                      title=\"Train Confusion Matrix, Counts\")\n",
    "plt.figure()\n",
    "#plt.show\n",
    "plt.savefig('conf_matrix_counts_train.png')\n",
    "\n",
    "# Plot Confusion Matrix in percents\n",
    "conf_matrix_train_percents = 100.0 * conf_matrix_train /float(len(y_train))\n",
    "plot_confusion_matrix(conf_matrix_train_percents, classes=['0:Good','1:Fraud'],\n",
    "                      title=\"Train Confusion Matrix, Percents\")\n",
    "plt.show\n",
    "plt.savefig('conf_matrix_prcnts_train.png')"
   ]
  },
  {
   "cell_type": "markdown",
   "metadata": {},
   "source": [
    "This reduced the Custom Lost Function, but the False Positives are still too high, can we do it better?"
   ]
  },
  {
   "cell_type": "markdown",
   "metadata": {},
   "source": [
    "#### Future Work -- Grid Search with Custom Lost Function\n",
    "\n",
    "As Before, we will use repeated cross-validation to evaluate the model, with three repeats of 10-fold cross-validation. \n",
    "\n",
    "The mode performance will be reported using the mean Custom Lost Function averaged over repeats and all folds.\n",
    "\n",
    "However, that scoring requires 3 input arguments instead of the 2 given on grid search, and that is giving the following error message:\n",
    "\n",
    "    TypeError: custom_loss() missing 1 required positional argument: 'y_predict'\n",
    "    \n",
    "Thus, we will stay with the model optimized for the F2 metric as the final Logistic Regression model."
   ]
  },
  {
   "cell_type": "markdown",
   "metadata": {},
   "source": [
    "        # define model\n",
    "        model_logistic_reg = LogisticRegression(solver='lbfgs')\n",
    "        # define grid\n",
    "        balance = [{0:9.0, 1:91.0},\n",
    "                   {0:0.55180025,1:5.32623169},\n",
    "                   {0:100,1:1}, \n",
    "                   {0:10,1:1}, \n",
    "                   {0:1,1:1}, \n",
    "                   {0:1,1:10}, \n",
    "                   {0:1,1:100}]\n",
    "        param_grid = dict(class_weight=balance)\n",
    "\n",
    "        # define evaluation procedure\n",
    "        cv = RepeatedStratifiedKFold(n_splits=10, n_repeats=3, random_state=1)\n",
    "\n",
    "        # define grid search to output final model\n",
    "        grid = GridSearchCV(estimator=model_logistic_reg, \n",
    "                            param_grid=param_grid, \n",
    "                            n_jobs=-1, \n",
    "                            cv=cv, # y_target, y_predict, X_input\n",
    "                            scoring=make_scorer(custom_loss, \n",
    "                                                y_target=y_train,\n",
    "                                                X_input=X_train, \n",
    "                                                y_predict = ???,  # THIS REQUIRES THE PREDICTED VALUES [e.g., grid.fit(X_train, y_train)], WHICH I DON'T NOW YET HOW TO PASS IT\n",
    "                                                greater_is_better=False) \n",
    "                           )\n",
    "\n",
    "        # execute the grid search\n",
    "        grid_result = grid.fit(X_train, y_train)\n",
    "\n",
    "        # report the best configuration\n",
    "        print(\"Best: %f using %s\" % (grid_result.best_score_, grid_result.best_params_))\n",
    "\n",
    "        # report all configurations\n",
    "        means = grid_result.cv_results_['mean_test_score']\n",
    "        stds = grid_result.cv_results_['std_test_score']\n",
    "        params = grid_result.cv_results_['params']\n",
    "        for mean, stdev, param in zip(means, stds, params):\n",
    "            print(\"CUSTOM LOST FUNCTION mean (stdev): %f (%f) - With: %r\" % (mean, stdev, param))"
   ]
  },
  {
   "cell_type": "markdown",
   "metadata": {},
   "source": [
    "### Deploy model"
   ]
  },
  {
   "cell_type": "code",
   "execution_count": null,
   "metadata": {},
   "outputs": [],
   "source": [
    "#print(list(zip(grid.coef_, grid_features)))\n",
    "print(X_train.shape, grid_result.best_estimator_.coef_.shape)\n",
    "\n",
    "print(TARGET+' =')\n",
    "for i in range(X_train.shape[1]):\n",
    "    print( grid_result.best_estimator_.coef_[0][i],'*',X_train.columns[i] )\n",
    "    if i != X_train.shape[1]:\n",
    "        print('+')"
   ]
  },
  {
   "cell_type": "code",
   "execution_count": null,
   "metadata": {},
   "outputs": [],
   "source": [
    "import pickle\n",
    "\n",
    "pickle.dump(grid, open(\"fraud_model_logisticRegression.sav\", 'wb'))"
   ]
  },
  {
   "cell_type": "markdown",
   "metadata": {},
   "source": [
    "To deploy the model, later on, just run on Python the following...\n",
    "\n",
    "    loaded_model = pickle.load(open(filename_model, 'rb'))\n",
    "    result = loaded_model.score(X_test, y_test)\n",
    "    print(result)"
   ]
  }
 ],
 "metadata": {
  "kernelspec": {
   "display_name": "Python 3",
   "language": "python",
   "name": "python3"
  },
  "language_info": {
   "codemirror_mode": {
    "name": "ipython",
    "version": 3
   },
   "file_extension": ".py",
   "mimetype": "text/x-python",
   "name": "python",
   "nbconvert_exporter": "python",
   "pygments_lexer": "ipython3",
   "version": "3.6.7"
  }
 },
 "nbformat": 4,
 "nbformat_minor": 2
}
