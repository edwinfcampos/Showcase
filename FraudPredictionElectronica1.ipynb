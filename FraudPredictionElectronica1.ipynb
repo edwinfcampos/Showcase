{
 "cells": [
  {
   "cell_type": "markdown",
   "metadata": {},
   "source": [
    "# Fraud Prediction at Electronica \n",
    "## Part 1: Detailed Feature Engineering and Logistic Regression Algorithm\n",
    "\n",
    "\n",
    "This outputs a machine learning model that predicts the probability \n",
    "that the first transaction of a new user is fraudulent.\n",
    "\n",
    "If you fail to identify a fraudulent transaction, \n",
    "Electronica loses money equivalent to the price of the fraudulently purchased product. \n",
    "\n",
    "If you incorrectly flag a real transaction as fraudulent, \n",
    "it inconveniences the Electronica customers whose valid transactions are flagged—a cost your client values at $8.\n",
    "\n",
    "    Created by Edwin Campos on 2020 Feb.16\n",
    "    Last modification on 2020 Feb.17 by ecampos.phd@gmail.com\n"
   ]
  },
  {
   "cell_type": "code",
   "execution_count": 1,
   "metadata": {},
   "outputs": [
    {
     "name": "stdout",
     "output_type": "stream",
     "text": [
      "Once deleted, variables cannot be recovered. Proceed (y/[n])? y\n"
     ]
    }
   ],
   "source": [
    "# Clean the memory\n",
    "%reset -s"
   ]
  },
  {
   "cell_type": "code",
   "execution_count": 2,
   "metadata": {},
   "outputs": [],
   "source": [
    "# Dependencies\n",
    "import pandas as pd\n",
    "import datetime as dt\n",
    "import seaborn as sns\n",
    "import matplotlib.pyplot as plt"
   ]
  },
  {
   "cell_type": "code",
   "execution_count": 3,
   "metadata": {},
   "outputs": [],
   "source": [
    "# Global Variables\n",
    "INPUT_PATH = '/Users/ecampos/AnacondaProjects/DS-Fraud-Univar/Fraud - For Candidate/Fraud - For Candidate/'\n",
    "INPUT_FILE = 'fraud.csv'\n",
    "TARGET = 'class'   # Column in dataframe with target values, Fraud:1, Good:0"
   ]
  },
  {
   "cell_type": "code",
   "execution_count": 4,
   "metadata": {},
   "outputs": [
    {
     "name": "stderr",
     "output_type": "stream",
     "text": [
      "/Applications/anaconda/envs/Python3/lib/python3.6/site-packages/IPython/core/interactiveshell.py:3020: DtypeWarning: Columns (4) have mixed types. Specify dtype option on import or set low_memory=False.\n",
      "  interactivity=interactivity, compiler=compiler, result=result)\n"
     ]
    }
   ],
   "source": [
    "# Ingest Input dataset\n",
    "df_all=pd.read_csv(INPUT_PATH+INPUT_FILE)"
   ]
  },
  {
   "cell_type": "code",
   "execution_count": 5,
   "metadata": {},
   "outputs": [
    {
     "name": "stdout",
     "output_type": "stream",
     "text": [
      "(120000, 12)\n"
     ]
    },
    {
     "data": {
      "text/html": [
       "<div>\n",
       "<style scoped>\n",
       "    .dataframe tbody tr th:only-of-type {\n",
       "        vertical-align: middle;\n",
       "    }\n",
       "\n",
       "    .dataframe tbody tr th {\n",
       "        vertical-align: top;\n",
       "    }\n",
       "\n",
       "    .dataframe thead th {\n",
       "        text-align: right;\n",
       "    }\n",
       "</style>\n",
       "<table border=\"1\" class=\"dataframe\">\n",
       "  <thead>\n",
       "    <tr style=\"text-align: right;\">\n",
       "      <th></th>\n",
       "      <th>Unnamed: 0</th>\n",
       "      <th>user_id</th>\n",
       "      <th>signup_time</th>\n",
       "      <th>purchase_time</th>\n",
       "      <th>purchase_value</th>\n",
       "      <th>device_id</th>\n",
       "      <th>source</th>\n",
       "      <th>browser</th>\n",
       "      <th>sex</th>\n",
       "      <th>age</th>\n",
       "      <th>ip_address</th>\n",
       "      <th>class</th>\n",
       "    </tr>\n",
       "  </thead>\n",
       "  <tbody>\n",
       "    <tr>\n",
       "      <th>0</th>\n",
       "      <td>149671</td>\n",
       "      <td>285108</td>\n",
       "      <td>7/15/2015 4:36</td>\n",
       "      <td>9/10/2015 14:17</td>\n",
       "      <td>31</td>\n",
       "      <td>HZAKVUFTDOSFD</td>\n",
       "      <td>Direct</td>\n",
       "      <td>Chrome</td>\n",
       "      <td>M</td>\n",
       "      <td>49</td>\n",
       "      <td>2.818400e+09</td>\n",
       "      <td>0</td>\n",
       "    </tr>\n",
       "    <tr>\n",
       "      <th>1</th>\n",
       "      <td>15611</td>\n",
       "      <td>131009</td>\n",
       "      <td>1/24/2015 12:29</td>\n",
       "      <td>4/13/2015 4:53</td>\n",
       "      <td>31</td>\n",
       "      <td>XGQAJSOUJIZCC</td>\n",
       "      <td>SEO</td>\n",
       "      <td>IE</td>\n",
       "      <td>F</td>\n",
       "      <td>21</td>\n",
       "      <td>3.251268e+09</td>\n",
       "      <td>0</td>\n",
       "    </tr>\n",
       "    <tr>\n",
       "      <th>2</th>\n",
       "      <td>73178</td>\n",
       "      <td>328855</td>\n",
       "      <td>3/11/2015 0:54</td>\n",
       "      <td>4/5/2015 12:23</td>\n",
       "      <td>16</td>\n",
       "      <td>VCCTAYDCWKZIY</td>\n",
       "      <td>Direct</td>\n",
       "      <td>IE</td>\n",
       "      <td>M</td>\n",
       "      <td>26</td>\n",
       "      <td>2.727760e+09</td>\n",
       "      <td>0</td>\n",
       "    </tr>\n",
       "    <tr>\n",
       "      <th>3</th>\n",
       "      <td>84546</td>\n",
       "      <td>229053</td>\n",
       "      <td>1/7/2015 13:19</td>\n",
       "      <td>1/9/2015 10:12</td>\n",
       "      <td>29</td>\n",
       "      <td>MFFIHYNXCJLEY</td>\n",
       "      <td>SEO</td>\n",
       "      <td>Chrome</td>\n",
       "      <td>M</td>\n",
       "      <td>34</td>\n",
       "      <td>2.083420e+09</td>\n",
       "      <td>0</td>\n",
       "    </tr>\n",
       "    <tr>\n",
       "      <th>4</th>\n",
       "      <td>35978</td>\n",
       "      <td>108439</td>\n",
       "      <td>2/8/2015 21:11</td>\n",
       "      <td>4/9/2015 14:26</td>\n",
       "      <td>26</td>\n",
       "      <td>WMSXWGVPNIFBM</td>\n",
       "      <td>Ads</td>\n",
       "      <td>FireFox</td>\n",
       "      <td>M</td>\n",
       "      <td>33</td>\n",
       "      <td>3.207913e+09</td>\n",
       "      <td>0</td>\n",
       "    </tr>\n",
       "  </tbody>\n",
       "</table>\n",
       "</div>"
      ],
      "text/plain": [
       "   Unnamed: 0  user_id      signup_time    purchase_time purchase_value  \\\n",
       "0      149671   285108   7/15/2015 4:36  9/10/2015 14:17             31   \n",
       "1       15611   131009  1/24/2015 12:29   4/13/2015 4:53             31   \n",
       "2       73178   328855   3/11/2015 0:54   4/5/2015 12:23             16   \n",
       "3       84546   229053   1/7/2015 13:19   1/9/2015 10:12             29   \n",
       "4       35978   108439   2/8/2015 21:11   4/9/2015 14:26             26   \n",
       "\n",
       "       device_id  source  browser sex  age    ip_address  class  \n",
       "0  HZAKVUFTDOSFD  Direct   Chrome   M   49  2.818400e+09      0  \n",
       "1  XGQAJSOUJIZCC     SEO       IE   F   21  3.251268e+09      0  \n",
       "2  VCCTAYDCWKZIY  Direct       IE   M   26  2.727760e+09      0  \n",
       "3  MFFIHYNXCJLEY     SEO   Chrome   M   34  2.083420e+09      0  \n",
       "4  WMSXWGVPNIFBM     Ads  FireFox   M   33  3.207913e+09      0  "
      ]
     },
     "execution_count": 5,
     "metadata": {},
     "output_type": "execute_result"
    }
   ],
   "source": [
    "print(df_all.shape)\n",
    "df_all.head()"
   ]
  },
  {
   "cell_type": "markdown",
   "metadata": {},
   "source": [
    "## Feature Engeneering"
   ]
  },
  {
   "cell_type": "markdown",
   "metadata": {},
   "source": [
    "### Do we have columns with too many missing values?"
   ]
  },
  {
   "cell_type": "code",
   "execution_count": 6,
   "metadata": {},
   "outputs": [
    {
     "name": "stdout",
     "output_type": "stream",
     "text": [
      "% of missing observations:\n",
      "Unnamed: 0        0.0\n",
      "user_id           0.0\n",
      "signup_time       0.0\n",
      "purchase_time     0.0\n",
      "purchase_value    0.0\n",
      "device_id         0.0\n",
      "source            0.0\n",
      "browser           0.0\n",
      "sex               0.0\n",
      "age               0.0\n",
      "ip_address        0.0\n",
      "class             0.0\n",
      "dtype: float64\n"
     ]
    }
   ],
   "source": [
    "# Get rid of columns with too little values\n",
    "print(\"% of missing observations:\")\n",
    "print(df_all.isnull().mean()*100)"
   ]
  },
  {
   "cell_type": "markdown",
   "metadata": {},
   "source": [
    "Good! There are no missing values."
   ]
  },
  {
   "cell_type": "markdown",
   "metadata": {},
   "source": [
    "### Are there repeated values for user_id?\n",
    "If so, that would mean that we are getting transactions other than the first one, which we cannot use in the model.\n",
    "\n",
    "Recall that we should only have information about each user’s first transaction on Electronica’s website."
   ]
  },
  {
   "cell_type": "code",
   "execution_count": 7,
   "metadata": {},
   "outputs": [
    {
     "name": "stdout",
     "output_type": "stream",
     "text": [
      "Duplicate Rows based on user_id column are:\n",
      "Empty DataFrame\n",
      "Columns: [Unnamed: 0, user_id, signup_time, purchase_time, purchase_value, device_id, source, browser, sex, age, ip_address, class]\n",
      "Index: []\n"
     ]
    }
   ],
   "source": [
    "# Select all duplicate rows based on one column\n",
    "df_duplicate_user_id = df_all[df_all.duplicated(['user_id'])]\n",
    "print(\"Duplicate Rows based on user_id column are:\", df_duplicate_user_id, sep='\\n')"
   ]
  },
  {
   "cell_type": "markdown",
   "metadata": {},
   "source": [
    "Good! There are no duplicated user_id values."
   ]
  },
  {
   "cell_type": "markdown",
   "metadata": {},
   "source": [
    "### Handle Non-Numeric values"
   ]
  },
  {
   "cell_type": "code",
   "execution_count": 8,
   "metadata": {},
   "outputs": [
    {
     "data": {
      "text/plain": [
       "Unnamed: 0          int64\n",
       "user_id             int64\n",
       "signup_time        object\n",
       "purchase_time      object\n",
       "purchase_value     object\n",
       "device_id          object\n",
       "source             object\n",
       "browser            object\n",
       "sex                object\n",
       "age                 int64\n",
       "ip_address        float64\n",
       "class               int64\n",
       "dtype: object"
      ]
     },
     "execution_count": 8,
     "metadata": {},
     "output_type": "execute_result"
    }
   ],
   "source": [
    "df_all.dtypes"
   ]
  },
  {
   "cell_type": "markdown",
   "metadata": {},
   "source": [
    "#### Convert from Dates and Times into Seconds since Epoch"
   ]
  },
  {
   "cell_type": "code",
   "execution_count": 9,
   "metadata": {},
   "outputs": [],
   "source": [
    "df_all['signup_datetime'] = pd.to_datetime(df_all['signup_time'])\n",
    "df_all['signup_epoch'] = (df_all['signup_datetime'] - dt.datetime(1970,1,1)).dt.total_seconds()"
   ]
  },
  {
   "cell_type": "code",
   "execution_count": 10,
   "metadata": {},
   "outputs": [],
   "source": [
    "df_all['purchase_datetime'] = pd.to_datetime(df_all['purchase_time'])\n",
    "df_all['purchase_epoch'] = (df_all['purchase_datetime']  - dt.datetime(1970,1,1)).dt.total_seconds()"
   ]
  },
  {
   "cell_type": "markdown",
   "metadata": {},
   "source": [
    "#### Create new column features for days of week and period between signup and first purchase"
   ]
  },
  {
   "cell_type": "code",
   "execution_count": 11,
   "metadata": {},
   "outputs": [],
   "source": [
    "# days_name = {0:'Mon',1:'Tues',2:'Weds',3:'Thurs',4:'Fri',5:'Sat',6:'Sun'}\n",
    "df_all['signup_dayofweek'] = df_all['signup_datetime'].dt.dayofweek\n",
    "df_all['purchase_dayofweek'] = df_all['purchase_datetime'].dt.dayofweek\n",
    "df_all[\"purchase_signup_epoch\"] = (df_all['purchase_epoch'] - df_all['signup_epoch'])"
   ]
  },
  {
   "cell_type": "code",
   "execution_count": 12,
   "metadata": {},
   "outputs": [
    {
     "name": "stdout",
     "output_type": "stream",
     "text": [
      "          my_dates   my_dates_datetime  dayofweek dayname\n",
      "0  2/16/2020 12:23 2020-02-16 12:23:00          6  Sunday\n",
      "1   2/21/2020 4:36 2020-02-21 04:36:00          4  Friday\n"
     ]
    }
   ],
   "source": [
    "# Unit test\n",
    "df_t = pd.DataFrame({ 'my_dates':['2/16/2020 12:23','2/21/2020 4:36'] })\n",
    "df_t['my_dates_datetime'] = pd.to_datetime(df_t['my_dates'])\n",
    "df_t['dayofweek'] = df_t['my_dates_datetime'].dt.dayofweek\n",
    "df_t['dayname'] = df_t['my_dates_datetime'].dt.weekday_name\n",
    "print(df_t.head() )"
   ]
  },
  {
   "cell_type": "markdown",
   "metadata": {},
   "source": [
    "#### Convert to purchase_value and age into numeric type"
   ]
  },
  {
   "cell_type": "code",
   "execution_count": 13,
   "metadata": {},
   "outputs": [],
   "source": [
    "# Removing Non-Word Characters (% @ \" ? % $) using Regular Expressions\n",
    "# One can group multiple patterns to match or substitute in a string using the square bracket. \n",
    "df_all['purchase_value_numeric'] = df_all['purchase_value'].replace(r\"[@\\'?\\$%_]\", \"\", regex=True).apply(pd.to_numeric, errors='raise')"
   ]
  },
  {
   "cell_type": "code",
   "execution_count": 14,
   "metadata": {},
   "outputs": [
    {
     "name": "stdout",
     "output_type": "stream",
     "text": [
      "Input data:  $77  32\n",
      "Output data:  77 32\n",
      "Correct answer: 77  32\n"
     ]
    }
   ],
   "source": [
    "# Unit test\n",
    "print('Input data: ', \n",
    "      df_all.purchase_value[586], \n",
    "      df_all.purchase_value[119999])\n",
    "print('Output data: ',\n",
    "      df_all.purchase_value_numeric[586], \n",
    "      df_all.purchase_value_numeric[119999])\n",
    "print('Correct answer: 77  32')"
   ]
  },
  {
   "cell_type": "markdown",
   "metadata": {},
   "source": [
    "#### Apply One-Hot-Encoding to columns source, browser, and sex"
   ]
  },
  {
   "cell_type": "code",
   "execution_count": 15,
   "metadata": {},
   "outputs": [],
   "source": [
    "# It's most common to one-hot encode these \"object\" columns, since they can't be plugged directly into most models. \n",
    "# Pandas offers a convenient function called get_dummies to get one-hot encodings.\n",
    "onehotencoding_columns = ['source', 'browser', 'sex']  # On column 'source', SEO corresponds to Search Engine Optimization\n",
    "for col in onehotencoding_columns:\n",
    "    df_dummies = pd.get_dummies(df_all[col], prefix = 'category')\n",
    "    df_all = pd.concat([df_all, df_dummies], axis=1)"
   ]
  },
  {
   "cell_type": "markdown",
   "metadata": {},
   "source": [
    "#### Convert ip_address into country and then into classes (with one-hot-encoding)"
   ]
  },
  {
   "cell_type": "code",
   "execution_count": null,
   "metadata": {},
   "outputs": [],
   "source": []
  },
  {
   "cell_type": "code",
   "execution_count": 16,
   "metadata": {},
   "outputs": [
    {
     "data": {
      "text/plain": [
       "Unnamed: 0                         int64\n",
       "user_id                            int64\n",
       "signup_time                       object\n",
       "purchase_time                     object\n",
       "purchase_value                    object\n",
       "device_id                         object\n",
       "source                            object\n",
       "browser                           object\n",
       "sex                               object\n",
       "age                                int64\n",
       "ip_address                       float64\n",
       "class                              int64\n",
       "signup_datetime           datetime64[ns]\n",
       "signup_epoch                     float64\n",
       "purchase_datetime         datetime64[ns]\n",
       "purchase_epoch                   float64\n",
       "signup_dayofweek                   int64\n",
       "purchase_dayofweek                 int64\n",
       "purchase_signup_epoch            float64\n",
       "purchase_value_numeric             int64\n",
       "category_Ads                       uint8\n",
       "category_Direct                    uint8\n",
       "category_SEO                       uint8\n",
       "category_Chr0me                    uint8\n",
       "category_Chrome                    uint8\n",
       "category_FireFox                   uint8\n",
       "category_IE                        uint8\n",
       "category_Opera                     uint8\n",
       "category_Safari                    uint8\n",
       "category_F                         uint8\n",
       "category_M                         uint8\n",
       "dtype: object"
      ]
     },
     "execution_count": 16,
     "metadata": {},
     "output_type": "execute_result"
    }
   ],
   "source": [
    "df_all.dtypes"
   ]
  },
  {
   "cell_type": "markdown",
   "metadata": {},
   "source": [
    "#### Identify features and target columns"
   ]
  },
  {
   "cell_type": "code",
   "execution_count": 17,
   "metadata": {},
   "outputs": [
    {
     "name": "stdout",
     "output_type": "stream",
     "text": [
      "Model Features: ['Unnamed: 0', 'user_id', 'age', 'ip_address', 'signup_epoch', 'purchase_epoch', 'signup_dayofweek', 'purchase_dayofweek', 'purchase_signup_epoch', 'purchase_value_numeric', 'category_Ads', 'category_Direct', 'category_SEO', 'category_Chr0me', 'category_Chrome', 'category_FireFox', 'category_IE', 'category_Opera', 'category_Safari', 'category_F', 'category_M']\n",
      "Model Target: class\n"
     ]
    }
   ],
   "source": [
    "unwanted_columns = ['signup_time', 'purchase_time',\n",
    "                    'purchase_value', 'device_id', \n",
    "                    'source', 'browser','sex',\n",
    "                    'signup_datetime', 'purchase_datetime']\n",
    "unwanted_columns.append(TARGET)\n",
    "feature_columns =[x for x in df_all.columns if x not in unwanted_columns]\n",
    "X_train = df_all[feature_columns]\n",
    "y_train = df_all[TARGET]\n",
    "print('Model Features:', feature_columns)\n",
    "print('Model Target:', TARGET)"
   ]
  },
  {
   "cell_type": "code",
   "execution_count": 18,
   "metadata": {},
   "outputs": [
    {
     "name": "stdout",
     "output_type": "stream",
     "text": [
      "(120000, 21)\n"
     ]
    },
    {
     "data": {
      "text/html": [
       "<div>\n",
       "<style scoped>\n",
       "    .dataframe tbody tr th:only-of-type {\n",
       "        vertical-align: middle;\n",
       "    }\n",
       "\n",
       "    .dataframe tbody tr th {\n",
       "        vertical-align: top;\n",
       "    }\n",
       "\n",
       "    .dataframe thead th {\n",
       "        text-align: right;\n",
       "    }\n",
       "</style>\n",
       "<table border=\"1\" class=\"dataframe\">\n",
       "  <thead>\n",
       "    <tr style=\"text-align: right;\">\n",
       "      <th></th>\n",
       "      <th>Unnamed: 0</th>\n",
       "      <th>user_id</th>\n",
       "      <th>age</th>\n",
       "      <th>ip_address</th>\n",
       "      <th>signup_epoch</th>\n",
       "      <th>purchase_epoch</th>\n",
       "      <th>signup_dayofweek</th>\n",
       "      <th>purchase_dayofweek</th>\n",
       "      <th>purchase_signup_epoch</th>\n",
       "      <th>purchase_value_numeric</th>\n",
       "      <th>...</th>\n",
       "      <th>category_Direct</th>\n",
       "      <th>category_SEO</th>\n",
       "      <th>category_Chr0me</th>\n",
       "      <th>category_Chrome</th>\n",
       "      <th>category_FireFox</th>\n",
       "      <th>category_IE</th>\n",
       "      <th>category_Opera</th>\n",
       "      <th>category_Safari</th>\n",
       "      <th>category_F</th>\n",
       "      <th>category_M</th>\n",
       "    </tr>\n",
       "  </thead>\n",
       "  <tbody>\n",
       "    <tr>\n",
       "      <th>count</th>\n",
       "      <td>120000.000000</td>\n",
       "      <td>120000.000000</td>\n",
       "      <td>120000.000000</td>\n",
       "      <td>1.200000e+05</td>\n",
       "      <td>1.200000e+05</td>\n",
       "      <td>1.200000e+05</td>\n",
       "      <td>120000.000000</td>\n",
       "      <td>120000.000000</td>\n",
       "      <td>1.200000e+05</td>\n",
       "      <td>120000.000000</td>\n",
       "      <td>...</td>\n",
       "      <td>120000.000000</td>\n",
       "      <td>120000.000000</td>\n",
       "      <td>120000.000000</td>\n",
       "      <td>120000.000000</td>\n",
       "      <td>120000.000000</td>\n",
       "      <td>120000.000000</td>\n",
       "      <td>120000.000000</td>\n",
       "      <td>120000.000000</td>\n",
       "      <td>120000.000000</td>\n",
       "      <td>120000.000000</td>\n",
       "    </tr>\n",
       "    <tr>\n",
       "      <th>mean</th>\n",
       "      <td>75639.133600</td>\n",
       "      <td>200320.280100</td>\n",
       "      <td>33.125250</td>\n",
       "      <td>2.151550e+09</td>\n",
       "      <td>1.429498e+09</td>\n",
       "      <td>1.434431e+09</td>\n",
       "      <td>3.023633</td>\n",
       "      <td>3.016808</td>\n",
       "      <td>4.933112e+06</td>\n",
       "      <td>36.881475</td>\n",
       "      <td>...</td>\n",
       "      <td>0.202017</td>\n",
       "      <td>0.402475</td>\n",
       "      <td>0.000025</td>\n",
       "      <td>0.405408</td>\n",
       "      <td>0.163458</td>\n",
       "      <td>0.242817</td>\n",
       "      <td>0.024792</td>\n",
       "      <td>0.163500</td>\n",
       "      <td>0.415617</td>\n",
       "      <td>0.584383</td>\n",
       "    </tr>\n",
       "    <tr>\n",
       "      <th>std</th>\n",
       "      <td>43619.702878</td>\n",
       "      <td>115361.945935</td>\n",
       "      <td>8.617081</td>\n",
       "      <td>1.248314e+09</td>\n",
       "      <td>5.927233e+06</td>\n",
       "      <td>7.040612e+06</td>\n",
       "      <td>2.006533</td>\n",
       "      <td>2.006733</td>\n",
       "      <td>3.127784e+06</td>\n",
       "      <td>18.325855</td>\n",
       "      <td>...</td>\n",
       "      <td>0.401506</td>\n",
       "      <td>0.490399</td>\n",
       "      <td>0.005000</td>\n",
       "      <td>0.490973</td>\n",
       "      <td>0.369785</td>\n",
       "      <td>0.428787</td>\n",
       "      <td>0.155490</td>\n",
       "      <td>0.369823</td>\n",
       "      <td>0.492830</td>\n",
       "      <td>0.492830</td>\n",
       "    </tr>\n",
       "    <tr>\n",
       "      <th>min</th>\n",
       "      <td>1.000000</td>\n",
       "      <td>2.000000</td>\n",
       "      <td>18.000000</td>\n",
       "      <td>9.344714e+04</td>\n",
       "      <td>1.420070e+09</td>\n",
       "      <td>1.420070e+09</td>\n",
       "      <td>0.000000</td>\n",
       "      <td>0.000000</td>\n",
       "      <td>0.000000e+00</td>\n",
       "      <td>9.000000</td>\n",
       "      <td>...</td>\n",
       "      <td>0.000000</td>\n",
       "      <td>0.000000</td>\n",
       "      <td>0.000000</td>\n",
       "      <td>0.000000</td>\n",
       "      <td>0.000000</td>\n",
       "      <td>0.000000</td>\n",
       "      <td>0.000000</td>\n",
       "      <td>0.000000</td>\n",
       "      <td>0.000000</td>\n",
       "      <td>0.000000</td>\n",
       "    </tr>\n",
       "    <tr>\n",
       "      <th>25%</th>\n",
       "      <td>37867.750000</td>\n",
       "      <td>100925.500000</td>\n",
       "      <td>27.000000</td>\n",
       "      <td>1.085345e+09</td>\n",
       "      <td>1.424273e+09</td>\n",
       "      <td>1.429372e+09</td>\n",
       "      <td>1.000000</td>\n",
       "      <td>1.000000</td>\n",
       "      <td>2.188140e+06</td>\n",
       "      <td>22.000000</td>\n",
       "      <td>...</td>\n",
       "      <td>0.000000</td>\n",
       "      <td>0.000000</td>\n",
       "      <td>0.000000</td>\n",
       "      <td>0.000000</td>\n",
       "      <td>0.000000</td>\n",
       "      <td>0.000000</td>\n",
       "      <td>0.000000</td>\n",
       "      <td>0.000000</td>\n",
       "      <td>0.000000</td>\n",
       "      <td>0.000000</td>\n",
       "    </tr>\n",
       "    <tr>\n",
       "      <th>50%</th>\n",
       "      <td>75703.000000</td>\n",
       "      <td>200037.500000</td>\n",
       "      <td>33.000000</td>\n",
       "      <td>2.155238e+09</td>\n",
       "      <td>1.429422e+09</td>\n",
       "      <td>1.434642e+09</td>\n",
       "      <td>3.000000</td>\n",
       "      <td>3.000000</td>\n",
       "      <td>4.924380e+06</td>\n",
       "      <td>34.000000</td>\n",
       "      <td>...</td>\n",
       "      <td>0.000000</td>\n",
       "      <td>0.000000</td>\n",
       "      <td>0.000000</td>\n",
       "      <td>0.000000</td>\n",
       "      <td>0.000000</td>\n",
       "      <td>0.000000</td>\n",
       "      <td>0.000000</td>\n",
       "      <td>0.000000</td>\n",
       "      <td>0.000000</td>\n",
       "      <td>1.000000</td>\n",
       "    </tr>\n",
       "    <tr>\n",
       "      <th>75%</th>\n",
       "      <td>113417.250000</td>\n",
       "      <td>300395.500000</td>\n",
       "      <td>39.000000</td>\n",
       "      <td>3.241268e+09</td>\n",
       "      <td>1.434638e+09</td>\n",
       "      <td>1.439840e+09</td>\n",
       "      <td>5.000000</td>\n",
       "      <td>5.000000</td>\n",
       "      <td>7.648215e+06</td>\n",
       "      <td>49.000000</td>\n",
       "      <td>...</td>\n",
       "      <td>0.000000</td>\n",
       "      <td>1.000000</td>\n",
       "      <td>0.000000</td>\n",
       "      <td>1.000000</td>\n",
       "      <td>0.000000</td>\n",
       "      <td>0.000000</td>\n",
       "      <td>0.000000</td>\n",
       "      <td>0.000000</td>\n",
       "      <td>1.000000</td>\n",
       "      <td>1.000000</td>\n",
       "    </tr>\n",
       "    <tr>\n",
       "      <th>max</th>\n",
       "      <td>151112.000000</td>\n",
       "      <td>400000.000000</td>\n",
       "      <td>76.000000</td>\n",
       "      <td>4.294850e+09</td>\n",
       "      <td>1.439872e+09</td>\n",
       "      <td>1.450235e+09</td>\n",
       "      <td>6.000000</td>\n",
       "      <td>6.000000</td>\n",
       "      <td>1.036794e+07</td>\n",
       "      <td>154.000000</td>\n",
       "      <td>...</td>\n",
       "      <td>1.000000</td>\n",
       "      <td>1.000000</td>\n",
       "      <td>1.000000</td>\n",
       "      <td>1.000000</td>\n",
       "      <td>1.000000</td>\n",
       "      <td>1.000000</td>\n",
       "      <td>1.000000</td>\n",
       "      <td>1.000000</td>\n",
       "      <td>1.000000</td>\n",
       "      <td>1.000000</td>\n",
       "    </tr>\n",
       "  </tbody>\n",
       "</table>\n",
       "<p>8 rows × 21 columns</p>\n",
       "</div>"
      ],
      "text/plain": [
       "          Unnamed: 0        user_id            age    ip_address  \\\n",
       "count  120000.000000  120000.000000  120000.000000  1.200000e+05   \n",
       "mean    75639.133600  200320.280100      33.125250  2.151550e+09   \n",
       "std     43619.702878  115361.945935       8.617081  1.248314e+09   \n",
       "min         1.000000       2.000000      18.000000  9.344714e+04   \n",
       "25%     37867.750000  100925.500000      27.000000  1.085345e+09   \n",
       "50%     75703.000000  200037.500000      33.000000  2.155238e+09   \n",
       "75%    113417.250000  300395.500000      39.000000  3.241268e+09   \n",
       "max    151112.000000  400000.000000      76.000000  4.294850e+09   \n",
       "\n",
       "       signup_epoch  purchase_epoch  signup_dayofweek  purchase_dayofweek  \\\n",
       "count  1.200000e+05    1.200000e+05     120000.000000       120000.000000   \n",
       "mean   1.429498e+09    1.434431e+09          3.023633            3.016808   \n",
       "std    5.927233e+06    7.040612e+06          2.006533            2.006733   \n",
       "min    1.420070e+09    1.420070e+09          0.000000            0.000000   \n",
       "25%    1.424273e+09    1.429372e+09          1.000000            1.000000   \n",
       "50%    1.429422e+09    1.434642e+09          3.000000            3.000000   \n",
       "75%    1.434638e+09    1.439840e+09          5.000000            5.000000   \n",
       "max    1.439872e+09    1.450235e+09          6.000000            6.000000   \n",
       "\n",
       "       purchase_signup_epoch  purchase_value_numeric      ...        \\\n",
       "count           1.200000e+05           120000.000000      ...         \n",
       "mean            4.933112e+06               36.881475      ...         \n",
       "std             3.127784e+06               18.325855      ...         \n",
       "min             0.000000e+00                9.000000      ...         \n",
       "25%             2.188140e+06               22.000000      ...         \n",
       "50%             4.924380e+06               34.000000      ...         \n",
       "75%             7.648215e+06               49.000000      ...         \n",
       "max             1.036794e+07              154.000000      ...         \n",
       "\n",
       "       category_Direct   category_SEO  category_Chr0me  category_Chrome  \\\n",
       "count    120000.000000  120000.000000    120000.000000    120000.000000   \n",
       "mean          0.202017       0.402475         0.000025         0.405408   \n",
       "std           0.401506       0.490399         0.005000         0.490973   \n",
       "min           0.000000       0.000000         0.000000         0.000000   \n",
       "25%           0.000000       0.000000         0.000000         0.000000   \n",
       "50%           0.000000       0.000000         0.000000         0.000000   \n",
       "75%           0.000000       1.000000         0.000000         1.000000   \n",
       "max           1.000000       1.000000         1.000000         1.000000   \n",
       "\n",
       "       category_FireFox    category_IE  category_Opera  category_Safari  \\\n",
       "count     120000.000000  120000.000000   120000.000000    120000.000000   \n",
       "mean           0.163458       0.242817        0.024792         0.163500   \n",
       "std            0.369785       0.428787        0.155490         0.369823   \n",
       "min            0.000000       0.000000        0.000000         0.000000   \n",
       "25%            0.000000       0.000000        0.000000         0.000000   \n",
       "50%            0.000000       0.000000        0.000000         0.000000   \n",
       "75%            0.000000       0.000000        0.000000         0.000000   \n",
       "max            1.000000       1.000000        1.000000         1.000000   \n",
       "\n",
       "          category_F     category_M  \n",
       "count  120000.000000  120000.000000  \n",
       "mean        0.415617       0.584383  \n",
       "std         0.492830       0.492830  \n",
       "min         0.000000       0.000000  \n",
       "25%         0.000000       0.000000  \n",
       "50%         0.000000       1.000000  \n",
       "75%         1.000000       1.000000  \n",
       "max         1.000000       1.000000  \n",
       "\n",
       "[8 rows x 21 columns]"
      ]
     },
     "execution_count": 18,
     "metadata": {},
     "output_type": "execute_result"
    }
   ],
   "source": [
    "print(X_train.shape)\n",
    "X_train.describe()"
   ]
  },
  {
   "cell_type": "markdown",
   "metadata": {},
   "source": [
    "#### Visualize Input Dataset"
   ]
  },
  {
   "cell_type": "code",
   "execution_count": 19,
   "metadata": {},
   "outputs": [],
   "source": [
    "%matplotlib inline\n",
    "sns.set(style='ticks')"
   ]
  },
  {
   "cell_type": "code",
   "execution_count": 20,
   "metadata": {},
   "outputs": [],
   "source": [
    "# Pandas dataframe with model features and model target\n",
    "DF = pd.concat([X_train, y_train], axis=1)"
   ]
  },
  {
   "cell_type": "code",
   "execution_count": 21,
   "metadata": {},
   "outputs": [
    {
     "data": {
      "image/png": "[encoded data removed]",
      "text/plain": [
       "<Figure size 864x648 with 2 Axes>"
      ]
     },
     "metadata": {},
     "output_type": "display_data"
    }
   ],
   "source": [
    "# Compute and visualize covariance (correlation) matrix\n",
    "correl_matrix = DF.corr()\n",
    "fig = plt.figure(figsize = (12,9))\n",
    "sns.heatmap(correl_matrix, vmax=0.8, square=True)\n",
    "plt.show()"
   ]
  },
  {
   "cell_type": "markdown",
   "metadata": {},
   "source": [
    "#### How unbalanced is the target data?"
   ]
  },
  {
   "cell_type": "code",
   "execution_count": 22,
   "metadata": {},
   "outputs": [],
   "source": [
    "def plot_balance(dataseries_name, plot_title, percent=True):\n",
    "    \"\"\"Generates a bar plot with the counts of frauds and no-frauds events.\n",
    "    Arguments:\n",
    "    dataseries_name: Pandas series with the target dataset \n",
    "                    For example 'ds'\n",
    "    plot_title: For example 'Synthetic Unbalanced Dataset'\n",
    "    \"\"\"\n",
    "    if percent:\n",
    "        percent_values = dataseries_name.value_counts(normalize=True).mul(100).round(1)\n",
    "        sns.barplot([0,1], percent_values)\n",
    "        y_label = 'Percent'\n",
    "    else:\n",
    "        sns.barplot([0,1], dataseries_name.value_counts().values)\n",
    "        y_label = 'Count'\n",
    "    plt.title(plot_title)\n",
    "    plt.ylabel(y_label)\n",
    "    plt.xlabel(TARGET+' (0:Good, 1:Fraud)')"
   ]
  },
  {
   "cell_type": "code",
   "execution_count": 23,
   "metadata": {},
   "outputs": [
    {
     "data": {
      "image/png": "[encoded data removed]",
      "text/plain": [
       "<Figure size 432x288 with 1 Axes>"
      ]
     },
     "metadata": {},
     "output_type": "display_data"
    }
   ],
   "source": [
    "plot_balance(y_train, 'Training Target Dataset Percents')"
   ]
  },
  {
   "cell_type": "code",
   "execution_count": 24,
   "metadata": {},
   "outputs": [
    {
     "data": {
      "text/html": [
       "<div>\n",
       "<style scoped>\n",
       "    .dataframe tbody tr th:only-of-type {\n",
       "        vertical-align: middle;\n",
       "    }\n",
       "\n",
       "    .dataframe tbody tr th {\n",
       "        vertical-align: top;\n",
       "    }\n",
       "\n",
       "    .dataframe thead th {\n",
       "        text-align: right;\n",
       "    }\n",
       "</style>\n",
       "<table border=\"1\" class=\"dataframe\">\n",
       "  <thead>\n",
       "    <tr style=\"text-align: right;\">\n",
       "      <th></th>\n",
       "      <th>counts</th>\n",
       "      <th>percents</th>\n",
       "    </tr>\n",
       "  </thead>\n",
       "  <tbody>\n",
       "    <tr>\n",
       "      <th>0</th>\n",
       "      <td>108735</td>\n",
       "      <td>90.6</td>\n",
       "    </tr>\n",
       "    <tr>\n",
       "      <th>1</th>\n",
       "      <td>11265</td>\n",
       "      <td>9.4</td>\n",
       "    </tr>\n",
       "  </tbody>\n",
       "</table>\n",
       "</div>"
      ],
      "text/plain": [
       "   counts  percents\n",
       "0  108735      90.6\n",
       "1   11265       9.4"
      ]
     },
     "execution_count": 24,
     "metadata": {},
     "output_type": "execute_result"
    }
   ],
   "source": [
    "# Show how unbalanced is the Target data\n",
    "counts = y_train.value_counts()\n",
    "perc = y_train.value_counts(normalize=True).mul(100).round(1)\n",
    "pd.DataFrame({'counts': counts, 'percents': perc})"
   ]
  },
  {
   "cell_type": "code",
   "execution_count": 25,
   "metadata": {},
   "outputs": [
    {
     "data": {
      "image/png": "[encoded data removed]",
      "text/plain": [
       "<Figure size 432x288 with 1 Axes>"
      ]
     },
     "metadata": {},
     "output_type": "display_data"
    }
   ],
   "source": [
    "plot_balance(y_train, 'Training Target Dataset Counts', percent=False)"
   ]
  },
  {
   "cell_type": "markdown",
   "metadata": {},
   "source": [
    "### Prove that the features can be used on a Machine Learning algorithm"
   ]
  },
  {
   "cell_type": "markdown",
   "metadata": {},
   "source": [
    "#### Using Class-weighted Logistic Regression\n",
    "\n",
    "Reference: https://machinelearningmastery.com/cost-sensitive-logistic-regression/"
   ]
  },
  {
   "cell_type": "code",
   "execution_count": 26,
   "metadata": {},
   "outputs": [],
   "source": [
    "#import numpy as np\n",
    "from sklearn.linear_model import LogisticRegression\n",
    "from sklearn.metrics import classification_report, confusion_matrix"
   ]
  },
  {
   "cell_type": "code",
   "execution_count": 27,
   "metadata": {},
   "outputs": [],
   "source": [
    "weights = {0:9.0, 1:91.0}  # As best practice, use inverse of class distribution present in training dataset.\n",
    "model_logistic_reg = LogisticRegression(solver='lbfgs', \n",
    "                                        class_weight=weights)"
   ]
  },
  {
   "cell_type": "code",
   "execution_count": 28,
   "metadata": {},
   "outputs": [
    {
     "name": "stdout",
     "output_type": "stream",
     "text": [
      "Weights: {0: 9.0, 1: 91.0}\n",
      "              precision    recall  f1-score   support\n",
      "\n",
      "           0       0.95      0.62      0.75    108735\n",
      "           1       0.16      0.71      0.27     11265\n",
      "\n",
      "   micro avg       0.63      0.63      0.63    120000\n",
      "   macro avg       0.56      0.67      0.51    120000\n",
      "weighted avg       0.88      0.63      0.71    120000\n",
      "\n"
     ]
    }
   ],
   "source": [
    "model_logistic_reg.fit(X_train, y_train)\n",
    "\n",
    "print('Weights:', weights)\n",
    "print(classification_report(y_train, \n",
    "                            model_logistic_reg.predict(X_train)\n",
    "                           ))"
   ]
  },
  {
   "cell_type": "code",
   "execution_count": 29,
   "metadata": {},
   "outputs": [
    {
     "name": "stdout",
     "output_type": "stream",
     "text": [
      "compute_class_weight: [0.55180025 5.32623169]\n",
      "              precision    recall  f1-score   support\n",
      "\n",
      "           0       0.95      0.64      0.77    108735\n",
      "           1       0.17      0.70      0.27     11265\n",
      "\n",
      "   micro avg       0.65      0.65      0.65    120000\n",
      "   macro avg       0.56      0.67      0.52    120000\n",
      "weighted avg       0.88      0.65      0.72    120000\n",
      "\n"
     ]
    }
   ],
   "source": [
    "from sklearn.utils.class_weight import compute_class_weight\n",
    "# calculate class weighting\n",
    "weighting = compute_class_weight('balanced', [0,1], y_train)\n",
    "print('compute_class_weight:', weighting)\n",
    "\n",
    "weights = {0:weighting[0], 1:weighting[1]}\n",
    "model_logistic_reg = LogisticRegression(solver='lbfgs', \n",
    "                                        class_weight=weights)\n",
    "\n",
    "model_logistic_reg.fit(X_train, y_train)\n",
    "\n",
    "print(classification_report(y_train, \n",
    "                            model_logistic_reg.predict(X_train)\n",
    "                           ))"
   ]
  },
  {
   "cell_type": "markdown",
   "metadata": {},
   "source": [
    "### Hyperparameter Tuning\n"
   ]
  },
  {
   "cell_type": "markdown",
   "metadata": {},
   "source": [
    "##### What Metric should we optimize, Accuracy, Precision, Recall, F1, ROC, or other?"
   ]
  },
  {
   "cell_type": "code",
   "execution_count": 30,
   "metadata": {},
   "outputs": [
    {
     "data": {
      "text/plain": [
       "count    120000.000000\n",
       "mean         36.881475\n",
       "std          18.325855\n",
       "min           9.000000\n",
       "25%          22.000000\n",
       "50%          34.000000\n",
       "75%          49.000000\n",
       "max         154.000000\n",
       "Name: purchase_value_numeric, dtype: float64"
      ]
     },
     "execution_count": 30,
     "metadata": {},
     "output_type": "execute_result"
    }
   ],
   "source": [
    "X_train['purchase_value_numeric'].describe()"
   ]
  },
  {
   "cell_type": "markdown",
   "metadata": {},
   "source": [
    "Considerations on the Cost Function to assess the model performance:\n",
    "\n",
    "Note on False Negatives: If the model fails to identify a fraudulent transaction, \n",
    "Electronica loses money equivalent to the price of the fraudulently purchased product.\n",
    "\n",
    "Note on False Positives: If the model incorrectly flags a real transaction as fraudulent, \n",
    "it inconveniences the Electronica customers whose valid transactions are flagged—a cost your client values at $8.\n",
    "\n",
    "Since the mean product price is $36.88, from the above output, then False Negative errors cost over 4 times more than the False Positive errors.\n",
    "\n",
    "    Thus, let's try a cost function that aims at reducing False Negatives\n",
    "\n",
    "Recall in this context is also referred to as the true positive rate or sensitivity,\n",
    "\n",
    "    Recall = true_positives / (true_positives + false_negatives)\n",
    "\n",
    "Thus, we want the model that gives us the HIGHEST RECALL during Hyperparameter tuning.\n",
    "\n",
    "However, as a final metric, we want a customized loss function..."
   ]
  },
  {
   "cell_type": "code",
   "execution_count": 117,
   "metadata": {},
   "outputs": [],
   "source": [
    "from sklearn.metrics.scorer import make_scorer\n",
    "\n",
    "def custom_loss_func(X_input, y_target, y_predict):\n",
    "    error= 0\n",
    "    #for i in range(y_target.shape[0]):  # Use this for Pandas\n",
    "    for i in range(len(y_target)):\n",
    "        #False Negatives\n",
    "        #if (y_predict.iloc[i].item() == 0) and (y_target.iloc[i].item() == 1):  # Use this for Pandas\n",
    "        if (y_predict[i] == 0) and (y_target[i] == 1):                           # Use this for Numpy\n",
    "            error_i = X_input.purchase_value_numeric.iloc[i]          \n",
    "        #False Positives\n",
    "        #elif y_predict.iloc[i].item() == 1 and y_target.iloc[i].item() == 0:    # Use this for Pandas\n",
    "        elif y_predict[i] == 1 and y_target[i] == 0:     # Use this for Numpy\n",
    "            error_i = 8\n",
    "        else:\n",
    "            error_i = 0\n",
    "        error += error_i\n",
    "    return error\n",
    "\n",
    "custom_scorer = make_scorer(custom_loss_func, greater_is_better=False)"
   ]
  },
  {
   "cell_type": "code",
   "execution_count": 118,
   "metadata": {},
   "outputs": [
    {
     "name": "stdout",
     "output_type": "stream",
     "text": [
      "TEST PASSED! Correct error equals  106\n"
     ]
    }
   ],
   "source": [
    "# Unit test\n",
    "import numpy as np\n",
    "x_t = pd.DataFrame({'age':[20,30,40,50,60,70], \n",
    "                    'purchase_value_numeric':[20,30,40,50,60,2]\n",
    "                   })\n",
    "#y_ta = pd.DataFrame({'class':[0,1,0,1,1,0]})\n",
    "y_ta = np.array([0,1,0,1,1,0])\n",
    "\n",
    "#y_pr = pd.DataFrame({'class':[0,0,1,1,0,1]})\n",
    "y_pr = np.array([0,0,1,1,0,1])\n",
    "correct_error = 106\n",
    "error = custom_loss_func(x_t, y_ta, y_pr)\n",
    "if error == correct_error:\n",
    "    print('TEST PASSED! Correct error equals ', correct_error)\n",
    "else:\n",
    "    print('TEST FAILED! Function gave error =', error)"
   ]
  },
  {
   "cell_type": "markdown",
   "metadata": {},
   "source": [
    "#### Grid Search with Recall\n",
    "\n",
    "We will use repeated cross-validation to evaluate the model, with three repeats of 10-fold cross-validation. \n",
    "\n",
    "The mode performance will be reported using the mean Recall averaged over repeats and all folds."
   ]
  },
  {
   "cell_type": "code",
   "execution_count": null,
   "metadata": {},
   "outputs": [],
   "source": [
    "from sklearn.model_selection import GridSearchCV\n",
    "clf = LogisticRegression()\n",
    "grid_values = {'penalty': ['l1', 'l2'],'C':[0.001,.009,0.01,.09,1,5,10,25]}\n",
    "grid_clf_acc = GridSearchCV(clf, param_grid = grid_values,scoring = 'recall')\n",
    "grid_clf_acc.fit(X_train, y_train)\n",
    "\n",
    "#Predict values based on new parameters\n",
    "y_pred_acc = grid_clf_acc.predict(X_test)\n",
    "\n",
    "# New Model Evaluation metrics \n",
    "print('Accuracy Score : ' + str(accuracy_score(y_test,y_pred_acc)))\n",
    "print('Precision Score : ' + str(precision_score(y_test,y_pred_acc)))\n",
    "print('Recall Score : ' + str(recall_score(y_test,y_pred_acc)))\n",
    "print('F1 Score : ' + str(f1_score(y_test,y_pred_acc)))\n",
    "\n",
    "#Logistic Regression (Grid Search) Confusion matrix\n",
    "confusion_matrix(y_test,y_pred_acc)"
   ]
  },
  {
   "cell_type": "code",
   "execution_count": 120,
   "metadata": {},
   "outputs": [],
   "source": [
    "from sklearn.model_selection import RepeatedStratifiedKFold\n",
    "from sklearn.model_selection import GridSearchCV\n",
    "#from sklearn.metrics import recall_score\n",
    "from sklearn.metrics import accuracy_score, precision_score, recall_score, f1_score"
   ]
  },
  {
   "cell_type": "code",
   "execution_count": null,
   "metadata": {},
   "outputs": [],
   "source": [
    "'recall_score': make_scorer(recall_score),"
   ]
  },
  {
   "cell_type": "code",
   "execution_count": 100,
   "metadata": {},
   "outputs": [
    {
     "name": "stdout",
     "output_type": "stream",
     "text": [
      "Best: 1.000000 using {'class_weight': {0: 1, 1: 100}}\n",
      "RECALL mean (stdev): 0.709928 (0.013145) - With: {'class_weight': {0: 9.0, 1: 91.0}}\n",
      "RECALL mean (stdev): 0.701584 (0.013689) - With: {'class_weight': {0: 0.55180025, 1: 5.32623169}}\n",
      "RECALL mean (stdev): 0.000000 (0.000000) - With: {'class_weight': {0: 100, 1: 1}}\n",
      "RECALL mean (stdev): 0.000000 (0.000000) - With: {'class_weight': {0: 10, 1: 1}}\n",
      "RECALL mean (stdev): 0.000000 (0.000000) - With: {'class_weight': {0: 1, 1: 1}}\n",
      "RECALL mean (stdev): 0.707472 (0.013180) - With: {'class_weight': {0: 1, 1: 10}}\n",
      "RECALL mean (stdev): 1.000000 (0.000000) - With: {'class_weight': {0: 1, 1: 100}}\n"
     ]
    }
   ],
   "source": [
    "# define model\n",
    "model_logistic_reg = LogisticRegression(solver='lbfgs')\n",
    "# define grid\n",
    "balance = [{0:9.0, 1:91.0},\n",
    "           {0:0.55180025,1:5.32623169},\n",
    "           {0:100,1:1}, \n",
    "           {0:10,1:1}, \n",
    "           {0:1,1:1}, \n",
    "           {0:1,1:10}, \n",
    "           {0:1,1:100}]\n",
    "param_grid = dict(class_weight=balance)\n",
    "# define evaluation procedure\n",
    "cv = RepeatedStratifiedKFold(n_splits=10, n_repeats=3, random_state=1)\n",
    "\n",
    "# define grid search to output final model\n",
    "grid = GridSearchCV(estimator=model_logistic_reg, \n",
    "                    param_grid=param_grid, \n",
    "                    n_jobs=-1, \n",
    "                    cv=cv, scoring=make_scorer(recall_score))\n",
    "                    #scoring='roc_auc')\n",
    "# execute the grid search\n",
    "grid_result = grid.fit(X_train, y_train)\n",
    "# report the best configuration\n",
    "print(\"Best: %f using %s\" % (grid_result.best_score_, grid_result.best_params_))\n",
    "# report all configurations\n",
    "means = grid_result.cv_results_['mean_test_score']\n",
    "stds = grid_result.cv_results_['std_test_score']\n",
    "params = grid_result.cv_results_['params']\n",
    "for mean, stdev, param in zip(means, stds, params):\n",
    "    print(\"RECALL mean (stdev): %f (%f) - With: %r\" % (mean, stdev, param))"
   ]
  },
  {
   "cell_type": "code",
   "execution_count": 123,
   "metadata": {},
   "outputs": [
    {
     "name": "stdout",
     "output_type": "stream",
     "text": [
      "Custom Lost Function: $869880\n",
      "Accuracy Score : 0.093875\n",
      "Precision Score : 0.093875\n",
      "Recall Score : 1.0\n",
      "F1 Score : 0.17163752713975547\n",
      "Confusion Matrix:\n",
      "[[     0 108735]\n",
      " [     0  11265]]\n"
     ]
    }
   ],
   "source": [
    "#Predict values based on new parameters\n",
    "y_pred_final = grid.predict(X_train)\n",
    "\n",
    "# New Model Evaluation metrics \n",
    "print('Custom Lost Function: $' + str(custom_loss_func(X_train, y_train, y_pred_final)) )\n",
    "print('Accuracy Score : ' + str(accuracy_score(y_train,y_pred_final)))\n",
    "print('Precision Score : ' + str(precision_score(y_train,y_pred_final)))\n",
    "print('Recall Score : ' + str(recall_score(y_train,y_pred_final)))\n",
    "print('F1 Score : ' + str(f1_score(y_train,y_pred_final)))\n",
    "\n",
    "#Logistic Regression (Grid Search) Confusion matrix\n",
    "confusion_matrix(y_train,y_pred_final)\n",
    "\n",
    "# Final (Grid Search) Confusion Matrix on Training dataset\n",
    "conf_matrix_train = confusion_matrix(y_train, y_pred_final)\n",
    "print('Confusion Matrix:')\n",
    "print(conf_matrix_train)"
   ]
  },
  {
   "cell_type": "code",
   "execution_count": 125,
   "metadata": {},
   "outputs": [],
   "source": [
    "import itertools\n",
    "def plot_confusion_matrix(cm, classes,\n",
    "                          title='Confusion Matrix', \n",
    "                          cmap=plt.cm.Blues):\n",
    "    \"\"\"\n",
    "    This function prints and plots the confusion matrix.\n",
    "    \"\"\"\n",
    "    plt.imshow(cm, interpolation=\"nearest\", cmap=cmap)\n",
    "    plt.title(title)\n",
    "    plt.colorbar()\n",
    "    tick_marks = np.arange(len(classes))\n",
    "    plt.xticks(tick_marks, classes, rotation=45)\n",
    "    plt.yticks(tick_marks, classes)\n",
    "    \n",
    "    print(cm)\n",
    "    \n",
    "    thresh = cm.max() / 2.\n",
    "    for i,j in itertools.product(range(cm.shape[0]), range(cm.shape[1])):\n",
    "        plt.text(j,i,int(round(cm[i,j])),\n",
    "                horizontalalignment=\"center\",\n",
    "                color=\"white\" if cm[i,j] > thresh else \"black\")\n",
    "    \n",
    "    plt.tight_layout()\n",
    "    plt.ylabel('True label')\n",
    "    plt.xlabel('Predicted label')"
   ]
  },
  {
   "cell_type": "code",
   "execution_count": 126,
   "metadata": {},
   "outputs": [
    {
     "name": "stdout",
     "output_type": "stream",
     "text": [
      "[[     0 108735]\n",
      " [     0  11265]]\n",
      "[[ 0.     90.6125]\n",
      " [ 0.      9.3875]]\n"
     ]
    },
    {
     "data": {
      "image/png": "[encoded data removed]",
      "text/plain": [
       "<Figure size 432x288 with 2 Axes>"
      ]
     },
     "metadata": {},
     "output_type": "display_data"
    },
    {
     "data": {
      "image/png": "[encoded data removed]",
      "text/plain": [
       "<Figure size 432x288 with 2 Axes>"
      ]
     },
     "metadata": {},
     "output_type": "display_data"
    }
   ],
   "source": [
    "# Plot Confusion Matrix in counts\n",
    "plt.figure() \n",
    "plot_confusion_matrix(conf_matrix_train, classes=['0:Good','1:Fraud'], \n",
    "                      title=\"Train Confusion Matrix, Counts\")\n",
    "plt.figure()\n",
    "plt.show\n",
    "plt.savefig('conf_matrix_counts_train.png')\n",
    "\n",
    "# Plot Confusion Matrix in percents\n",
    "conf_matrix_train_percents = 100.0 * conf_matrix_train /float(len(y_train))\n",
    "plot_confusion_matrix(conf_matrix_train_percents, classes=['0:Good','1:Fraud'],\n",
    "                      title=\"Train Confusion Matrix, Percents\")\n",
    "plt.show\n",
    "plt.savefig('conf_matrix_prcnts_train.png')"
   ]
  },
  {
   "cell_type": "markdown",
   "metadata": {},
   "source": [
    "This is not a good confusion matrix, because there are ZERO TRUE NEGATIVES.\n",
    "\n",
    "Instead, let's try F_beta, because it takes into consideration both the Recall and Precision metrics.\n",
    "F_beta gives the weighted harmonic mean of precision and recall), and one can use a beta that gives more weight on the Recall...\n",
    "     \n",
    "     by picking a beta Value in the interval 1 < Beta < +∞\n",
    "\n",
    "    "
   ]
  },
  {
   "cell_type": "markdown",
   "metadata": {},
   "source": [
    "#### Grid Search with F_beta\n",
    "\n",
    "As Before, we will use repeated cross-validation to evaluate the model, with three repeats of 10-fold cross-validation. \n",
    "\n",
    "The mode performance will be reported using the mean F_beta averaged over repeats and all folds."
   ]
  },
  {
   "cell_type": "code",
   "execution_count": 120,
   "metadata": {},
   "outputs": [],
   "source": [
    "from sklearn.model_selection import RepeatedStratifiedKFold\n",
    "from sklearn.model_selection import GridSearchCV\n",
    "#from sklearn.metrics import recall_score\n",
    "from sklearn.metrics import accuracy_score, precision_score, recall_score, f1_score"
   ]
  },
  {
   "cell_type": "code",
   "execution_count": 127,
   "metadata": {},
   "outputs": [],
   "source": [
    "from sklearn.metrics import fbeta_score\n",
    "#f2_scorer = make_scorer(fbeta_score, beta=2)"
   ]
  },
  {
   "cell_type": "code",
   "execution_count": 136,
   "metadata": {},
   "outputs": [
    {
     "name": "stdout",
     "output_type": "stream",
     "text": [
      "Best: 0.429324 using {'class_weight': {0: 0.55180025, 1: 5.32623169}}\n",
      "F_4 mean (stdev): 0.424875 (0.007058) - With: {'class_weight': {0: 9.0, 1: 91.0}}\n",
      "F_4 mean (stdev): 0.429324 (0.007651) - With: {'class_weight': {0: 0.55180025, 1: 5.32623169}}\n",
      "F_4 mean (stdev): 0.000000 (0.000000) - With: {'class_weight': {0: 100, 1: 1}}\n",
      "F_4 mean (stdev): 0.000000 (0.000000) - With: {'class_weight': {0: 10, 1: 1}}\n",
      "F_4 mean (stdev): 0.000000 (0.000000) - With: {'class_weight': {0: 1, 1: 1}}\n",
      "F_4 mean (stdev): 0.425546 (0.007107) - With: {'class_weight': {0: 1, 1: 10}}\n",
      "F_4 mean (stdev): 0.341240 (0.000089) - With: {'class_weight': {0: 1, 1: 100}}\n"
     ]
    }
   ],
   "source": [
    "# define model\n",
    "model_logistic_reg = LogisticRegression(solver='lbfgs')\n",
    "# define grid\n",
    "balance = [{0:9.0, 1:91.0},\n",
    "           {0:0.55180025,1:5.32623169},\n",
    "           {0:100,1:1}, \n",
    "           {0:10,1:1}, \n",
    "           {0:1,1:1}, \n",
    "           {0:1,1:10}, \n",
    "           {0:1,1:100}]\n",
    "param_grid = dict(class_weight=balance)\n",
    "# define evaluation procedure\n",
    "cv = RepeatedStratifiedKFold(n_splits=10, n_repeats=3, random_state=1)\n",
    "\n",
    "# define grid search to output final model\n",
    "grid = GridSearchCV(estimator=model_logistic_reg, \n",
    "                    param_grid=param_grid, \n",
    "                    n_jobs=-1, \n",
    "                    cv=cv, scoring=make_scorer(fbeta_score, beta=2))\n",
    "                    #scoring='roc_auc')\n",
    "# execute the grid search\n",
    "grid_result = grid.fit(X_train, y_train)\n",
    "# report the best configuration\n",
    "print(\"Best: %f using %s\" % (grid_result.best_score_, grid_result.best_params_))\n",
    "# report all configurations\n",
    "means = grid_result.cv_results_['mean_test_score']\n",
    "stds = grid_result.cv_results_['std_test_score']\n",
    "params = grid_result.cv_results_['params']\n",
    "for mean, stdev, param in zip(means, stds, params):\n",
    "    print(\"F_4 mean (stdev): %f (%f) - With: %r\" % (mean, stdev, param))"
   ]
  },
  {
   "cell_type": "code",
   "execution_count": 130,
   "metadata": {},
   "outputs": [
    {
     "name": "stdout",
     "output_type": "stream",
     "text": [
      "Custom Lost Function: $438224\n",
      "Accuracy Score : 0.646225\n",
      "Precision Score : 0.16812803268919724\n",
      "Recall Score : 0.7012871726586773\n",
      "F1 Score : 0.27123066623178205\n",
      "Confusion Matrix:\n",
      "[[69647 39088]\n",
      " [ 3365  7900]]\n"
     ]
    }
   ],
   "source": [
    "#Predict values based on new parameters\n",
    "y_pred_final = grid.predict(X_train)\n",
    "\n",
    "# New Model Evaluation metrics \n",
    "print('Custom Lost Function: $' + str(custom_loss_func(X_train, y_train, y_pred_final)) )\n",
    "print('Accuracy Score : ' + str(accuracy_score(y_train,y_pred_final)))\n",
    "print('Precision Score : ' + str(precision_score(y_train,y_pred_final)))\n",
    "print('Recall Score : ' + str(recall_score(y_train,y_pred_final)))\n",
    "print('F1 Score : ' + str(f1_score(y_train,y_pred_final)))\n",
    "\n",
    "#Logistic Regression (Grid Search) Confusion matrix\n",
    "confusion_matrix(y_train,y_pred_final)\n",
    "\n",
    "# Final (Grid Search) Confusion Matrix on Training dataset\n",
    "conf_matrix_train = confusion_matrix(y_train, y_pred_final)\n",
    "print('Confusion Matrix:')\n",
    "print(conf_matrix_train)"
   ]
  },
  {
   "cell_type": "code",
   "execution_count": 131,
   "metadata": {},
   "outputs": [
    {
     "name": "stdout",
     "output_type": "stream",
     "text": [
      "[[69647 39088]\n",
      " [ 3365  7900]]\n",
      "[[58.03916667 32.57333333]\n",
      " [ 2.80416667  6.58333333]]\n"
     ]
    },
    {
     "data": {
      "image/png": "[encoded data removed]",
      "text/plain": [
       "<Figure size 432x288 with 2 Axes>"
      ]
     },
     "metadata": {},
     "output_type": "display_data"
    },
    {
     "data": {
      "image/png": "[encoded data removed]",
      "text/plain": [
       "<Figure size 432x288 with 2 Axes>"
      ]
     },
     "metadata": {},
     "output_type": "display_data"
    }
   ],
   "source": [
    "# Plot Confusion Matrix in counts\n",
    "plt.figure() \n",
    "plot_confusion_matrix(conf_matrix_train, classes=['0:Good','1:Fraud'], \n",
    "                      title=\"Train Confusion Matrix, Counts\")\n",
    "plt.figure()\n",
    "plt.show\n",
    "plt.savefig('conf_matrix_counts_train.png')\n",
    "\n",
    "# Plot Confusion Matrix in percents\n",
    "conf_matrix_train_percents = 100.0 * conf_matrix_train /float(len(y_train))\n",
    "plot_confusion_matrix(conf_matrix_train_percents, classes=['0:Good','1:Fraud'],\n",
    "                      title=\"Train Confusion Matrix, Percents\")\n",
    "plt.show\n",
    "plt.savefig('conf_matrix_prcnts_train.png')"
   ]
  },
  {
   "cell_type": "markdown",
   "metadata": {},
   "source": [
    "This reduced the Custom Lost Function, but the False Positives are still too high, can we do it better?"
   ]
  },
  {
   "cell_type": "markdown",
   "metadata": {},
   "source": [
    "#### Grid Search with Custom Lost Function\n",
    "\n",
    "As Before, we will use repeated cross-validation to evaluate the model, with three repeats of 10-fold cross-validation. \n",
    "\n",
    "The mode performance will be reported using the mean Custom Lost Function averaged over repeats and all folds.\n",
    "\n",
    "However, that scoring requires 3 input arguments instead of the 2 given on grid search, and that is giving the following error message:\n",
    "\n",
    "    TypeError: custom_loss_func() missing 1 required positional argument: 'y_predict'\n",
    "    \n",
    "Thus, we will stay with the model optimized for the F2 metric as the final Logistic Regression model."
   ]
  },
  {
   "cell_type": "code",
   "execution_count": 137,
   "metadata": {},
   "outputs": [
    {
     "ename": "TypeError",
     "evalue": "custom_loss_func() missing 1 required positional argument: 'y_predict'",
     "output_type": "error",
     "traceback": [
      "\u001b[0;31m---------------------------------------------------------------------------\u001b[0m",
      "\u001b[0;31m_RemoteTraceback\u001b[0m                          Traceback (most recent call last)",
      "\u001b[0;31m_RemoteTraceback\u001b[0m: \n\"\"\"\nTraceback (most recent call last):\n  File \"/Applications/anaconda/envs/Python3/lib/python3.6/site-packages/sklearn/externals/joblib/externals/loky/process_executor.py\", line 418, in _process_worker\n    r = call_item()\n  File \"/Applications/anaconda/envs/Python3/lib/python3.6/site-packages/sklearn/externals/joblib/externals/loky/process_executor.py\", line 272, in __call__\n    return self.fn(*self.args, **self.kwargs)\n  File \"/Applications/anaconda/envs/Python3/lib/python3.6/site-packages/sklearn/externals/joblib/_parallel_backends.py\", line 567, in __call__\n    return self.func(*args, **kwargs)\n  File \"/Applications/anaconda/envs/Python3/lib/python3.6/site-packages/sklearn/externals/joblib/parallel.py\", line 225, in __call__\n    for func, args, kwargs in self.items]\n  File \"/Applications/anaconda/envs/Python3/lib/python3.6/site-packages/sklearn/externals/joblib/parallel.py\", line 225, in <listcomp>\n    for func, args, kwargs in self.items]\n  File \"/Applications/anaconda/envs/Python3/lib/python3.6/site-packages/sklearn/model_selection/_validation.py\", line 568, in _fit_and_score\n    test_scores = _score(estimator, X_test, y_test, scorer, is_multimetric)\n  File \"/Applications/anaconda/envs/Python3/lib/python3.6/site-packages/sklearn/model_selection/_validation.py\", line 605, in _score\n    return _multimetric_score(estimator, X_test, y_test, scorer)\n  File \"/Applications/anaconda/envs/Python3/lib/python3.6/site-packages/sklearn/model_selection/_validation.py\", line 635, in _multimetric_score\n    score = scorer(estimator, X_test, y_test)\n  File \"/Applications/anaconda/envs/Python3/lib/python3.6/site-packages/sklearn/metrics/scorer.py\", line 98, in __call__\n    **self._kwargs)\nTypeError: custom_loss_func() missing 1 required positional argument: 'y_predict'\n\"\"\"",
      "\nThe above exception was the direct cause of the following exception:\n",
      "\u001b[0;31mTypeError\u001b[0m                                 Traceback (most recent call last)",
      "\u001b[0;32m<ipython-input-137-7d0482beecd9>\u001b[0m in \u001b[0;36m<module>\u001b[0;34m\u001b[0m\n\u001b[1;32m     20\u001b[0m \u001b[0;34m\u001b[0m\u001b[0m\n\u001b[1;32m     21\u001b[0m \u001b[0;31m# execute the grid search\u001b[0m\u001b[0;34m\u001b[0m\u001b[0;34m\u001b[0m\u001b[0;34m\u001b[0m\u001b[0m\n\u001b[0;32m---> 22\u001b[0;31m \u001b[0mgrid_result\u001b[0m \u001b[0;34m=\u001b[0m \u001b[0mgrid\u001b[0m\u001b[0;34m.\u001b[0m\u001b[0mfit\u001b[0m\u001b[0;34m(\u001b[0m\u001b[0mX_train\u001b[0m\u001b[0;34m,\u001b[0m \u001b[0my_train\u001b[0m\u001b[0;34m)\u001b[0m\u001b[0;34m\u001b[0m\u001b[0;34m\u001b[0m\u001b[0m\n\u001b[0m\u001b[1;32m     23\u001b[0m \u001b[0;31m# report the best configuration\u001b[0m\u001b[0;34m\u001b[0m\u001b[0;34m\u001b[0m\u001b[0;34m\u001b[0m\u001b[0m\n\u001b[1;32m     24\u001b[0m \u001b[0mprint\u001b[0m\u001b[0;34m(\u001b[0m\u001b[0;34m\"Best: %f using %s\"\u001b[0m \u001b[0;34m%\u001b[0m \u001b[0;34m(\u001b[0m\u001b[0mgrid_result\u001b[0m\u001b[0;34m.\u001b[0m\u001b[0mbest_score_\u001b[0m\u001b[0;34m,\u001b[0m \u001b[0mgrid_result\u001b[0m\u001b[0;34m.\u001b[0m\u001b[0mbest_params_\u001b[0m\u001b[0;34m)\u001b[0m\u001b[0;34m)\u001b[0m\u001b[0;34m\u001b[0m\u001b[0;34m\u001b[0m\u001b[0m\n",
      "\u001b[0;32m/Applications/anaconda/envs/Python3/lib/python3.6/site-packages/sklearn/model_selection/_search.py\u001b[0m in \u001b[0;36mfit\u001b[0;34m(self, X, y, groups, **fit_params)\u001b[0m\n\u001b[1;32m    720\u001b[0m                 \u001b[0;32mreturn\u001b[0m \u001b[0mresults_container\u001b[0m\u001b[0;34m[\u001b[0m\u001b[0;36m0\u001b[0m\u001b[0;34m]\u001b[0m\u001b[0;34m\u001b[0m\u001b[0;34m\u001b[0m\u001b[0m\n\u001b[1;32m    721\u001b[0m \u001b[0;34m\u001b[0m\u001b[0m\n\u001b[0;32m--> 722\u001b[0;31m             \u001b[0mself\u001b[0m\u001b[0;34m.\u001b[0m\u001b[0m_run_search\u001b[0m\u001b[0;34m(\u001b[0m\u001b[0mevaluate_candidates\u001b[0m\u001b[0;34m)\u001b[0m\u001b[0;34m\u001b[0m\u001b[0;34m\u001b[0m\u001b[0m\n\u001b[0m\u001b[1;32m    723\u001b[0m \u001b[0;34m\u001b[0m\u001b[0m\n\u001b[1;32m    724\u001b[0m         \u001b[0mresults\u001b[0m \u001b[0;34m=\u001b[0m \u001b[0mresults_container\u001b[0m\u001b[0;34m[\u001b[0m\u001b[0;36m0\u001b[0m\u001b[0;34m]\u001b[0m\u001b[0;34m\u001b[0m\u001b[0;34m\u001b[0m\u001b[0m\n",
      "\u001b[0;32m/Applications/anaconda/envs/Python3/lib/python3.6/site-packages/sklearn/model_selection/_search.py\u001b[0m in \u001b[0;36m_run_search\u001b[0;34m(self, evaluate_candidates)\u001b[0m\n\u001b[1;32m   1189\u001b[0m     \u001b[0;32mdef\u001b[0m \u001b[0m_run_search\u001b[0m\u001b[0;34m(\u001b[0m\u001b[0mself\u001b[0m\u001b[0;34m,\u001b[0m \u001b[0mevaluate_candidates\u001b[0m\u001b[0;34m)\u001b[0m\u001b[0;34m:\u001b[0m\u001b[0;34m\u001b[0m\u001b[0;34m\u001b[0m\u001b[0m\n\u001b[1;32m   1190\u001b[0m         \u001b[0;34m\"\"\"Search all candidates in param_grid\"\"\"\u001b[0m\u001b[0;34m\u001b[0m\u001b[0;34m\u001b[0m\u001b[0m\n\u001b[0;32m-> 1191\u001b[0;31m         \u001b[0mevaluate_candidates\u001b[0m\u001b[0;34m(\u001b[0m\u001b[0mParameterGrid\u001b[0m\u001b[0;34m(\u001b[0m\u001b[0mself\u001b[0m\u001b[0;34m.\u001b[0m\u001b[0mparam_grid\u001b[0m\u001b[0;34m)\u001b[0m\u001b[0;34m)\u001b[0m\u001b[0;34m\u001b[0m\u001b[0;34m\u001b[0m\u001b[0m\n\u001b[0m\u001b[1;32m   1192\u001b[0m \u001b[0;34m\u001b[0m\u001b[0m\n\u001b[1;32m   1193\u001b[0m \u001b[0;34m\u001b[0m\u001b[0m\n",
      "\u001b[0;32m/Applications/anaconda/envs/Python3/lib/python3.6/site-packages/sklearn/model_selection/_search.py\u001b[0m in \u001b[0;36mevaluate_candidates\u001b[0;34m(candidate_params)\u001b[0m\n\u001b[1;32m    709\u001b[0m                                \u001b[0;32mfor\u001b[0m \u001b[0mparameters\u001b[0m\u001b[0;34m,\u001b[0m \u001b[0;34m(\u001b[0m\u001b[0mtrain\u001b[0m\u001b[0;34m,\u001b[0m \u001b[0mtest\u001b[0m\u001b[0;34m)\u001b[0m\u001b[0;34m\u001b[0m\u001b[0;34m\u001b[0m\u001b[0m\n\u001b[1;32m    710\u001b[0m                                in product(candidate_params,\n\u001b[0;32m--> 711\u001b[0;31m                                           cv.split(X, y, groups)))\n\u001b[0m\u001b[1;32m    712\u001b[0m \u001b[0;34m\u001b[0m\u001b[0m\n\u001b[1;32m    713\u001b[0m                 \u001b[0mall_candidate_params\u001b[0m\u001b[0;34m.\u001b[0m\u001b[0mextend\u001b[0m\u001b[0;34m(\u001b[0m\u001b[0mcandidate_params\u001b[0m\u001b[0;34m)\u001b[0m\u001b[0;34m\u001b[0m\u001b[0;34m\u001b[0m\u001b[0m\n",
      "\u001b[0;32m/Applications/anaconda/envs/Python3/lib/python3.6/site-packages/sklearn/externals/joblib/parallel.py\u001b[0m in \u001b[0;36m__call__\u001b[0;34m(self, iterable)\u001b[0m\n\u001b[1;32m    928\u001b[0m \u001b[0;34m\u001b[0m\u001b[0m\n\u001b[1;32m    929\u001b[0m             \u001b[0;32mwith\u001b[0m \u001b[0mself\u001b[0m\u001b[0;34m.\u001b[0m\u001b[0m_backend\u001b[0m\u001b[0;34m.\u001b[0m\u001b[0mretrieval_context\u001b[0m\u001b[0;34m(\u001b[0m\u001b[0;34m)\u001b[0m\u001b[0;34m:\u001b[0m\u001b[0;34m\u001b[0m\u001b[0;34m\u001b[0m\u001b[0m\n\u001b[0;32m--> 930\u001b[0;31m                 \u001b[0mself\u001b[0m\u001b[0;34m.\u001b[0m\u001b[0mretrieve\u001b[0m\u001b[0;34m(\u001b[0m\u001b[0;34m)\u001b[0m\u001b[0;34m\u001b[0m\u001b[0;34m\u001b[0m\u001b[0m\n\u001b[0m\u001b[1;32m    931\u001b[0m             \u001b[0;31m# Make sure that we get a last message telling us we are done\u001b[0m\u001b[0;34m\u001b[0m\u001b[0;34m\u001b[0m\u001b[0;34m\u001b[0m\u001b[0m\n\u001b[1;32m    932\u001b[0m             \u001b[0melapsed_time\u001b[0m \u001b[0;34m=\u001b[0m \u001b[0mtime\u001b[0m\u001b[0;34m.\u001b[0m\u001b[0mtime\u001b[0m\u001b[0;34m(\u001b[0m\u001b[0;34m)\u001b[0m \u001b[0;34m-\u001b[0m \u001b[0mself\u001b[0m\u001b[0;34m.\u001b[0m\u001b[0m_start_time\u001b[0m\u001b[0;34m\u001b[0m\u001b[0;34m\u001b[0m\u001b[0m\n",
      "\u001b[0;32m/Applications/anaconda/envs/Python3/lib/python3.6/site-packages/sklearn/externals/joblib/parallel.py\u001b[0m in \u001b[0;36mretrieve\u001b[0;34m(self)\u001b[0m\n\u001b[1;32m    831\u001b[0m             \u001b[0;32mtry\u001b[0m\u001b[0;34m:\u001b[0m\u001b[0;34m\u001b[0m\u001b[0;34m\u001b[0m\u001b[0m\n\u001b[1;32m    832\u001b[0m                 \u001b[0;32mif\u001b[0m \u001b[0mgetattr\u001b[0m\u001b[0;34m(\u001b[0m\u001b[0mself\u001b[0m\u001b[0;34m.\u001b[0m\u001b[0m_backend\u001b[0m\u001b[0;34m,\u001b[0m \u001b[0;34m'supports_timeout'\u001b[0m\u001b[0;34m,\u001b[0m \u001b[0;32mFalse\u001b[0m\u001b[0;34m)\u001b[0m\u001b[0;34m:\u001b[0m\u001b[0;34m\u001b[0m\u001b[0;34m\u001b[0m\u001b[0m\n\u001b[0;32m--> 833\u001b[0;31m                     \u001b[0mself\u001b[0m\u001b[0;34m.\u001b[0m\u001b[0m_output\u001b[0m\u001b[0;34m.\u001b[0m\u001b[0mextend\u001b[0m\u001b[0;34m(\u001b[0m\u001b[0mjob\u001b[0m\u001b[0;34m.\u001b[0m\u001b[0mget\u001b[0m\u001b[0;34m(\u001b[0m\u001b[0mtimeout\u001b[0m\u001b[0;34m=\u001b[0m\u001b[0mself\u001b[0m\u001b[0;34m.\u001b[0m\u001b[0mtimeout\u001b[0m\u001b[0;34m)\u001b[0m\u001b[0;34m)\u001b[0m\u001b[0;34m\u001b[0m\u001b[0;34m\u001b[0m\u001b[0m\n\u001b[0m\u001b[1;32m    834\u001b[0m                 \u001b[0;32melse\u001b[0m\u001b[0;34m:\u001b[0m\u001b[0;34m\u001b[0m\u001b[0;34m\u001b[0m\u001b[0m\n\u001b[1;32m    835\u001b[0m                     \u001b[0mself\u001b[0m\u001b[0;34m.\u001b[0m\u001b[0m_output\u001b[0m\u001b[0;34m.\u001b[0m\u001b[0mextend\u001b[0m\u001b[0;34m(\u001b[0m\u001b[0mjob\u001b[0m\u001b[0;34m.\u001b[0m\u001b[0mget\u001b[0m\u001b[0;34m(\u001b[0m\u001b[0;34m)\u001b[0m\u001b[0;34m)\u001b[0m\u001b[0;34m\u001b[0m\u001b[0;34m\u001b[0m\u001b[0m\n",
      "\u001b[0;32m/Applications/anaconda/envs/Python3/lib/python3.6/site-packages/sklearn/externals/joblib/_parallel_backends.py\u001b[0m in \u001b[0;36mwrap_future_result\u001b[0;34m(future, timeout)\u001b[0m\n\u001b[1;32m    519\u001b[0m         AsyncResults.get from multiprocessing.\"\"\"\n\u001b[1;32m    520\u001b[0m         \u001b[0;32mtry\u001b[0m\u001b[0;34m:\u001b[0m\u001b[0;34m\u001b[0m\u001b[0;34m\u001b[0m\u001b[0m\n\u001b[0;32m--> 521\u001b[0;31m             \u001b[0;32mreturn\u001b[0m \u001b[0mfuture\u001b[0m\u001b[0;34m.\u001b[0m\u001b[0mresult\u001b[0m\u001b[0;34m(\u001b[0m\u001b[0mtimeout\u001b[0m\u001b[0;34m=\u001b[0m\u001b[0mtimeout\u001b[0m\u001b[0;34m)\u001b[0m\u001b[0;34m\u001b[0m\u001b[0;34m\u001b[0m\u001b[0m\n\u001b[0m\u001b[1;32m    522\u001b[0m         \u001b[0;32mexcept\u001b[0m \u001b[0mLokyTimeoutError\u001b[0m\u001b[0;34m:\u001b[0m\u001b[0;34m\u001b[0m\u001b[0;34m\u001b[0m\u001b[0m\n\u001b[1;32m    523\u001b[0m             \u001b[0;32mraise\u001b[0m \u001b[0mTimeoutError\u001b[0m\u001b[0;34m(\u001b[0m\u001b[0;34m)\u001b[0m\u001b[0;34m\u001b[0m\u001b[0;34m\u001b[0m\u001b[0m\n",
      "\u001b[0;32m/Applications/anaconda/envs/Python3/lib/python3.6/concurrent/futures/_base.py\u001b[0m in \u001b[0;36mresult\u001b[0;34m(self, timeout)\u001b[0m\n\u001b[1;32m    430\u001b[0m                 \u001b[0;32mraise\u001b[0m \u001b[0mCancelledError\u001b[0m\u001b[0;34m(\u001b[0m\u001b[0;34m)\u001b[0m\u001b[0;34m\u001b[0m\u001b[0;34m\u001b[0m\u001b[0m\n\u001b[1;32m    431\u001b[0m             \u001b[0;32melif\u001b[0m \u001b[0mself\u001b[0m\u001b[0;34m.\u001b[0m\u001b[0m_state\u001b[0m \u001b[0;34m==\u001b[0m \u001b[0mFINISHED\u001b[0m\u001b[0;34m:\u001b[0m\u001b[0;34m\u001b[0m\u001b[0;34m\u001b[0m\u001b[0m\n\u001b[0;32m--> 432\u001b[0;31m                 \u001b[0;32mreturn\u001b[0m \u001b[0mself\u001b[0m\u001b[0;34m.\u001b[0m\u001b[0m__get_result\u001b[0m\u001b[0;34m(\u001b[0m\u001b[0;34m)\u001b[0m\u001b[0;34m\u001b[0m\u001b[0;34m\u001b[0m\u001b[0m\n\u001b[0m\u001b[1;32m    433\u001b[0m             \u001b[0;32melse\u001b[0m\u001b[0;34m:\u001b[0m\u001b[0;34m\u001b[0m\u001b[0;34m\u001b[0m\u001b[0m\n\u001b[1;32m    434\u001b[0m                 \u001b[0;32mraise\u001b[0m \u001b[0mTimeoutError\u001b[0m\u001b[0;34m(\u001b[0m\u001b[0;34m)\u001b[0m\u001b[0;34m\u001b[0m\u001b[0;34m\u001b[0m\u001b[0m\n",
      "\u001b[0;32m/Applications/anaconda/envs/Python3/lib/python3.6/concurrent/futures/_base.py\u001b[0m in \u001b[0;36m__get_result\u001b[0;34m(self)\u001b[0m\n\u001b[1;32m    382\u001b[0m     \u001b[0;32mdef\u001b[0m \u001b[0m__get_result\u001b[0m\u001b[0;34m(\u001b[0m\u001b[0mself\u001b[0m\u001b[0;34m)\u001b[0m\u001b[0;34m:\u001b[0m\u001b[0;34m\u001b[0m\u001b[0;34m\u001b[0m\u001b[0m\n\u001b[1;32m    383\u001b[0m         \u001b[0;32mif\u001b[0m \u001b[0mself\u001b[0m\u001b[0;34m.\u001b[0m\u001b[0m_exception\u001b[0m\u001b[0;34m:\u001b[0m\u001b[0;34m\u001b[0m\u001b[0;34m\u001b[0m\u001b[0m\n\u001b[0;32m--> 384\u001b[0;31m             \u001b[0;32mraise\u001b[0m \u001b[0mself\u001b[0m\u001b[0;34m.\u001b[0m\u001b[0m_exception\u001b[0m\u001b[0;34m\u001b[0m\u001b[0;34m\u001b[0m\u001b[0m\n\u001b[0m\u001b[1;32m    385\u001b[0m         \u001b[0;32melse\u001b[0m\u001b[0;34m:\u001b[0m\u001b[0;34m\u001b[0m\u001b[0;34m\u001b[0m\u001b[0m\n\u001b[1;32m    386\u001b[0m             \u001b[0;32mreturn\u001b[0m \u001b[0mself\u001b[0m\u001b[0;34m.\u001b[0m\u001b[0m_result\u001b[0m\u001b[0;34m\u001b[0m\u001b[0;34m\u001b[0m\u001b[0m\n",
      "\u001b[0;31mTypeError\u001b[0m: custom_loss_func() missing 1 required positional argument: 'y_predict'"
     ]
    }
   ],
   "source": [
    "# define model\n",
    "model_logistic_reg = LogisticRegression(solver='lbfgs')\n",
    "# define grid\n",
    "balance = [{0:9.0, 1:91.0},\n",
    "           {0:0.55180025,1:5.32623169},\n",
    "           {0:100,1:1}, \n",
    "           {0:10,1:1}, \n",
    "           {0:1,1:1}, \n",
    "           {0:1,1:10}, \n",
    "           {0:1,1:100}]\n",
    "param_grid = dict(class_weight=balance)\n",
    "# define evaluation procedure\n",
    "cv = RepeatedStratifiedKFold(n_splits=10, n_repeats=3, random_state=1)\n",
    "\n",
    "# define grid search to output final model\n",
    "grid = GridSearchCV(estimator=model_logistic_reg, \n",
    "                    param_grid=param_grid, \n",
    "                    n_jobs=-1, \n",
    "                    cv=cv, scoring=make_scorer(custom_loss_func, greater_is_better=False) )\n",
    "                    \n",
    "# execute the grid search\n",
    "grid_result = grid.fit(X_train, y_train)\n",
    "# report the best configuration\n",
    "print(\"Best: %f using %s\" % (grid_result.best_score_, grid_result.best_params_))\n",
    "# report all configurations\n",
    "means = grid_result.cv_results_['mean_test_score']\n",
    "stds = grid_result.cv_results_['std_test_score']\n",
    "params = grid_result.cv_results_['params']\n",
    "for mean, stdev, param in zip(means, stds, params):\n",
    "    print(\"RECALL mean (stdev): %f (%f) - With: %r\" % (mean, stdev, param))"
   ]
  },
  {
   "cell_type": "markdown",
   "metadata": {},
   "source": [
    "### Deploy model"
   ]
  },
  {
   "cell_type": "code",
   "execution_count": 133,
   "metadata": {},
   "outputs": [],
   "source": [
    "import pickle\n",
    "\n",
    "pickle.dump(grid, open(\"fraud_model_logisticRegression.sav\", 'wb'))"
   ]
  },
  {
   "cell_type": "markdown",
   "metadata": {},
   "source": [
    "To deploy the model, later on, just run on Python the following...\n",
    "\n",
    "    loaded_model = pickle.load(open(filename_model, 'rb'))\n",
    "    result = loaded_model.score(X_test, y_test)\n",
    "    print(result)"
   ]
  },
  {
   "cell_type": "code",
   "execution_count": null,
   "metadata": {},
   "outputs": [],
   "source": [
    "# Using Naive Bayes"
   ]
  },
  {
   "cell_type": "code",
   "execution_count": null,
   "metadata": {},
   "outputs": [],
   "source": []
  },
  {
   "cell_type": "markdown",
   "metadata": {},
   "source": [
    "#### Compute Cross Validation"
   ]
  },
  {
   "cell_type": "code",
   "execution_count": null,
   "metadata": {},
   "outputs": [],
   "source": [
    "from sklearn.model_selection import cross_val_score"
   ]
  },
  {
   "cell_type": "code",
   "execution_count": null,
   "metadata": {},
   "outputs": [],
   "source": [
    "MODEL = model_logistic_reg\n",
    "cv = RepeatedStratifiedKFold(n_splits=10, n_repeats=3, random_state=1)\n",
    "# evaluate model\n",
    "scores = cross_val_score(MODEL, X_train, y_train, scoring='roc_auc', cv=cv, n_jobs=-1)\n",
    "# summarize performance\n",
    "print('Mean ROC AUC: %.3f' % mean(scores))"
   ]
  },
  {
   "cell_type": "markdown",
   "metadata": {},
   "source": [
    "The code below is using Class Weighted XGBoost, or Cost-Sensitive XGBoost, which can offer better performance on binary classification problems with a severe class imbalance.\n",
    "\n",
    "Reference: https://machinelearningmastery.com/xgboost-for-imbalanced-classification/"
   ]
  },
  {
   "cell_type": "code",
   "execution_count": null,
   "metadata": {},
   "outputs": [],
   "source": [
    "from xgboost import XGBClassifier\n",
    "from sklearn.model_selection import cross_val_score\n",
    "from sklearn.model_selection import RepeatedStratifiedKFold"
   ]
  },
  {
   "cell_type": "code",
   "execution_count": null,
   "metadata": {},
   "outputs": [],
   "source": [
    "# Instantiate the XGBClassifier: xg_cl\n",
    "xg_cl = XGBClassifier(objective='binary:logistic', n_estimators=10, seed=21)\n",
    "\n",
    "# Fit the classifier to the training set\n",
    "xg_cl.fit(X_train, y_train)\n",
    "\n",
    "# Predict the labels of the test set: preds\n",
    "predic = xg_cl.predict(X_test)\n",
    "probab = xg_cl.predict_proba(X_test)\n",
    "\n",
    "# Compute the accuracy: accuracy\n",
    "accuracy = float(np.sum(predic==y_test))/y_test.shape[0]\n",
    "print(\"accuracy: %f\" % (accuracy))"
   ]
  },
  {
   "cell_type": "code",
   "execution_count": null,
   "metadata": {},
   "outputs": [],
   "source": [
    "POR ACA VOY\n",
    "# Define model: eXtreame Gradient Boosting\n",
    "model = XGBClassifier()\n",
    "# define evaluation procedure\n",
    "cv = RepeatedStratifiedKFold(n_splits=10, # Number of folds\n",
    "                             n_repeats=3, # Number of times cross-validator will be repeated\n",
    "                             random_state=1)  # For reproducible results\n",
    "# evaluate model\n",
    "scores = cross_val_score(model, X_train, y_train, scoring='roc_auc', cv=cv, n_jobs=-1)\n",
    "# summarize performance\n",
    "print('Mean ROC AUC: %.5f' % mean(scores))"
   ]
  },
  {
   "cell_type": "code",
   "execution_count": null,
   "metadata": {},
   "outputs": [],
   "source": []
  },
  {
   "cell_type": "markdown",
   "metadata": {},
   "source": [
    "#### Using stratified cross validation to evaluate an XGBoost model.\n",
    "\n",
    "If you have many classes for a classification type predictive modeling problem or the classes are imbalanced (there are a lot more instances for one class than another), it can be a good idea to create stratified folds when performing cross validation.\n",
    "\n",
    "This has the effect of enforcing the same distribution of classes in each fold as in the whole training dataset when performing the cross validation evaluation. The scikit-learn library provides this capability in the StratifiedKFold class.\n",
    "\n",
    "Reference: https://machinelearningmastery.com/evaluate-gradient-boosting-models-xgboost-python/"
   ]
  },
  {
   "cell_type": "code",
   "execution_count": null,
   "metadata": {},
   "outputs": [],
   "source": [
    "# Define evaluation method: stratified k-fold cross validation evaluation of xgboost model\n",
    "#from numpy import loadtxt\n",
    "#import xgboost\n",
    "from xgboost import XGBClassifier\n",
    "from sklearn.model_selection import StratifiedKFold\n",
    "from sklearn.model_selection import cross_val_score"
   ]
  },
  {
   "cell_type": "code",
   "execution_count": null,
   "metadata": {},
   "outputs": [],
   "source": [
    "# Cross Validated model\n",
    "model = XGBClassifier()\n",
    "kfold = StratifiedKFold(n_splits=10, random_state=7)\n",
    "results = cross_val_score(model, X_train, y_train, cv=kfold)\n",
    "print(\"Accuracy: %.2f%% (%.2f%%)\" % (results.mean()*100, results.std()*100))"
   ]
  },
  {
   "cell_type": "code",
   "execution_count": null,
   "metadata": {},
   "outputs": [],
   "source": []
  }
 ],
 "metadata": {
  "kernelspec": {
   "display_name": "Python 3",
   "language": "python",
   "name": "python3"
  },
  "language_info": {
   "codemirror_mode": {
    "name": "ipython",
    "version": 3
   },
   "file_extension": ".py",
   "mimetype": "text/x-python",
   "name": "python",
   "nbconvert_exporter": "python",
   "pygments_lexer": "ipython3",
   "version": "3.6.7"
  }
 },
 "nbformat": 4,
 "nbformat_minor": 2
}
