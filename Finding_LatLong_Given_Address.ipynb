{
 "cells": [
  {
   "cell_type": "markdown",
   "id": "ca124bc6",
   "metadata": {},
   "source": [
    "# From Address to Latitude and Longitude\n",
    "\n",
    "This code generates a dataframe of property addresses, and then uses these addresses to calculate its corresponding geographical coordinates.\n",
    "\n",
    "Code distributed via open source under MIT license.\n",
    "\n",
    ">Created on 2023-June-22 by Edwin.Campos@heitman.com . Last Modification on 2023.June.22 by ecampos.phd@gmail.com"
   ]
  },
  {
   "cell_type": "code",
   "execution_count": 1,
   "id": "f9c620a6",
   "metadata": {},
   "outputs": [
    {
     "name": "stdout",
     "output_type": "stream",
     "text": [
      "Requirement already satisfied: geopy in c:\\users\\campose\\anaconda3\\lib\\site-packages (2.3.0)\n",
      "Requirement already satisfied: geographiclib<3,>=1.52 in c:\\users\\campose\\anaconda3\\lib\\site-packages (from geopy) (2.0)\n"
     ]
    }
   ],
   "source": [
    "! pip install geopy"
   ]
  },
  {
   "cell_type": "code",
   "execution_count": 2,
   "id": "2b001f0a",
   "metadata": {},
   "outputs": [],
   "source": [
    "import pandas as pd\n",
    "from geopy.geocoders import Nominatim"
   ]
  },
  {
   "cell_type": "code",
   "execution_count": 3,
   "id": "4ad0cea1",
   "metadata": {},
   "outputs": [
    {
     "data": {
      "text/html": [
       "<div>\n",
       "<style scoped>\n",
       "    .dataframe tbody tr th:only-of-type {\n",
       "        vertical-align: middle;\n",
       "    }\n",
       "\n",
       "    .dataframe tbody tr th {\n",
       "        vertical-align: top;\n",
       "    }\n",
       "\n",
       "    .dataframe thead th {\n",
       "        text-align: right;\n",
       "    }\n",
       "</style>\n",
       "<table border=\"1\" class=\"dataframe\">\n",
       "  <thead>\n",
       "    <tr style=\"text-align: right;\">\n",
       "      <th></th>\n",
       "      <th>Location</th>\n",
       "    </tr>\n",
       "  </thead>\n",
       "  <tbody>\n",
       "    <tr>\n",
       "      <th>0</th>\n",
       "      <td>33620 21st Avenue SW,Federal Way, WA,98023</td>\n",
       "    </tr>\n",
       "    <tr>\n",
       "      <th>1</th>\n",
       "      <td>6615 North Beach Street,Ft Worth,TX,76137</td>\n",
       "    </tr>\n",
       "    <tr>\n",
       "      <th>2</th>\n",
       "      <td>1950 West Lake Houston Pkwy,Houston,TX,77379</td>\n",
       "    </tr>\n",
       "    <tr>\n",
       "      <th>3</th>\n",
       "      <td>1800 Busse Hwy,Des Plaines,IL,60016</td>\n",
       "    </tr>\n",
       "    <tr>\n",
       "      <th>4</th>\n",
       "      <td>60 E Lake St, Northlake, IL 60164</td>\n",
       "    </tr>\n",
       "    <tr>\n",
       "      <th>5</th>\n",
       "      <td>203 Broadway,Jersey City,NJ,07306</td>\n",
       "    </tr>\n",
       "    <tr>\n",
       "      <th>6</th>\n",
       "      <td>606 Vandalia Street,St Paul,MN,55114</td>\n",
       "    </tr>\n",
       "    <tr>\n",
       "      <th>7</th>\n",
       "      <td>63 Cortlandt Street,Tarrytown,NY,10591</td>\n",
       "    </tr>\n",
       "    <tr>\n",
       "      <th>8</th>\n",
       "      <td>356 Belmont Avenue,Brooklyn,NY,11207</td>\n",
       "    </tr>\n",
       "    <tr>\n",
       "      <th>9</th>\n",
       "      <td>87-40 121st Street,Queens,NY,11418</td>\n",
       "    </tr>\n",
       "  </tbody>\n",
       "</table>\n",
       "</div>"
      ],
      "text/plain": [
       "                                       Location\n",
       "0    33620 21st Avenue SW,Federal Way, WA,98023\n",
       "1     6615 North Beach Street,Ft Worth,TX,76137\n",
       "2  1950 West Lake Houston Pkwy,Houston,TX,77379\n",
       "3           1800 Busse Hwy,Des Plaines,IL,60016\n",
       "4             60 E Lake St, Northlake, IL 60164\n",
       "5             203 Broadway,Jersey City,NJ,07306\n",
       "6          606 Vandalia Street,St Paul,MN,55114\n",
       "7        63 Cortlandt Street,Tarrytown,NY,10591\n",
       "8          356 Belmont Avenue,Brooklyn,NY,11207\n",
       "9            87-40 121st Street,Queens,NY,11418"
      ]
     },
     "metadata": {},
     "output_type": "display_data"
    }
   ],
   "source": [
    "df = pd.DataFrame({'Location':\n",
    "                  ['33620 21st Avenue SW,Federal Way, WA,98023',\n",
    "                  '6615 North Beach Street,Ft Worth,TX,76137',\n",
    "                  '1950 West Lake Houston Pkwy,Houston,TX,77379',\n",
    "                  '1800 Busse Hwy,Des Plaines,IL,60016',\n",
    "                   '60 E Lake St, Northlake, IL 60164',\n",
    "                  '203 Broadway,Jersey City,NJ,07306',\n",
    "                  '606 Vandalia Street,St Paul,MN,55114',\n",
    "                  '63 Cortlandt Street,Tarrytown,NY,10591',\n",
    "                  '356 Belmont Avenue,Brooklyn,NY,11207',\n",
    "                  '87-40 121st Street,Queens,NY,11418']})\n",
    "display(df)"
   ]
  },
  {
   "cell_type": "code",
   "execution_count": 4,
   "id": "24366b9c",
   "metadata": {},
   "outputs": [
    {
     "data": {
      "text/html": [
       "<div>\n",
       "<style scoped>\n",
       "    .dataframe tbody tr th:only-of-type {\n",
       "        vertical-align: middle;\n",
       "    }\n",
       "\n",
       "    .dataframe tbody tr th {\n",
       "        vertical-align: top;\n",
       "    }\n",
       "\n",
       "    .dataframe thead th {\n",
       "        text-align: right;\n",
       "    }\n",
       "</style>\n",
       "<table border=\"1\" class=\"dataframe\">\n",
       "  <thead>\n",
       "    <tr style=\"text-align: right;\">\n",
       "      <th></th>\n",
       "      <th>Location</th>\n",
       "      <th>location_lat</th>\n",
       "      <th>location_long</th>\n",
       "    </tr>\n",
       "  </thead>\n",
       "  <tbody>\n",
       "    <tr>\n",
       "      <th>0</th>\n",
       "      <td>33620 21st Avenue SW,Federal Way, WA,98023</td>\n",
       "      <td>47.300003</td>\n",
       "      <td>-122.358983</td>\n",
       "    </tr>\n",
       "    <tr>\n",
       "      <th>1</th>\n",
       "      <td>6615 North Beach Street,Ft Worth,TX,76137</td>\n",
       "      <td>32.860554</td>\n",
       "      <td>-97.290165</td>\n",
       "    </tr>\n",
       "    <tr>\n",
       "      <th>2</th>\n",
       "      <td>1950 West Lake Houston Pkwy,Houston,TX,77379</td>\n",
       "      <td>30.036597</td>\n",
       "      <td>-95.174430</td>\n",
       "    </tr>\n",
       "    <tr>\n",
       "      <th>3</th>\n",
       "      <td>1800 Busse Hwy,Des Plaines,IL,60016</td>\n",
       "      <td>42.037934</td>\n",
       "      <td>-87.878614</td>\n",
       "    </tr>\n",
       "    <tr>\n",
       "      <th>4</th>\n",
       "      <td>60 E Lake St, Northlake, IL 60164</td>\n",
       "      <td>41.900986</td>\n",
       "      <td>-87.899515</td>\n",
       "    </tr>\n",
       "    <tr>\n",
       "      <th>5</th>\n",
       "      <td>203 Broadway,Jersey City,NJ,07306</td>\n",
       "      <td>40.736895</td>\n",
       "      <td>-74.075136</td>\n",
       "    </tr>\n",
       "    <tr>\n",
       "      <th>6</th>\n",
       "      <td>606 Vandalia Street,St Paul,MN,55114</td>\n",
       "      <td>44.959152</td>\n",
       "      <td>-93.189981</td>\n",
       "    </tr>\n",
       "    <tr>\n",
       "      <th>7</th>\n",
       "      <td>63 Cortlandt Street,Tarrytown,NY,10591</td>\n",
       "      <td>41.078364</td>\n",
       "      <td>-73.864589</td>\n",
       "    </tr>\n",
       "    <tr>\n",
       "      <th>8</th>\n",
       "      <td>356 Belmont Avenue,Brooklyn,NY,11207</td>\n",
       "      <td>40.670525</td>\n",
       "      <td>-73.896786</td>\n",
       "    </tr>\n",
       "    <tr>\n",
       "      <th>9</th>\n",
       "      <td>87-40 121st Street,Queens,NY,11418</td>\n",
       "      <td>40.699428</td>\n",
       "      <td>-73.828646</td>\n",
       "    </tr>\n",
       "  </tbody>\n",
       "</table>\n",
       "</div>"
      ],
      "text/plain": [
       "                                       Location  location_lat  location_long\n",
       "0    33620 21st Avenue SW,Federal Way, WA,98023     47.300003    -122.358983\n",
       "1     6615 North Beach Street,Ft Worth,TX,76137     32.860554     -97.290165\n",
       "2  1950 West Lake Houston Pkwy,Houston,TX,77379     30.036597     -95.174430\n",
       "3           1800 Busse Hwy,Des Plaines,IL,60016     42.037934     -87.878614\n",
       "4             60 E Lake St, Northlake, IL 60164     41.900986     -87.899515\n",
       "5             203 Broadway,Jersey City,NJ,07306     40.736895     -74.075136\n",
       "6          606 Vandalia Street,St Paul,MN,55114     44.959152     -93.189981\n",
       "7        63 Cortlandt Street,Tarrytown,NY,10591     41.078364     -73.864589\n",
       "8          356 Belmont Avenue,Brooklyn,NY,11207     40.670525     -73.896786\n",
       "9            87-40 121st Street,Queens,NY,11418     40.699428     -73.828646"
      ]
     },
     "metadata": {},
     "output_type": "display_data"
    }
   ],
   "source": [
    "geolocator = Nominatim(user_agent=\"myApp\")\n",
    "\n",
    "df[['location_lat', 'location_long']] = df['Location'].apply(\n",
    "    geolocator.geocode).apply(lambda x: pd.Series(\n",
    "    [x.latitude, x.longitude], index=['location_lat', 'location_long']))\n",
    "display(df)"
   ]
  },
  {
   "cell_type": "code",
   "execution_count": 5,
   "id": "c39a0a1c",
   "metadata": {},
   "outputs": [],
   "source": [
    "OUTPUT_PATH = './'\n",
    "OUTPUT_FILENAME = 'Latitude_Longitude_wAddress.csv'\n",
    "df.to_csv(OUTPUT_PATH+OUTPUT_FILENAME, index=False)"
   ]
  },
  {
   "cell_type": "code",
   "execution_count": null,
   "id": "ed40121d",
   "metadata": {},
   "outputs": [],
   "source": []
  }
 ],
 "metadata": {
  "kernelspec": {
   "display_name": "Python 3",
   "language": "python",
   "name": "python3"
  },
  "language_info": {
   "codemirror_mode": {
    "name": "ipython",
    "version": 3
   },
   "file_extension": ".py",
   "mimetype": "text/x-python",
   "name": "python",
   "nbconvert_exporter": "python",
   "pygments_lexer": "ipython3",
   "version": "3.8.8"
  }
 },
 "nbformat": 4,
 "nbformat_minor": 5
}
